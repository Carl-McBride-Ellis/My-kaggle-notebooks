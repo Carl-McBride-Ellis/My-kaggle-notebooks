{
 "cells": [
  {
   "cell_type": "markdown",
   "metadata": {
    "papermill": {
     "duration": 0.007376,
     "end_time": "2020-11-22T08:23:54.464037",
     "exception": false,
     "start_time": "2020-11-22T08:23:54.456661",
     "status": "completed"
    },
    "tags": []
   },
   "source": [
    "# Saving our machine learning model to a file using [pickle](https://docs.python.org/3/library/pickle.html)\n",
    "When deploying our machine learning model using web frameworks such as [Django](https://www.djangoproject.com/) or [Flask](https://flask.palletsprojects.com) we will need to save our model to a file. He we shall provide an example of doing this by writing out a python [pickle](https://docs.python.org/3/library/pickle.html) file.\n",
    "## A simple model of the Titanic\n",
    "We shall use a very simple model of the [Titanic data](https://www.kaggle.com/c/titanic) which is just based on [sex and class](https://www.kaggle.com/carlmcbrideellis/titanic-some-sex-a-bit-of-class-and-a-tree). In this simple model everyone dies except females who were in either 1st or 2nd class:"
   ]
  },
  {
   "cell_type": "code",
   "execution_count": 1,
   "metadata": {
    "_cell_guid": "b1076dfc-b9ad-4769-8c92-a6c4dae69d19",
    "_kg_hide-output": true,
    "_uuid": "8f2839f25d086af736a60e9eeb907d3b93b6e0e5",
    "execution": {
     "iopub.execute_input": "2020-11-22T08:23:54.490029Z",
     "iopub.status.busy": "2020-11-22T08:23:54.489308Z",
     "iopub.status.idle": "2020-11-22T08:23:55.765023Z",
     "shell.execute_reply": "2020-11-22T08:23:55.764446Z"
    },
    "papermill": {
     "duration": 1.292926,
     "end_time": "2020-11-22T08:23:55.765147",
     "exception": false,
     "start_time": "2020-11-22T08:23:54.472221",
     "status": "completed"
    },
    "tags": []
   },
   "outputs": [
    {
     "data": {
      "text/plain": [
       "DecisionTreeClassifier(max_depth=2, random_state=42)"
      ]
     },
     "execution_count": 1,
     "metadata": {},
     "output_type": "execute_result"
    }
   ],
   "source": [
    "import pandas  as pd\n",
    "import numpy as np\n",
    "import matplotlib.pyplot as plt\n",
    "\n",
    "train_data = pd.read_csv('../input/titanic/train.csv')\n",
    "test_data  = pd.read_csv('../input/titanic/test.csv')\n",
    "\n",
    "features = [\"Sex\", \"Pclass\"]\n",
    "\n",
    "X_train       = pd.get_dummies(train_data[features])\n",
    "y_train       = train_data[\"Survived\"]\n",
    "X_test        = pd.get_dummies(test_data[features])\n",
    "\n",
    "from sklearn import tree\n",
    "model = tree.DecisionTreeClassifier(criterion='gini',\n",
    "                                         splitter='best',\n",
    "                                         max_depth=2,\n",
    "                                         random_state=42)\n",
    "model.fit(X_train, y_train)"
   ]
  },
  {
   "cell_type": "markdown",
   "metadata": {
    "papermill": {
     "duration": 0.006491,
     "end_time": "2020-11-22T08:23:55.779086",
     "exception": false,
     "start_time": "2020-11-22T08:23:55.772595",
     "status": "completed"
    },
    "tags": []
   },
   "source": [
    "now to save this model as a [pickle](https://docs.python.org/3/library/pickle.html) file. We provide a name for our saved model, here `titanic_model.sav`, which will be written out in binary mode (`wb`):"
   ]
  },
  {
   "cell_type": "code",
   "execution_count": 2,
   "metadata": {
    "execution": {
     "iopub.execute_input": "2020-11-22T08:23:55.798689Z",
     "iopub.status.busy": "2020-11-22T08:23:55.797775Z",
     "iopub.status.idle": "2020-11-22T08:23:55.802046Z",
     "shell.execute_reply": "2020-11-22T08:23:55.801435Z"
    },
    "papermill": {
     "duration": 0.016434,
     "end_time": "2020-11-22T08:23:55.802172",
     "exception": false,
     "start_time": "2020-11-22T08:23:55.785738",
     "status": "completed"
    },
    "tags": []
   },
   "outputs": [],
   "source": [
    "import pickle\n",
    "pickle.dump(model, open(\"titanic_model.sav\", 'wb'))"
   ]
  },
  {
   "cell_type": "markdown",
   "metadata": {
    "papermill": {
     "duration": 0.006526,
     "end_time": "2020-11-22T08:23:55.815642",
     "exception": false,
     "start_time": "2020-11-22T08:23:55.809116",
     "status": "completed"
    },
    "tags": []
   },
   "source": [
    "Now we run our notebook, and the pickle file `titanic_model.sav` should be located in the **Output** section. \n",
    "\n",
    "For the purposes of this demonstration I have saved the `titanic_model.sav` as a kaggle [dataset](https://www.kaggle.com/carlmcbrideellis/titanic-pickle-save) which we can now load back in and use.\n",
    "# Load in and use our pickle model"
   ]
  },
  {
   "cell_type": "code",
   "execution_count": 3,
   "metadata": {
    "execution": {
     "iopub.execute_input": "2020-11-22T08:23:55.837030Z",
     "iopub.status.busy": "2020-11-22T08:23:55.836005Z",
     "iopub.status.idle": "2020-11-22T08:23:55.839551Z",
     "shell.execute_reply": "2020-11-22T08:23:55.839043Z"
    },
    "papermill": {
     "duration": 0.017149,
     "end_time": "2020-11-22T08:23:55.839677",
     "exception": false,
     "start_time": "2020-11-22T08:23:55.822528",
     "status": "completed"
    },
    "tags": []
   },
   "outputs": [],
   "source": [
    "def make_a_prediction(Sex,Pclass):\n",
    "    import pickle\n",
    "    \n",
    "    if Sex == 1:\n",
    "        Sex_female = 1\n",
    "        Sex_male   = 0\n",
    "    else:\n",
    "        Sex_female = 0\n",
    "        Sex_male   = 1\n",
    "        \n",
    "    x = [[Pclass,Sex_female,Sex_male]]\n",
    "    # read in the model\n",
    "    my_model = pickle.load(open('../input/titanic-pickle-save/titanic_model.sav','rb'))\n",
    "    # make a prediction\n",
    "    prediction = my_model.predict(x)\n",
    "    if prediction == 0:\n",
    "        return \"not survived\"\n",
    "    else:\n",
    "        return \"survived\""
   ]
  },
  {
   "cell_type": "markdown",
   "metadata": {
    "papermill": {
     "duration": 0.006795,
     "end_time": "2020-11-22T08:23:55.853397",
     "exception": false,
     "start_time": "2020-11-22T08:23:55.846602",
     "status": "completed"
    },
    "tags": []
   },
   "source": [
    "now try out the model (`1` for female, `0` for male)\n",
    "Remember, in this simple model everyone dies except females who were in either 1st or 2nd class."
   ]
  },
  {
   "cell_type": "code",
   "execution_count": 4,
   "metadata": {
    "execution": {
     "iopub.execute_input": "2020-11-22T08:23:55.871994Z",
     "iopub.status.busy": "2020-11-22T08:23:55.871323Z",
     "iopub.status.idle": "2020-11-22T08:23:55.885258Z",
     "shell.execute_reply": "2020-11-22T08:23:55.884400Z"
    },
    "papermill": {
     "duration": 0.024798,
     "end_time": "2020-11-22T08:23:55.885447",
     "exception": false,
     "start_time": "2020-11-22T08:23:55.860649",
     "status": "completed"
    },
    "tags": []
   },
   "outputs": [
    {
     "name": "stdout",
     "output_type": "stream",
     "text": [
      "not survived\n"
     ]
    }
   ],
   "source": [
    "# female in 3rd class:\n",
    "print(make_a_prediction(1,3))"
   ]
  },
  {
   "cell_type": "code",
   "execution_count": 5,
   "metadata": {
    "execution": {
     "iopub.execute_input": "2020-11-22T08:23:55.905068Z",
     "iopub.status.busy": "2020-11-22T08:23:55.904414Z",
     "iopub.status.idle": "2020-11-22T08:23:55.909699Z",
     "shell.execute_reply": "2020-11-22T08:23:55.909134Z"
    },
    "papermill": {
     "duration": 0.016586,
     "end_time": "2020-11-22T08:23:55.909814",
     "exception": false,
     "start_time": "2020-11-22T08:23:55.893228",
     "status": "completed"
    },
    "tags": []
   },
   "outputs": [
    {
     "name": "stdout",
     "output_type": "stream",
     "text": [
      "survived\n"
     ]
    }
   ],
   "source": [
    "# female in 1st class:\n",
    "print(make_a_prediction(1,1))"
   ]
  },
  {
   "cell_type": "code",
   "execution_count": 6,
   "metadata": {
    "execution": {
     "iopub.execute_input": "2020-11-22T08:23:55.930208Z",
     "iopub.status.busy": "2020-11-22T08:23:55.929377Z",
     "iopub.status.idle": "2020-11-22T08:23:55.935375Z",
     "shell.execute_reply": "2020-11-22T08:23:55.934002Z"
    },
    "papermill": {
     "duration": 0.017948,
     "end_time": "2020-11-22T08:23:55.935591",
     "exception": false,
     "start_time": "2020-11-22T08:23:55.917643",
     "status": "completed"
    },
    "tags": []
   },
   "outputs": [
    {
     "name": "stdout",
     "output_type": "stream",
     "text": [
      "not survived\n"
     ]
    }
   ],
   "source": [
    "# male in 1st class:\n",
    "print(make_a_prediction(0,1))"
   ]
  },
  {
   "cell_type": "markdown",
   "metadata": {
    "papermill": {
     "duration": 0.008056,
     "end_time": "2020-11-22T08:23:55.952909",
     "exception": false,
     "start_time": "2020-11-22T08:23:55.944853",
     "status": "completed"
    },
    "tags": []
   },
   "source": [
    "Looks like everything is working fine!"
   ]
  }
 ],
 "metadata": {
  "kernelspec": {
   "display_name": "Python 3",
   "language": "python",
   "name": "python3"
  },
  "language_info": {
   "codemirror_mode": {
    "name": "ipython",
    "version": 3
   },
   "file_extension": ".py",
   "mimetype": "text/x-python",
   "name": "python",
   "nbconvert_exporter": "python",
   "pygments_lexer": "ipython3",
   "version": "3.7.6"
  },
  "papermill": {
   "duration": 6.176688,
   "end_time": "2020-11-22T08:23:56.069030",
   "environment_variables": {},
   "exception": null,
   "input_path": "__notebook__.ipynb",
   "output_path": "__notebook__.ipynb",
   "parameters": {},
   "start_time": "2020-11-22T08:23:49.892342",
   "version": "2.1.0"
  }
 },
 "nbformat": 4,
 "nbformat_minor": 4
}
