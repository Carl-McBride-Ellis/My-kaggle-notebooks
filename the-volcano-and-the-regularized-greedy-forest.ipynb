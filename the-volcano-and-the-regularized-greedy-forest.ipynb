{
 "cells": [
  {
   "cell_type": "markdown",
   "metadata": {
    "papermill": {
     "duration": 0.008068,
     "end_time": "2020-10-15T04:58:04.398484",
     "exception": false,
     "start_time": "2020-10-15T04:58:04.390416",
     "status": "completed"
    },
    "tags": []
   },
   "source": [
    "# The Volcano and the Regularized Greedy Forest\n",
    "This is a demonstration script using the ***Regularized Greedy Forest*** regressor (RGF)(see my notebook [\"Introduction to the Regularized Greedy Forest\"](https://www.kaggle.com/carlmcbrideellis/introduction-to-the-regularized-greedy-forest)) for the [INGV - Volcanic Eruption Prediction](https://www.kaggle.com/c/predict-volcanic-eruptions-ingv-oe) competition. The RGF performs as well as XGBoost, and is a very useful estimator to include when one is creating a [stacking ensemble](https://www.kaggle.com/carlmcbrideellis/stacking-ensemble-using-the-house-prices-data), which combines multiple estimators to produce one strong result. For the input I use the `train.csv` and `test.csv` produced by the excellent notebook [\"INGV Volcanic Eruption Prediction - LGBM Baseline\"](https://www.kaggle.com/ajcostarino/ingv-volcanic-eruption-prediction-lgbm-baseline) written by [Adam James](https://www.kaggle.com/ajcostarino). (For completeness I include these `train.csv` and `test.csv` files in the **Output** section of this notebook, as they take nearly three hours to produce). I have not undertaken any feature selection (for example using the [Boruta-SHAP](https://www.kaggle.com/carlmcbrideellis/feature-selection-using-the-borutashap-package) package), nor have I performed any cross validation, hyperparameter tuning, *etc.* so there is *plenty* of room for improvement.\n",
    "\n",
    "I hope you find the RGF technique useful, and good luck!"
   ]
  },
  {
   "cell_type": "code",
   "execution_count": 1,
   "metadata": {
    "_cell_guid": "b1076dfc-b9ad-4769-8c92-a6c4dae69d19",
    "_uuid": "8f2839f25d086af736a60e9eeb907d3b93b6e0e5",
    "execution": {
     "iopub.execute_input": "2020-10-15T04:58:04.418909Z",
     "iopub.status.busy": "2020-10-15T04:58:04.417843Z",
     "iopub.status.idle": "2020-10-15T04:58:04.420200Z",
     "shell.execute_reply": "2020-10-15T04:58:04.420841Z"
    },
    "papermill": {
     "duration": 0.015292,
     "end_time": "2020-10-15T04:58:04.421044",
     "exception": false,
     "start_time": "2020-10-15T04:58:04.405752",
     "status": "completed"
    },
    "tags": []
   },
   "outputs": [],
   "source": [
    "import pandas  as pd\n",
    "import numpy   as np"
   ]
  },
  {
   "cell_type": "code",
   "execution_count": 2,
   "metadata": {
    "_cell_guid": "79c7e3d0-c299-4dcb-8224-4455121ee9b0",
    "_uuid": "d629ff2d2480ee46fbb7e2d37f6b5fab8052498a",
    "collapsed": true,
    "execution": {
     "iopub.execute_input": "2020-10-15T04:58:04.444517Z",
     "iopub.status.busy": "2020-10-15T04:58:04.443710Z",
     "iopub.status.idle": "2020-10-15T04:58:05.772174Z",
     "shell.execute_reply": "2020-10-15T04:58:05.771358Z"
    },
    "papermill": {
     "duration": 1.34346,
     "end_time": "2020-10-15T04:58:05.772302",
     "exception": false,
     "start_time": "2020-10-15T04:58:04.428842",
     "status": "completed"
    },
    "tags": []
   },
   "outputs": [],
   "source": [
    "train  = pd.read_csv('../input/ingv-lgbm-baseline-the-train-test-csv-files/volcano_train.csv')\n",
    "test   = pd.read_csv('../input/ingv-lgbm-baseline-the-train-test-csv-files/volcano_test.csv')\n",
    "sample = pd.read_csv('../input/predict-volcanic-eruptions-ingv-oe/sample_submission.csv')"
   ]
  },
  {
   "cell_type": "code",
   "execution_count": 3,
   "metadata": {
    "execution": {
     "iopub.execute_input": "2020-10-15T04:58:05.821369Z",
     "iopub.status.busy": "2020-10-15T04:58:05.820443Z",
     "iopub.status.idle": "2020-10-15T04:58:05.823948Z",
     "shell.execute_reply": "2020-10-15T04:58:05.823333Z"
    },
    "papermill": {
     "duration": 0.044217,
     "end_time": "2020-10-15T04:58:05.824096",
     "exception": false,
     "start_time": "2020-10-15T04:58:05.779879",
     "status": "completed"
    },
    "tags": []
   },
   "outputs": [],
   "source": [
    "X_train       = train.drop([\"segment_id\",\"time_to_eruption\"],axis=1)\n",
    "y_train       = train[\"time_to_eruption\"]\n",
    "X_test        = test.drop(\"segment_id\",axis=1)"
   ]
  },
  {
   "cell_type": "code",
   "execution_count": 4,
   "metadata": {
    "execution": {
     "iopub.execute_input": "2020-10-15T04:58:05.846584Z",
     "iopub.status.busy": "2020-10-15T04:58:05.845802Z",
     "iopub.status.idle": "2020-10-15T05:01:51.750693Z",
     "shell.execute_reply": "2020-10-15T05:01:51.749951Z"
    },
    "papermill": {
     "duration": 225.919053,
     "end_time": "2020-10-15T05:01:51.750828",
     "exception": false,
     "start_time": "2020-10-15T04:58:05.831775",
     "status": "completed"
    },
    "tags": []
   },
   "outputs": [],
   "source": [
    "from rgf.sklearn import RGFRegressor\n",
    "\n",
    "regressor = RGFRegressor(max_leaf=2000, \n",
    "                         algorithm=\"RGF_Sib\", \n",
    "                         test_interval=100, \n",
    "                         loss=\"LS\",\n",
    "                         verbose=False)\n",
    "\n",
    "regressor.fit(X_train, y_train)\n",
    "predictions = regressor.predict(X_test)"
   ]
  },
  {
   "cell_type": "code",
   "execution_count": 5,
   "metadata": {
    "execution": {
     "iopub.execute_input": "2020-10-15T05:01:51.774965Z",
     "iopub.status.busy": "2020-10-15T05:01:51.774198Z",
     "iopub.status.idle": "2020-10-15T05:01:52.096620Z",
     "shell.execute_reply": "2020-10-15T05:01:52.095869Z"
    },
    "papermill": {
     "duration": 0.337809,
     "end_time": "2020-10-15T05:01:52.096757",
     "exception": false,
     "start_time": "2020-10-15T05:01:51.758948",
     "status": "completed"
    },
    "tags": []
   },
   "outputs": [],
   "source": [
    "sample.iloc[:,1:] = predictions\n",
    "sample.to_csv('submission.csv',index=False)"
   ]
  },
  {
   "cell_type": "markdown",
   "metadata": {
    "papermill": {
     "duration": 0.008268,
     "end_time": "2020-10-15T05:01:52.113284",
     "exception": false,
     "start_time": "2020-10-15T05:01:52.105016",
     "status": "completed"
    },
    "tags": []
   },
   "source": [
    "#### Appendix\n",
    "Write out a copy of the `train.csv` and `test.csv` files used in this work."
   ]
  },
  {
   "cell_type": "code",
   "execution_count": 6,
   "metadata": {
    "execution": {
     "iopub.execute_input": "2020-10-15T05:01:52.136671Z",
     "iopub.status.busy": "2020-10-15T05:01:52.135842Z",
     "iopub.status.idle": "2020-10-15T05:02:00.207154Z",
     "shell.execute_reply": "2020-10-15T05:02:00.206348Z"
    },
    "papermill": {
     "duration": 8.085907,
     "end_time": "2020-10-15T05:02:00.207296",
     "exception": false,
     "start_time": "2020-10-15T05:01:52.121389",
     "status": "completed"
    },
    "tags": []
   },
   "outputs": [],
   "source": [
    "train.to_csv('volcano_train.csv')\n",
    "test.to_csv('volcano_test.csv')"
   ]
  }
 ],
 "metadata": {
  "kernelspec": {
   "display_name": "Python 3",
   "language": "python",
   "name": "python3"
  },
  "language_info": {
   "codemirror_mode": {
    "name": "ipython",
    "version": 3
   },
   "file_extension": ".py",
   "mimetype": "text/x-python",
   "name": "python",
   "nbconvert_exporter": "python",
   "pygments_lexer": "ipython3",
   "version": "3.7.6"
  },
  "papermill": {
   "duration": 240.770603,
   "end_time": "2020-10-15T05:02:00.323612",
   "environment_variables": {},
   "exception": null,
   "input_path": "__notebook__.ipynb",
   "output_path": "__notebook__.ipynb",
   "parameters": {},
   "start_time": "2020-10-15T04:57:59.553009",
   "version": "2.1.0"
  }
 },
 "nbformat": 4,
 "nbformat_minor": 4
}
