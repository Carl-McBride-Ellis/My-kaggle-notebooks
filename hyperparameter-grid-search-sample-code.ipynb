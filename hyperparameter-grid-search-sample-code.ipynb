{
 "cells": [
  {
   "cell_type": "markdown",
   "execution_count": null,
   "metadata": {},
   "source": [
    "### Dear all,\n",
    "This is a sample code for performing a hyperparameter grid search using the [GridSearchCV](https://scikit-learn.org/stable/modules/generated/sklearn.model_selection.GridSearchCV.html) routine from scikit-learn. We shall use the default 5-fold [cross validation](https://en.wikipedia.org/wiki/Cross-validation_(statistics&#41;). Finally, for the classifier we shall use the [RandomForestClassifier](https://scikit-learn.org/stable/modules/generated/sklearn.ensemble.RandomForestClassifier.html), also from scikit-learn.\n"
   ]
  },
  {
   "cell_type": "code",
   "execution_count": 1,
   "metadata": {
    "_cell_guid": "9251ec7a-15b5-4b3a-89f8-87e94dea8b5f",
    "_uuid": "69c9d0fd-8ab0-4f0e-b431-0755b8f7adf8"
   },
   "outputs": [
    {
     "name": "stdout",
     "output_type": "stream",
     "text": [
      "The best score is  0.8092084614901763\n",
      "The best parameters are  {'min_samples_leaf': 20, 'min_samples_split': 10, 'n_estimators': 5}\n"
     ]
    }
   ],
   "source": [
    "#!/usr/bin/python3\n",
    "# coding=utf-8\n",
    "#===========================================================================\n",
    "# This is a simple script to perform a classification on the kaggle \n",
    "# 'Titanic' data set using a grid search, in conjunction with a \n",
    "# random forest classifier\n",
    "# Carl McBride Ellis (1.V.2020)\n",
    "#===========================================================================\n",
    "#===========================================================================\n",
    "# load up the libraries\n",
    "#===========================================================================\n",
    "import pandas as pd\n",
    "import numpy  as np\n",
    "\n",
    "#===========================================================================\n",
    "# read in the data\n",
    "#===========================================================================\n",
    "train_data = pd.read_csv('../input/titanic/train.csv')\n",
    "test_data  = pd.read_csv('../input/titanic/test.csv')\n",
    "\n",
    "#===========================================================================\n",
    "# select some features of interest (\"ay, there's the rub\", Shakespeare)\n",
    "#===========================================================================\n",
    "features = [\"Pclass\", \"Sex\", \"SibSp\", \"Parch\"]\n",
    "\n",
    "#===========================================================================\n",
    "# for the features that are categorical we use pd.get_dummies:\n",
    "# \"Convert categorical variable into dummy/indicator variables.\"\n",
    "#===========================================================================\n",
    "X_train       = pd.get_dummies(train_data[features])\n",
    "y_train       = train_data[\"Survived\"]\n",
    "final_X_test  = pd.get_dummies(test_data[features])\n",
    "\n",
    "#===========================================================================\n",
    "# hyperparameter grid search using scikit-learn GridSearchCV\n",
    "# we use the default 5-fold cross validation\n",
    "#===========================================================================\n",
    "from sklearn.model_selection import GridSearchCV\n",
    "# we use the random forest classifier\n",
    "from sklearn.ensemble import RandomForestClassifier\n",
    "classifier = RandomForestClassifier(criterion='gini', max_features='auto')\n",
    "gs = GridSearchCV(cv=5, error_score=np.nan, estimator=classifier,\n",
    "# dictionaries containing values to try for the parameters\n",
    "param_grid={'min_samples_leaf':  [20, 25, 30],\n",
    "            'min_samples_split': [2, 5, 7, 10],\n",
    "            'n_estimators':      [3, 5, 10]})\n",
    "gs.fit(X_train, y_train)\n",
    "\n",
    "# grid search has finished, now echo the results to the screen\n",
    "print(\"The best score is \",gs.best_score_)\n",
    "print(\"The best parameters are \",gs.best_params_)\n",
    "the_best_parameters = gs.best_params_\n",
    "\n",
    "#===========================================================================\n",
    "# now perform the final fit, using the best values from the grid search\n",
    "#===========================================================================\n",
    "classifier = RandomForestClassifier(criterion='gini', max_features='auto',\n",
    "             min_samples_leaf  = the_best_parameters[\"min_samples_leaf\"],\n",
    "             min_samples_split = the_best_parameters[\"min_samples_split\"],\n",
    "             n_estimators      = the_best_parameters[\"n_estimators\"])\n",
    "classifier.fit(X_train, y_train)\n",
    "\n",
    "#===========================================================================\n",
    "# use the model to predict 'Survived' for the test data\n",
    "#===========================================================================\n",
    "predictions = classifier.predict(final_X_test)\n",
    "\n",
    "#===========================================================================\n",
    "# write out CSV submission file\n",
    "#===========================================================================\n",
    "output = pd.DataFrame({'PassengerId': test_data.PassengerId, \n",
    "                       'Survived': predictions})\n",
    "output.to_csv('submission.csv', index=False)"
   ]
  }
 ],
 "metadata": {
  "kernelspec": {
   "display_name": "Python 3",
   "language": "python",
   "name": "python3"
  },
  "language_info": {
   "codemirror_mode": {
    "name": "ipython",
    "version": 3
   },
   "file_extension": ".py",
   "mimetype": "text/x-python",
   "name": "python",
   "nbconvert_exporter": "python",
   "pygments_lexer": "ipython3",
   "version": "3.7.6"
  }
 },
 "nbformat": 4,
 "nbformat_minor": 4
}
