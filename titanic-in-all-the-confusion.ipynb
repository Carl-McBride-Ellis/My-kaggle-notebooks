{
 "cells": [
  {
   "attachments": {
    "image.png": {
     "image/png": "[encoded data removed]"
    }
   },
   "cell_type": "markdown",
   "metadata": {
    "papermill": {
     "duration": 0.015081,
     "end_time": "2020-09-26T09:22:19.586668",
     "exception": false,
     "start_time": "2020-09-26T09:22:19.571587",
     "status": "completed"
    },
    "tags": []
   },
   "source": [
    "# Titanic: In all the confusion...\n",
    "\n",
    "In this notebook we shall take a look at an aspect of classification known as the **confusion matrix**, here applied to the [Titanic data](https://www.kaggle.com/c/titanic). We shall then take a look at the ROC curve, as well as the $F_1$ score.\n",
    "\n",
    "A confusion matrix is a tool designed to help us understand a little better how well our classifier is performing. An *accuracy score*, like that returned by kaggle for our submission file, lets us know a number indicating what ratio of predictions were correct (0 is not one classification was correct, and 1 is perfect!). The confusion matrix does the same thing, but goes into a little more detail; this time it provides us with four values:\n",
    "* The number of times our classifier produced **true negatives** (TN)\n",
    "* The number of times our classifier produced **true positives** (TP)\n",
    "* The number of times our classifier produced **false positives** (FP), a type I error\n",
    "* The number of times our classifier produced **false negatives** (FN), a type II error\n",
    "\n",
    "which scikit-learn returns in the following format, hence the name matrix (note that there is no standard convention for arrangement of this matrix):\n",
    "\n",
    "![image.png](attachment:image.png)\n",
    "\n",
    "\n",
    "The *accuracy* is given by $\\frac{(TN + TP)}{(TN + TP + FP +FN)}$, in other words, the true values divided by all the values. And finally, another measure one may come across is the **$F_1$ score**, which is given by:\n",
    "\n",
    "$$ F_1 = 2\\frac{precision . recall}{precision + recall}$$\n",
    "\n",
    "\n",
    "where the *precision* is given by $\\frac{TP}{TP + FP}$, and *recall* by $\\frac{TP}{TP + FN}$.\n",
    "\n",
    "These Wikipedia pages have excellent descriptions of the meaning of these terms: \n",
    "* [Confusion matrix](https://en.wikipedia.org/wiki/Confusion_matrix)\n",
    "* [False positives and false negatives](https://en.wikipedia.org/wiki/False_positives_and_false_negatives)\n",
    "* [Type I and type II errors](https://en.wikipedia.org/wiki/Type_I_and_type_II_errors)\n",
    "* [Receiver operating characteristic](https://en.wikipedia.org/wiki/Receiver_operating_characteristic)\n",
    "* [F1 score](https://en.wikipedia.org/wiki/F1_score)\n",
    "\n",
    "\n",
    "\n",
    "I am now going to produce two confusion matrices for two different Titanic submission files. Rather than run some code here to create a `submission.csv` I am going to make use of a file that we all have access to, and also a file we can easily create:\n",
    "1. `gender_submission.csv`   this is the file that comes free with the competition\n",
    "2. `all_0s.csv`              is a submission file in which all the passengers have, sadly, been assigned a 0 (i.e. no survivors)\n",
    "\n",
    "We shall compare these files containing our results to what is known as the *ground truth*, contained in `submission_solution.csv`. This is the infamous file that contains the answers, and will score a 1.00000 on the LB.\n",
    "\n",
    "We are going to be using the following routines from the [scikit-learn library](https://scikit-learn.org/stable/):\n",
    "\n",
    "* [sklearn.metrics.accuracy_score](https://scikit-learn.org/stable/modules/generated/sklearn.metrics.accuracy_score.html): this routine is analogous to the one used by kaggle to calculate your score on the leaderboard when you submit your file.\n",
    "* [sklearn.metrics.confusion_matrix](https://scikit-learn.org/stable/modules/generated/sklearn.metrics.confusion_matrix.html): this routine will calculate our confusion matrix.\n",
    "* [sklearn.metrics.f1_score](https://scikit-learn.org/stable/modules/generated/sklearn.metrics.f1_score.html) which returns the $F_1$ score.\n",
    "* [sklearn.metrics.roc_curve](https://scikit-learn.org/stable/modules/generated/sklearn.metrics.roc_curve.html) which computes the Receiver Operating Characteristic (ROC) curve.\n",
    "* [sklearn.metrics.roc_auc_score](https://scikit-learn.org/stable/modules/generated/sklearn.metrics.roc_auc_score.html) which computes the Area Under the Receiver Operating Characteristic Curve (ROC AUC) from prediction scores.\n",
    "\n",
    "First we shall import the libraries that we will need, and then we shall read in the three csv files as pandas dataframes:"
   ]
  },
  {
   "cell_type": "code",
   "execution_count": 1,
   "metadata": {
    "_cell_guid": "b1076dfc-b9ad-4769-8c92-a6c4dae69d19",
    "_uuid": "8f2839f25d086af736a60e9eeb907d3b93b6e0e5",
    "execution": {
     "iopub.execute_input": "2020-09-26T09:22:19.620187Z",
     "iopub.status.busy": "2020-09-26T09:22:19.619470Z",
     "iopub.status.idle": "2020-09-26T09:22:20.969625Z",
     "shell.execute_reply": "2020-09-26T09:22:20.970317Z"
    },
    "papermill": {
     "duration": 1.370761,
     "end_time": "2020-09-26T09:22:20.970555",
     "exception": false,
     "start_time": "2020-09-26T09:22:19.599794",
     "status": "completed"
    },
    "tags": []
   },
   "outputs": [],
   "source": [
    "import pandas  as pd\n",
    "import matplotlib.pyplot as plt\n",
    "import seaborn as sn\n",
    "from sklearn.metrics import accuracy_score\n",
    "from sklearn.metrics import confusion_matrix\n",
    "from sklearn.metrics import f1_score\n",
    "\n",
    "# read in the files that I am going to use:\n",
    "gender   = pd.read_csv('../input/titanic/gender_submission.csv')  \n",
    "perfect  = pd.read_csv('../input/submission-solution/submission_solution.csv')\n",
    "allZeros = pd.read_csv('../input/titanic-all-zeros-csv-file/all_0s.csv')\n"
   ]
  },
  {
   "cell_type": "markdown",
   "metadata": {
    "papermill": {
     "duration": 0.012902,
     "end_time": "2020-09-26T09:22:20.997074",
     "exception": false,
     "start_time": "2020-09-26T09:22:20.984172",
     "status": "completed"
    },
    "tags": []
   },
   "source": [
    "## gender_submission.csv\n",
    "\n",
    "First let us calculate the accuracy score for the `gender_submission.csv` file:"
   ]
  },
  {
   "cell_type": "code",
   "execution_count": 2,
   "metadata": {
    "execution": {
     "iopub.execute_input": "2020-09-26T09:22:21.027040Z",
     "iopub.status.busy": "2020-09-26T09:22:21.026379Z",
     "iopub.status.idle": "2020-09-26T09:22:21.037794Z",
     "shell.execute_reply": "2020-09-26T09:22:21.038371Z"
    },
    "papermill": {
     "duration": 0.028007,
     "end_time": "2020-09-26T09:22:21.038521",
     "exception": false,
     "start_time": "2020-09-26T09:22:21.010514",
     "status": "completed"
    },
    "tags": []
   },
   "outputs": [
    {
     "data": {
      "text/plain": [
       "0.7655502392344498"
      ]
     },
     "execution_count": 2,
     "metadata": {},
     "output_type": "execute_result"
    }
   ],
   "source": [
    "accuracy_score( perfect['Survived'] , gender['Survived'] )"
   ]
  },
  {
   "cell_type": "markdown",
   "metadata": {
    "papermill": {
     "duration": 0.013072,
     "end_time": "2020-09-26T09:22:21.065350",
     "exception": false,
     "start_time": "2020-09-26T09:22:21.052278",
     "status": "completed"
    },
    "tags": []
   },
   "source": [
    "This value (here with more decimal places) is what we see on the leaderboard.\n",
    "Now we shall calculate the confusion matrix (Note the order, which is important: the ground truth file, followed by our estimate file)"
   ]
  },
  {
   "cell_type": "code",
   "execution_count": 3,
   "metadata": {
    "execution": {
     "iopub.execute_input": "2020-09-26T09:22:21.099602Z",
     "iopub.status.busy": "2020-09-26T09:22:21.097971Z",
     "iopub.status.idle": "2020-09-26T09:22:21.105650Z",
     "shell.execute_reply": "2020-09-26T09:22:21.104978Z"
    },
    "papermill": {
     "duration": 0.026317,
     "end_time": "2020-09-26T09:22:21.105767",
     "exception": false,
     "start_time": "2020-09-26T09:22:21.079450",
     "status": "completed"
    },
    "tags": []
   },
   "outputs": [
    {
     "name": "stdout",
     "output_type": "stream",
     "text": [
      "[[214  46]\n",
      " [ 52 106]]\n"
     ]
    }
   ],
   "source": [
    "titanic_cm = confusion_matrix( perfect['Survived'] , gender['Survived'] )\n",
    "print(titanic_cm)"
   ]
  },
  {
   "cell_type": "markdown",
   "metadata": {
    "papermill": {
     "duration": 0.013686,
     "end_time": "2020-09-26T09:22:21.134006",
     "exception": false,
     "start_time": "2020-09-26T09:22:21.120320",
     "status": "completed"
    },
    "tags": []
   },
   "source": [
    "(It is important to note that the convention used by *scikit-learn* is the count of true negatives is $C_{0,0}$, false negatives is $C_{1,0}$, true positives is $C_{1,1}$ and false positives is $C_{0,1}$).\n",
    "\n",
    "We can make this look nicer, with some colours, using a [seaborn.heatmap](https://seaborn.pydata.org/generated/seaborn.heatmap.html):"
   ]
  },
  {
   "cell_type": "code",
   "execution_count": 4,
   "metadata": {
    "execution": {
     "iopub.execute_input": "2020-09-26T09:22:21.171559Z",
     "iopub.status.busy": "2020-09-26T09:22:21.170692Z",
     "iopub.status.idle": "2020-09-26T09:22:21.313798Z",
     "shell.execute_reply": "2020-09-26T09:22:21.313059Z"
    },
    "papermill": {
     "duration": 0.16589,
     "end_time": "2020-09-26T09:22:21.313936",
     "exception": false,
     "start_time": "2020-09-26T09:22:21.148046",
     "status": "completed"
    },
    "tags": []
   },
   "outputs": [
    {
     "data": {
      "image/png": "[encoded data removed]",
      "text/plain": [
       "<Figure size 360x360 with 1 Axes>"
      ]
     },
     "metadata": {},
     "output_type": "display_data"
    }
   ],
   "source": [
    "# convert the ndarray to a pandas dataframe\n",
    "cm_df = pd.DataFrame(titanic_cm)\n",
    "# set the size of the figure\n",
    "plt.figure(figsize = (5,5))\n",
    "sn.heatmap(cm_df, \n",
    "           annot=True, annot_kws={\"size\": 25},\n",
    "           fmt=\"d\",         # decimals format\n",
    "           xticklabels=False, \n",
    "           yticklabels=False,\n",
    "           cmap=\"viridis\", \n",
    "           cbar=False)\n",
    "plt.show()"
   ]
  },
  {
   "cell_type": "markdown",
   "metadata": {
    "papermill": {
     "duration": 0.016609,
     "end_time": "2020-09-26T09:22:21.347820",
     "exception": false,
     "start_time": "2020-09-26T09:22:21.331211",
     "status": "completed"
    },
    "tags": []
   },
   "source": [
    "We can do even more things with these values:"
   ]
  },
  {
   "cell_type": "code",
   "execution_count": 5,
   "metadata": {
    "execution": {
     "iopub.execute_input": "2020-09-26T09:22:21.394135Z",
     "iopub.status.busy": "2020-09-26T09:22:21.391467Z",
     "iopub.status.idle": "2020-09-26T09:22:21.401567Z",
     "shell.execute_reply": "2020-09-26T09:22:21.400920Z"
    },
    "papermill": {
     "duration": 0.036744,
     "end_time": "2020-09-26T09:22:21.401688",
     "exception": false,
     "start_time": "2020-09-26T09:22:21.364944",
     "status": "completed"
    },
    "tags": []
   },
   "outputs": [
    {
     "name": "stdout",
     "output_type": "stream",
     "text": [
      "Number of true negatives  (tn) =  214\n",
      "Number of true positives  (tp) =  106\n",
      "Number of false negatives (fn) =  52\n",
      "Number of false positives (fp) =  46\n",
      "Precision                                          = tp / (tp + fp) = 0.6973684210526315\n",
      "Recall or 'sensitivity' (aka. true positive rate)  = tp / (tp + fn) = 0.6708860759493671\n",
      "Specificity             (aka. true negative rate)  = tn / (tn + fp) = 0.823076923076923\n",
      "Fall out                (aka. false positive rate) = fp / (fp + tn) = 0.17692307692307693\n",
      "Miss rate               (aka. false negative rate) = fn / (fn + tp) = 0.3291139240506329\n"
     ]
    }
   ],
   "source": [
    "tn, fp, fn, tp = confusion_matrix(perfect['Survived'] , gender['Survived']).ravel()\n",
    "print(\"Number of true negatives  (tn) = \",tn)\n",
    "print(\"Number of true positives  (tp) = \",tp)\n",
    "print(\"Number of false negatives (fn) = \",fn)\n",
    "print(\"Number of false positives (fp) = \",fp)\n",
    "print(\"Precision                                          = tp / (tp + fp) =\", tp / (tp + fp))\n",
    "print(\"Recall or 'sensitivity' (aka. true positive rate)  = tp / (tp + fn) =\", tp / (tp + fn))\n",
    "print(\"Specificity             (aka. true negative rate)  = tn / (tn + fp) =\", tn / (tn + fp))\n",
    "print(\"Fall out                (aka. false positive rate) = fp / (fp + tn) =\", fp / (fp + tn))\n",
    "print(\"Miss rate               (aka. false negative rate) = fn / (fn + tp) =\", fn / (fn + tp))"
   ]
  },
  {
   "cell_type": "markdown",
   "metadata": {
    "papermill": {
     "duration": 0.014918,
     "end_time": "2020-09-26T09:22:21.432229",
     "exception": false,
     "start_time": "2020-09-26T09:22:21.417311",
     "status": "completed"
    },
    "tags": []
   },
   "source": [
    "In the Titanic competition the submission file contains 418 values that we have to classify. From our above score we can see that `0.7655502392344498 x 418 = 320` In other words, the `gender_submission.csv` file correctly identifies 320 of the values. What the confusion matrix tells us now, in more detail, is that we got 214 of the people who did not survive right, and 106 of the people who did survive right. But also that we killed 52 of the passengers in our model, and brought 46 of them back to life!\n",
    "## ROC curve\n",
    "In the above calculations we have also obtained the *true positive rate* (TPR, also known as the *recall*) and the *false positive rate* (FPR, or the *fall out*). If we plot the true positive rate with respect to the false positive rate we obtain what is known as the [receiver operating characteristic curve](https://en.wikipedia.org/wiki/Receiver_operating_characteristic) (or **ROC curve**). It is often deemed interesting to also calculate the *area under the curve* (**AUC**). An AUC score of 1 means a perfect classification, whereas a score of 0.5 means that your classifier is as about as useful as randomly flipping a coin. In this example, with only one point on the ROC curve, it is easy to calculate the AUC score using the [trapezoidal rule](https://en.wikipedia.org/wiki/Trapezoidal_rule):\n",
    "\n",
    "$$AUC = FPR\\frac{TPR}{2} + (1-FPR)\\frac{TPR +1}{2}$$"
   ]
  },
  {
   "cell_type": "code",
   "execution_count": 6,
   "metadata": {
    "execution": {
     "iopub.execute_input": "2020-09-26T09:22:21.475178Z",
     "iopub.status.busy": "2020-09-26T09:22:21.474314Z",
     "iopub.status.idle": "2020-09-26T09:22:21.666798Z",
     "shell.execute_reply": "2020-09-26T09:22:21.667299Z"
    },
    "papermill": {
     "duration": 0.218989,
     "end_time": "2020-09-26T09:22:21.667492",
     "exception": false,
     "start_time": "2020-09-26T09:22:21.448503",
     "status": "completed"
    },
    "tags": []
   },
   "outputs": [
    {
     "name": "stdout",
     "output_type": "stream",
     "text": [
      "AUC =  0.7469814995131451\n"
     ]
    },
    {
     "data": {
      "image/png": "[encoded data removed]",
      "text/plain": [
       "<Figure size 576x360 with 1 Axes>"
      ]
     },
     "metadata": {
      "needs_background": "light"
     },
     "output_type": "display_data"
    }
   ],
   "source": [
    "from sklearn.metrics import roc_curve\n",
    "fpr, tpr, thresholds = roc_curve( perfect['Survived'] , gender['Survived'] )\n",
    "\n",
    "from sklearn.metrics import roc_auc_score\n",
    "roc_auc = roc_auc_score( perfect['Survived'] , gender['Survived'] )\n",
    "print(\"AUC = \", roc_auc)\n",
    "\n",
    "plt.figure(figsize = (8,5))\n",
    "plt.plot(fpr, tpr, color='darkorange', lw=2, label='ROC curve (AUC = %0.5f)' % roc_auc)\n",
    "plt.plot([0, 1], [0, 1], color='navy', lw=2, linestyle='--')\n",
    "plt.xlim([0.0, 1.0])\n",
    "plt.ylim([0.0, 1.0])\n",
    "plt.xlabel('False Positive Rate')\n",
    "plt.ylabel('True Positive Rate')\n",
    "plt.title('Receiver Operating Characteristic curve')\n",
    "plt.legend(loc=\"lower right\")\n",
    "plt.show()"
   ]
  },
  {
   "cell_type": "markdown",
   "metadata": {
    "papermill": {
     "duration": 0.016883,
     "end_time": "2020-09-26T09:22:21.701813",
     "exception": false,
     "start_time": "2020-09-26T09:22:21.684930",
     "status": "completed"
    },
    "tags": []
   },
   "source": [
    "Finally we shall calculate the $F_1$ score"
   ]
  },
  {
   "cell_type": "code",
   "execution_count": 7,
   "metadata": {
    "execution": {
     "iopub.execute_input": "2020-09-26T09:22:21.743676Z",
     "iopub.status.busy": "2020-09-26T09:22:21.742875Z",
     "iopub.status.idle": "2020-09-26T09:22:21.750653Z",
     "shell.execute_reply": "2020-09-26T09:22:21.749938Z"
    },
    "papermill": {
     "duration": 0.031141,
     "end_time": "2020-09-26T09:22:21.750777",
     "exception": false,
     "start_time": "2020-09-26T09:22:21.719636",
     "status": "completed"
    },
    "tags": []
   },
   "outputs": [
    {
     "data": {
      "text/plain": [
       "0.6838709677419355"
      ]
     },
     "execution_count": 7,
     "metadata": {},
     "output_type": "execute_result"
    }
   ],
   "source": [
    "f1_score( perfect['Survived'] , gender['Survived'] )"
   ]
  },
  {
   "cell_type": "markdown",
   "metadata": {
    "papermill": {
     "duration": 0.017164,
     "end_time": "2020-09-26T09:22:21.785474",
     "exception": false,
     "start_time": "2020-09-26T09:22:21.768310",
     "status": "completed"
    },
    "tags": []
   },
   "source": [
    "when we are choosing the classifier that best models for our problem, it is usual to choose the one that gives the highest $F_1$ score.\n",
    "\n",
    "## No survivors\n",
    "\n",
    "As an exercise we shall repeat the above procedure, this time for the file containing all zeros, indicating no survivors:"
   ]
  },
  {
   "cell_type": "code",
   "execution_count": 8,
   "metadata": {
    "execution": {
     "iopub.execute_input": "2020-09-26T09:22:21.828441Z",
     "iopub.status.busy": "2020-09-26T09:22:21.827431Z",
     "iopub.status.idle": "2020-09-26T09:22:21.831918Z",
     "shell.execute_reply": "2020-09-26T09:22:21.831284Z"
    },
    "papermill": {
     "duration": 0.028477,
     "end_time": "2020-09-26T09:22:21.832038",
     "exception": false,
     "start_time": "2020-09-26T09:22:21.803561",
     "status": "completed"
    },
    "tags": []
   },
   "outputs": [
    {
     "data": {
      "text/plain": [
       "0.6220095693779905"
      ]
     },
     "execution_count": 8,
     "metadata": {},
     "output_type": "execute_result"
    }
   ],
   "source": [
    "\n",
    "accuracy_score( perfect['Survived'] , allZeros['Survived'] )\n"
   ]
  },
  {
   "cell_type": "markdown",
   "metadata": {
    "papermill": {
     "duration": 0.017868,
     "end_time": "2020-09-26T09:22:21.867751",
     "exception": false,
     "start_time": "2020-09-26T09:22:21.849883",
     "status": "completed"
    },
    "tags": []
   },
   "source": [
    "This is our accuracy score. Now for the confusion matrix for the case of 'all zeros':"
   ]
  },
  {
   "cell_type": "code",
   "execution_count": 9,
   "metadata": {
    "execution": {
     "iopub.execute_input": "2020-09-26T09:22:21.912951Z",
     "iopub.status.busy": "2020-09-26T09:22:21.911979Z",
     "iopub.status.idle": "2020-09-26T09:22:21.916629Z",
     "shell.execute_reply": "2020-09-26T09:22:21.915726Z"
    },
    "papermill": {
     "duration": 0.03025,
     "end_time": "2020-09-26T09:22:21.916807",
     "exception": false,
     "start_time": "2020-09-26T09:22:21.886557",
     "status": "completed"
    },
    "tags": []
   },
   "outputs": [
    {
     "name": "stdout",
     "output_type": "stream",
     "text": [
      "[[260   0]\n",
      " [158   0]]\n"
     ]
    }
   ],
   "source": [
    "titanic_cm = confusion_matrix( perfect['Survived'] , allZeros['Survived'] )\n",
    "print(titanic_cm)"
   ]
  },
  {
   "cell_type": "code",
   "execution_count": 10,
   "metadata": {
    "execution": {
     "iopub.execute_input": "2020-09-26T09:22:21.972893Z",
     "iopub.status.busy": "2020-09-26T09:22:21.971677Z",
     "iopub.status.idle": "2020-09-26T09:22:22.023966Z",
     "shell.execute_reply": "2020-09-26T09:22:22.023409Z"
    },
    "papermill": {
     "duration": 0.086938,
     "end_time": "2020-09-26T09:22:22.024079",
     "exception": false,
     "start_time": "2020-09-26T09:22:21.937141",
     "status": "completed"
    },
    "tags": []
   },
   "outputs": [
    {
     "data": {
      "image/png": "[encoded data removed]",
      "text/plain": [
       "<Figure size 360x360 with 1 Axes>"
      ]
     },
     "metadata": {},
     "output_type": "display_data"
    }
   ],
   "source": [
    "# convert the ndarray to a pandas dataframe\n",
    "cm_df = pd.DataFrame(titanic_cm)\n",
    "# set the size of the figure\n",
    "plt.figure(figsize = (5,5))\n",
    "sn.heatmap(cm_df, \n",
    "           annot=True, annot_kws={\"size\": 25},\n",
    "           fmt=\"d\",         # decimals format\n",
    "           xticklabels=False, \n",
    "           yticklabels=False,\n",
    "           cmap=\"viridis\", \n",
    "           cbar=False)\n",
    "plt.show()"
   ]
  },
  {
   "cell_type": "code",
   "execution_count": 11,
   "metadata": {
    "execution": {
     "iopub.execute_input": "2020-09-26T09:22:22.071552Z",
     "iopub.status.busy": "2020-09-26T09:22:22.070856Z",
     "iopub.status.idle": "2020-09-26T09:22:22.079915Z",
     "shell.execute_reply": "2020-09-26T09:22:22.079302Z"
    },
    "papermill": {
     "duration": 0.036598,
     "end_time": "2020-09-26T09:22:22.080027",
     "exception": false,
     "start_time": "2020-09-26T09:22:22.043429",
     "status": "completed"
    },
    "tags": []
   },
   "outputs": [
    {
     "name": "stdout",
     "output_type": "stream",
     "text": [
      "Number of true negatives  (tn) =  260\n",
      "Number of true positives  (tp) =  0\n",
      "Number of false negatives (fn) =  158\n",
      "Number of false positives (fp) =  0\n",
      "Precision                                          = tp / (tp + fp) = nan\n",
      "Recall or 'sensitivity' (aka. true positive rate)  = tp / (tp + fn) = 0.0\n",
      "Specificity             (aka. true negative rate)  = tn / (tn + fp) = 1.0\n",
      "Fall out                (aka. false positive rate) = fp / (fp + tn) = 0.0\n",
      "Miss rate               (aka. false negative rate) = fn / (fn + tp) = 1.0\n"
     ]
    },
    {
     "name": "stderr",
     "output_type": "stream",
     "text": [
      "/opt/conda/lib/python3.7/site-packages/ipykernel_launcher.py:6: RuntimeWarning: invalid value encountered in long_scalars\n",
      "  \n"
     ]
    }
   ],
   "source": [
    "tn, fp, fn, tp = confusion_matrix( perfect['Survived'] , allZeros['Survived']).ravel()\n",
    "print(\"Number of true negatives  (tn) = \",tn)\n",
    "print(\"Number of true positives  (tp) = \",tp)\n",
    "print(\"Number of false negatives (fn) = \",fn)\n",
    "print(\"Number of false positives (fp) = \",fp)\n",
    "print(\"Precision                                          = tp / (tp + fp) =\", tp / (tp + fp))\n",
    "print(\"Recall or 'sensitivity' (aka. true positive rate)  = tp / (tp + fn) =\", tp / (tp + fn))\n",
    "print(\"Specificity             (aka. true negative rate)  = tn / (tn + fp) =\", tn / (tn + fp))\n",
    "print(\"Fall out                (aka. false positive rate) = fp / (fp + tn) =\", fp / (fp + tn))\n",
    "print(\"Miss rate               (aka. false negative rate) = fn / (fn + tp) =\", fn / (fn + tp))"
   ]
  },
  {
   "cell_type": "markdown",
   "metadata": {
    "papermill": {
     "duration": 0.01979,
     "end_time": "2020-09-26T09:22:22.120149",
     "exception": false,
     "start_time": "2020-09-26T09:22:22.100359",
     "status": "completed"
    },
    "tags": []
   },
   "source": [
    "This time we can see that now we have no false positives (whereas before we had 46) so we have correctly identified all of the 260 people who died (true negatives). But this is no great surprise given that we 'killed' everyone in the file! And all the rest fall into the quadrant of false negatives. We can see that the $TP + FP = 0$, so the *precision* is undefined (python returns a ***nan***), in this situation the $F_1$ would return a $0$.\n",
    "\n",
    "### Related reading\n",
    "* [False positives, false negatives and the discrimination threshold](https://www.kaggle.com/carlmcbrideellis/discrimination-threshold-false-positive-negative)"
   ]
  }
 ],
 "metadata": {
  "kernelspec": {
   "display_name": "Python 3",
   "language": "python",
   "name": "python3"
  },
  "language_info": {
   "codemirror_mode": {
    "name": "ipython",
    "version": 3
   },
   "file_extension": ".py",
   "mimetype": "text/x-python",
   "name": "python",
   "nbconvert_exporter": "python",
   "pygments_lexer": "ipython3",
   "version": "3.7.6"
  },
  "papermill": {
   "duration": 7.694901,
   "end_time": "2020-09-26T09:22:22.248628",
   "environment_variables": {},
   "exception": null,
   "input_path": "__notebook__.ipynb",
   "output_path": "__notebook__.ipynb",
   "parameters": {},
   "start_time": "2020-09-26T09:22:14.553727",
   "version": "2.1.0"
  }
 },
 "nbformat": 4,
 "nbformat_minor": 4
}
