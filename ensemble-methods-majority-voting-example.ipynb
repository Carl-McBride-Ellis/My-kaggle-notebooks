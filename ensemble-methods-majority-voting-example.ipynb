{
 "cells": [
  {
   "cell_type": "markdown",
   "execution_count": null,
   "metadata": {},
   "source": [
    "### Ensemble methods: classifiers and majority voting\n",
    "The goal of ensemble methods is to combine the predictions of several base estimators built with a given learning algorithm in order to improve generalizability / robustness over a single estimator [[1]](https://scikit-learn.org/stable/modules/ensemble.html).\n",
    "Here we shall look at an averaging method known as **majority voting**. In majority voting, the predicted class label for a particular sample is the class label that represents the majority \n",
    "([mode](https://en.wikipedia.org/wiki/Mode_&#40;statistics&#41;))\n",
    "of the class labels predicted by each individual classifier [[2]](https://scikit-learn.org/stable/modules/ensemble.html#voting-classifier). \n",
    "\n",
    "\n"
   ]
  },
  {
   "cell_type": "code",
   "execution_count": 1,
   "metadata": {
    "_cell_guid": "b1076dfc-b9ad-4769-8c92-a6c4dae69d19",
    "_uuid": "8f2839f25d086af736a60e9eeb907d3b93b6e0e5"
   },
   "outputs": [],
   "source": [
    "import pandas as pd\n",
    "import numpy  as np"
   ]
  },
  {
   "cell_type": "markdown",
   "execution_count": null,
   "metadata": {},
   "source": [
    "We shall read in the predictions, *i.e.* the `submission.csv` files,  from an odd number of estimators. For this example we shall use predictions from \n",
    "a [logistic regression](https://www.kaggle.com/carlmcbrideellis/logistic-regression-classifier-minimalist-script), \n",
    "a [random forest](https://www.kaggle.com/carlmcbrideellis/random-forest-classifier-minimalist-script).\n",
    "a [neural network](https://www.kaggle.com/carlmcbrideellis/very-simple-neural-network-for-classification),\n",
    "a [Gaussian process classifier](https://www.kaggle.com/carlmcbrideellis/gaussian-process-classification-sample-script),\n",
    "and finally \n",
    "a [Support Vector Machine classifier](https://www.kaggle.com/carlmcbrideellis/support-vector-classifier-minimalist-script):"
   ]
  },
  {
   "cell_type": "code",
   "execution_count": 2,
   "metadata": {
    "_cell_guid": "79c7e3d0-c299-4dcb-8224-4455121ee9b0",
    "_uuid": "d629ff2d2480ee46fbb7e2d37f6b5fab8052498a"
   },
   "outputs": [],
   "source": [
    "LogisticRegression        = pd.read_csv(\"../input/logistic-regression-classifier-minimalist-script/submission.csv\")\n",
    "RandomForestClassifier    = pd.read_csv(\"../input/random-forest-classifier-minimalist-script/submission.csv\")\n",
    "neural_network            = pd.read_csv(\"../input/very-simple-neural-network-for-classification/submission.csv\")\n",
    "GaussianProcessClassifier = pd.read_csv(\"../input/gaussian-process-classification-sample-script/submission.csv\")\n",
    "SupportVectorClassifier   = pd.read_csv(\"../input/support-vector-classifier-minimalist-script/submission.csv\")      "
   ]
  },
  {
   "cell_type": "markdown",
   "execution_count": null,
   "metadata": {},
   "source": [
    "we shall now calculate the mode, using [pandas.DataFrame.mode](https://pandas.pydata.org/pandas-docs/stable/reference/api/pandas.DataFrame.mode.html):"
   ]
  },
  {
   "cell_type": "code",
   "execution_count": 3,
   "metadata": {},
   "outputs": [],
   "source": [
    "all_data = [ LogisticRegression['Survived'] , \n",
    "             RandomForestClassifier['Survived'], \n",
    "             neural_network['Survived'], \n",
    "             GaussianProcessClassifier['Survived'], \n",
    "             SupportVectorClassifier['Survived'] ]\n",
    "\n",
    "votes       = pd.concat(all_data, axis='columns')\n",
    "\n",
    "predictions = votes.mode(axis='columns').to_numpy()"
   ]
  },
  {
   "cell_type": "markdown",
   "execution_count": null,
   "metadata": {},
   "source": [
    "and finally we shall produce a new `submission.csv` file whose predictions are now the mode of all of the above estimators:"
   ]
  },
  {
   "cell_type": "code",
   "execution_count": 4,
   "metadata": {},
   "outputs": [],
   "source": [
    "output = pd.DataFrame({'PassengerId': neural_network.PassengerId, \n",
    "                       'Survived'   : predictions.flatten()})\n",
    "output.to_csv('submission.csv', index=False)"
   ]
  },
  {
   "cell_type": "markdown",
   "execution_count": null,
   "metadata": {},
   "source": [
    "### Related reading:\n",
    "* [Dymitr Ruta and Bogdan Gabrys \"Classifier selection for majority voting\", Information Fusion,\n",
    "Volume 6 Pages 63-81 (2005)](https://www.sciencedirect.com/science/article/abs/pii/S1566253504000417)"
   ]
  }
 ],
 "metadata": {
  "kernelspec": {
   "display_name": "Python 3",
   "language": "python",
   "name": "python3"
  },
  "language_info": {
   "codemirror_mode": {
    "name": "ipython",
    "version": 3
   },
   "file_extension": ".py",
   "mimetype": "text/x-python",
   "name": "python",
   "nbconvert_exporter": "python",
   "pygments_lexer": "ipython3",
   "version": "3.7.6"
  }
 },
 "nbformat": 4,
 "nbformat_minor": 4
}
