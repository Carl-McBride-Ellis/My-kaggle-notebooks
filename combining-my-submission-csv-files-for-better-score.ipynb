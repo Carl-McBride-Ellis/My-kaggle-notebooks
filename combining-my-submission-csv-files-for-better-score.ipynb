{
 "cells": [
  {
   "cell_type": "markdown",
   "execution_count": null,
   "metadata": {
    "papermill": {
     "duration": 0.007444,
     "end_time": "2020-08-24T12:32:29.267511",
     "exception": false,
     "start_time": "2020-08-24T12:32:29.260067",
     "status": "completed"
    },
    "tags": []
   },
   "source": [
    "# Combining my submission.csv files for a better score\n",
    "Over time I have have experimented with various machine learning techniques applied to the [House Prices: Advanced Regression Techniques competition](https://www.kaggle.com/c/house-prices-advanced-regression-techniques), each time submitting a `submission.csv` file. Here is a table of my results:\n",
    "\n",
    "| Technique | Score | Explained variance |\n",
    "| :--- | --- | --- |\n",
    "| [neural network](https://www.kaggle.com/carlmcbrideellis/very-simple-neural-network-regression)| 0.23181 | 0.69091 |\n",
    "| [Gaussian process](https://www.kaggle.com/carlmcbrideellis/gaussian-process-regression-sample-script) | 0.21004 | 0.76409 |\n",
    "| [Random forest](https://www.kaggle.com/carlmcbrideellis/random-forest-regression-minimalist-script) | 0.17734 | 0.86514 |\n",
    "| [XGBoost](https://www.kaggle.com/carlmcbrideellis/very-simple-xgboost-regression) | 0.15617 | 0.90148 |\n",
    "| [CatBoost](https://www.kaggle.com/carlmcbrideellis/catboost-regression-minimalist-script) | 0.15270 | 0.90096 |\n",
    "\n",
    "I thought it would be fun to find a [linear combination](https://en.wikipedia.org/wiki/Linear_combination) of my `submission.csv` files that gives a better leaderboard score than any of the individual submissions, as well as having a better [explained variance score](https://scikit-learn.org/stable/modules/generated/sklearn.metrics.explained_variance_score.html). To do this I make use of the excellent notebook [\"Finding Ensemble Weights\"](https://www.kaggle.com/hsperr/finding-ensamble-weights) written by [Henning Sperr](https://www.kaggle.com/hsperr)."
   ]
  },
  {
   "cell_type": "code",
   "execution_count": 1,
   "metadata": {
    "_cell_guid": "b1076dfc-b9ad-4769-8c92-a6c4dae69d19",
    "_uuid": "8f2839f25d086af736a60e9eeb907d3b93b6e0e5",
    "execution": {
     "iopub.execute_input": "2020-08-24T12:32:29.287364Z",
     "iopub.status.busy": "2020-08-24T12:32:29.286334Z",
     "iopub.status.idle": "2020-08-24T12:32:30.563387Z",
     "shell.execute_reply": "2020-08-24T12:32:30.562522Z"
    },
    "papermill": {
     "duration": 1.289692,
     "end_time": "2020-08-24T12:32:30.563568",
     "exception": false,
     "start_time": "2020-08-24T12:32:29.273876",
     "status": "completed"
    },
    "tags": []
   },
   "outputs": [],
   "source": [
    "import pandas as pd\n",
    "import numpy  as np\n",
    "from sklearn.metrics import mean_squared_log_error\n",
    "from sklearn.metrics import explained_variance_score"
   ]
  },
  {
   "cell_type": "markdown",
   "execution_count": null,
   "metadata": {
    "papermill": {
     "duration": 0.005137,
     "end_time": "2020-08-24T12:32:30.574652",
     "exception": false,
     "start_time": "2020-08-24T12:32:30.569515",
     "status": "completed"
    },
    "tags": []
   },
   "source": [
    "read in my `submission.csv` files"
   ]
  },
  {
   "cell_type": "code",
   "execution_count": 2,
   "metadata": {
    "execution": {
     "iopub.execute_input": "2020-08-24T12:32:30.604004Z",
     "iopub.status.busy": "2020-08-24T12:32:30.602694Z",
     "iopub.status.idle": "2020-08-24T12:32:30.659218Z",
     "shell.execute_reply": "2020-08-24T12:32:30.658399Z"
    },
    "papermill": {
     "duration": 0.079184,
     "end_time": "2020-08-24T12:32:30.659396",
     "exception": false,
     "start_time": "2020-08-24T12:32:30.580212",
     "status": "completed"
    },
    "tags": []
   },
   "outputs": [],
   "source": [
    "s1 = pd.read_csv(\"../input/very-simple-neural-network-regression/submission.csv\")\n",
    "s2 = pd.read_csv(\"../input/gaussian-process-regression-sample-script/submission.csv\")\n",
    "s3 = pd.read_csv(\"../input/random-forest-regression-minimalist-script/submission.csv\")\n",
    "s4 = pd.read_csv(\"../input/very-simple-xgboost-regression/submission.csv\")\n",
    "s5 = pd.read_csv(\"../input/catboost-regression-minimalist-script/submission.csv\")\n",
    "\n",
    "\n",
    "n_submission_files = 5\n",
    "# also create a placeholder dataFrame\n",
    "s_final = pd.read_csv(\"../input/very-simple-xgboost-regression/submission.csv\")"
   ]
  },
  {
   "cell_type": "markdown",
   "execution_count": null,
   "metadata": {
    "papermill": {
     "duration": 0.005324,
     "end_time": "2020-08-24T12:32:30.670479",
     "exception": false,
     "start_time": "2020-08-24T12:32:30.665155",
     "status": "completed"
    },
    "tags": []
   },
   "source": [
    "we shall also read in the [ground truth (correct) target values](https://www.kaggle.com/carlmcbrideellis/house-prices-advanced-regression-solution-file):"
   ]
  },
  {
   "cell_type": "code",
   "execution_count": 3,
   "metadata": {
    "execution": {
     "iopub.execute_input": "2020-08-24T12:32:30.691094Z",
     "iopub.status.busy": "2020-08-24T12:32:30.690067Z",
     "iopub.status.idle": "2020-08-24T12:32:30.703522Z",
     "shell.execute_reply": "2020-08-24T12:32:30.702603Z"
    },
    "papermill": {
     "duration": 0.027417,
     "end_time": "2020-08-24T12:32:30.703730",
     "exception": false,
     "start_time": "2020-08-24T12:32:30.676313",
     "status": "completed"
    },
    "tags": []
   },
   "outputs": [],
   "source": [
    "solution   = pd.read_csv('../input/house-prices-advanced-regression-solution-file/submission.csv')\n",
    "y_true     = solution[\"SalePrice\"]"
   ]
  },
  {
   "cell_type": "markdown",
   "execution_count": null,
   "metadata": {
    "papermill": {
     "duration": 0.005289,
     "end_time": "2020-08-24T12:32:30.714912",
     "exception": false,
     "start_time": "2020-08-24T12:32:30.709623",
     "status": "completed"
    },
    "tags": []
   },
   "source": [
    "We now use [scipy.optimize.minimize](https://docs.scipy.org/doc/scipy/reference/generated/scipy.optimize.minimize.html) to find the lowest score using the evaluation metric of the House Prices competition, which in this case is the root of the [mean squared logarithmic error regression loss](https://scikit-learn.org/stable/modules/generated/sklearn.metrics.mean_squared_log_error.html)"
   ]
  },
  {
   "cell_type": "code",
   "execution_count": 4,
   "metadata": {
    "execution": {
     "iopub.execute_input": "2020-08-24T12:32:30.743536Z",
     "iopub.status.busy": "2020-08-24T12:32:30.738035Z",
     "iopub.status.idle": "2020-08-24T12:33:43.972707Z",
     "shell.execute_reply": "2020-08-24T12:33:43.973458Z"
    },
    "papermill": {
     "duration": 73.253355,
     "end_time": "2020-08-24T12:33:43.973695",
     "exception": false,
     "start_time": "2020-08-24T12:32:30.720340",
     "status": "completed"
    },
    "tags": []
   },
   "outputs": [
    {
     "name": "stdout",
     "output_type": "stream",
     "text": [
      "Best weights [0.         0.02725648 0.07308898 0.17674585 0.72016987]\n"
     ]
    }
   ],
   "source": [
    "from scipy.optimize import minimize\n",
    "\n",
    "tmp_scores = []\n",
    "tmp_weights = []\n",
    "predictions = []\n",
    "predictions.append( s1[\"SalePrice\"] )\n",
    "predictions.append( s2[\"SalePrice\"] )\n",
    "predictions.append( s3[\"SalePrice\"] )\n",
    "predictions.append( s4[\"SalePrice\"] )\n",
    "predictions.append( s5[\"SalePrice\"] )\n",
    "\n",
    "def scoring_function(weights):\n",
    "    final_prediction = 0\n",
    "    for weight, prediction in zip(weights, predictions):\n",
    "            final_prediction += weight*prediction\n",
    "    return np.sqrt(mean_squared_log_error(y_true, final_prediction))\n",
    "\n",
    "for i in range(150):\n",
    "    starting_values = np.random.uniform(size=n_submission_files)\n",
    "    bounds = [(0,1)]*len(predictions)\n",
    "    result = minimize(scoring_function, \n",
    "                      starting_values, \n",
    "                      method='L-BFGS-B', \n",
    "                      bounds=bounds, \n",
    "                      options={'disp': False, 'maxiter': 10000})\n",
    "    tmp_scores.append(result['fun'])\n",
    "    tmp_weights.append(result['x'])\n",
    "\n",
    "bestWeight = tmp_weights[np.argmin(tmp_scores)]\n",
    "print('Best weights', bestWeight)"
   ]
  },
  {
   "cell_type": "markdown",
   "execution_count": null,
   "metadata": {
    "papermill": {
     "duration": 0.005226,
     "end_time": "2020-08-24T12:33:43.984661",
     "exception": false,
     "start_time": "2020-08-24T12:33:43.979435",
     "status": "completed"
    },
    "tags": []
   },
   "source": [
    "we can see that the best combination is a mix consisting of 2.73% Gaussian process, 7.3% random forest, 17.7% XGBoost and finally 72% CatBoost. Let us now take a look at the results"
   ]
  },
  {
   "cell_type": "code",
   "execution_count": 5,
   "metadata": {
    "execution": {
     "iopub.execute_input": "2020-08-24T12:33:44.011396Z",
     "iopub.status.busy": "2020-08-24T12:33:44.009869Z",
     "iopub.status.idle": "2020-08-24T12:33:44.019104Z",
     "shell.execute_reply": "2020-08-24T12:33:44.017715Z"
    },
    "papermill": {
     "duration": 0.029261,
     "end_time": "2020-08-24T12:33:44.019401",
     "exception": false,
     "start_time": "2020-08-24T12:33:43.990140",
     "status": "completed"
    },
    "tags": []
   },
   "outputs": [
    {
     "name": "stdout",
     "output_type": "stream",
     "text": [
      "The new score is 0.15198\n",
      "The new explained variance is 0.90365\n"
     ]
    }
   ],
   "source": [
    "s_final[\"SalePrice\"] = s1[\"SalePrice\"]*bestWeight[0] + s2[\"SalePrice\"]*bestWeight[1] +  s3[\"SalePrice\"]*bestWeight[2] +  s4[\"SalePrice\"]*bestWeight[3] +  s5[\"SalePrice\"]*bestWeight[4]\n",
    "\n",
    "print(\"The new score is %.5f\" % np.sqrt( mean_squared_log_error(y_true, s_final[\"SalePrice\"]) ) )\n",
    "print(\"The new explained variance is %.5f\" % explained_variance_score(y_true, s_final[\"SalePrice\"]) )"
   ]
  },
  {
   "cell_type": "markdown",
   "execution_count": null,
   "metadata": {
    "papermill": {
     "duration": 0.005639,
     "end_time": "2020-08-24T12:33:44.031368",
     "exception": false,
     "start_time": "2020-08-24T12:33:44.025729",
     "status": "completed"
    },
    "tags": []
   },
   "source": [
    "# Success!\n",
    "It looks like we were able to find a judicious combination of weights that does indeed result in a better `submission.csv` than any of the component `submission.csv` files. Let us now submit this new solution to the competition:"
   ]
  },
  {
   "cell_type": "code",
   "execution_count": 6,
   "metadata": {
    "execution": {
     "iopub.execute_input": "2020-08-24T12:33:44.050247Z",
     "iopub.status.busy": "2020-08-24T12:33:44.049375Z",
     "iopub.status.idle": "2020-08-24T12:33:44.176668Z",
     "shell.execute_reply": "2020-08-24T12:33:44.175759Z"
    },
    "papermill": {
     "duration": 0.139608,
     "end_time": "2020-08-24T12:33:44.176816",
     "exception": false,
     "start_time": "2020-08-24T12:33:44.037208",
     "status": "completed"
    },
    "tags": []
   },
   "outputs": [],
   "source": [
    "s_final.to_csv('submission.csv', index=False)"
   ]
  }
 ],
 "metadata": {
  "kernelspec": {
   "display_name": "Python 3",
   "language": "python",
   "name": "python3"
  },
  "language_info": {
   "codemirror_mode": {
    "name": "ipython",
    "version": 3
   },
   "file_extension": ".py",
   "mimetype": "text/x-python",
   "name": "python",
   "nbconvert_exporter": "python",
   "pygments_lexer": "ipython3",
   "version": "3.7.6"
  },
  "papermill": {
   "duration": 80.826592,
   "end_time": "2020-08-24T12:33:44.291989",
   "environment_variables": {},
   "exception": null,
   "input_path": "__notebook__.ipynb",
   "output_path": "__notebook__.ipynb",
   "parameters": {},
   "start_time": "2020-08-24T12:32:23.465397",
   "version": "2.1.0"
  }
 },
 "nbformat": 4,
 "nbformat_minor": 4
}
