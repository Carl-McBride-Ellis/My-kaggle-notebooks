{
 "cells": [
  {
   "cell_type": "markdown",
   "execution_count": null,
   "metadata": {
    "papermill": {
     "duration": 0.006052,
     "end_time": "2020-08-29T08:42:44.829373",
     "exception": false,
     "start_time": "2020-08-29T08:42:44.823321",
     "status": "completed"
    },
    "tags": []
   },
   "source": [
    "# How to create a House Prices baseline score\n",
    "When presented with new data to model the very first thing we should do is create a simple baseline score against which to judge our models. If our model performs worse than this score we know that something is going *very* wrong!\n",
    "\n",
    "Of course on kaggle we have the leaderboard to tell us how we are doing compared to other people, but what if you didn't have a leaderboard to go by?\n",
    "\n",
    "Here we shall create a baseline score by simply taking the mean of the `SalePrice` found in the training data, without doing *any* modelling at all. This value will then serve as our future yardstick.\n",
    "\n",
    "## Load in the data:"
   ]
  },
  {
   "cell_type": "code",
   "execution_count": 1,
   "metadata": {
    "_cell_guid": "b1076dfc-b9ad-4769-8c92-a6c4dae69d19",
    "_uuid": "8f2839f25d086af736a60e9eeb907d3b93b6e0e5",
    "execution": {
     "iopub.execute_input": "2020-08-29T08:42:44.849443Z",
     "iopub.status.busy": "2020-08-29T08:42:44.848591Z",
     "iopub.status.idle": "2020-08-29T08:42:44.954656Z",
     "shell.execute_reply": "2020-08-29T08:42:44.955281Z"
    },
    "papermill": {
     "duration": 0.121248,
     "end_time": "2020-08-29T08:42:44.955516",
     "exception": false,
     "start_time": "2020-08-29T08:42:44.834268",
     "status": "completed"
    },
    "tags": []
   },
   "outputs": [],
   "source": [
    "import pandas  as pd\n",
    "import numpy   as np\n",
    "\n",
    "train_data = pd.read_csv('../input/house-prices-advanced-regression-techniques/train.csv')\n",
    "test_data  = pd.read_csv('../input/house-prices-advanced-regression-techniques/test.csv')"
   ]
  },
  {
   "cell_type": "markdown",
   "execution_count": null,
   "metadata": {
    "papermill": {
     "duration": 0.003708,
     "end_time": "2020-08-29T08:42:44.963509",
     "exception": false,
     "start_time": "2020-08-29T08:42:44.959801",
     "status": "completed"
    },
    "tags": []
   },
   "source": [
    "## calculate the mean of the 'SalePrice' found in the training data"
   ]
  },
  {
   "cell_type": "code",
   "execution_count": 2,
   "metadata": {
    "execution": {
     "iopub.execute_input": "2020-08-29T08:42:44.983226Z",
     "iopub.status.busy": "2020-08-29T08:42:44.982053Z",
     "iopub.status.idle": "2020-08-29T08:42:44.985955Z",
     "shell.execute_reply": "2020-08-29T08:42:44.985138Z"
    },
    "papermill": {
     "duration": 0.018458,
     "end_time": "2020-08-29T08:42:44.986144",
     "exception": false,
     "start_time": "2020-08-29T08:42:44.967686",
     "status": "completed"
    },
    "tags": []
   },
   "outputs": [],
   "source": [
    "mean_SalePrice = train_data[\"SalePrice\"].mean()\n",
    "# fill an array with the mean value\n",
    "baseline       = np.empty(len(test_data)); baseline.fill(mean_SalePrice) "
   ]
  },
  {
   "cell_type": "markdown",
   "execution_count": null,
   "metadata": {
    "papermill": {
     "duration": 0.004046,
     "end_time": "2020-08-29T08:42:44.994556",
     "exception": false,
     "start_time": "2020-08-29T08:42:44.990510",
     "status": "completed"
    },
    "tags": []
   },
   "source": [
    "## write out a submission.csv file containing this value"
   ]
  },
  {
   "cell_type": "code",
   "execution_count": 3,
   "metadata": {
    "execution": {
     "iopub.execute_input": "2020-08-29T08:42:45.012973Z",
     "iopub.status.busy": "2020-08-29T08:42:45.012153Z",
     "iopub.status.idle": "2020-08-29T08:42:45.423351Z",
     "shell.execute_reply": "2020-08-29T08:42:45.423986Z"
    },
    "papermill": {
     "duration": 0.425318,
     "end_time": "2020-08-29T08:42:45.424184",
     "exception": false,
     "start_time": "2020-08-29T08:42:44.998866",
     "status": "completed"
    },
    "tags": []
   },
   "outputs": [],
   "source": [
    "output = pd.DataFrame({\"Id\":test_data.Id, \"SalePrice\":baseline})\n",
    "output.to_csv('submission.csv', index=False)"
   ]
  },
  {
   "cell_type": "markdown",
   "execution_count": null,
   "metadata": {
    "papermill": {
     "duration": 0.003984,
     "end_time": "2020-08-29T08:42:45.432642",
     "exception": false,
     "start_time": "2020-08-29T08:42:45.428658",
     "status": "completed"
    },
    "tags": []
   },
   "source": [
    "## and submit this file to the competition to obtain a baseline score.\n",
    "### (0.42577)"
   ]
  }
 ],
 "metadata": {
  "kernelspec": {
   "display_name": "Python 3",
   "language": "python",
   "name": "python3"
  },
  "language_info": {
   "codemirror_mode": {
    "name": "ipython",
    "version": 3
   },
   "file_extension": ".py",
   "mimetype": "text/x-python",
   "name": "python",
   "nbconvert_exporter": "python",
   "pygments_lexer": "ipython3",
   "version": "3.7.6"
  },
  "papermill": {
   "duration": 7.002172,
   "end_time": "2020-08-29T08:42:46.454744",
   "environment_variables": {},
   "exception": null,
   "input_path": "__notebook__.ipynb",
   "output_path": "__notebook__.ipynb",
   "parameters": {},
   "start_time": "2020-08-29T08:42:39.452572",
   "version": "2.1.0"
  }
 },
 "nbformat": 4,
 "nbformat_minor": 4
}
