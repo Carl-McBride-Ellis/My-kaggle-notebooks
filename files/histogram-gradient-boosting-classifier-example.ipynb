{
 "cells": [
  {
   "cell_type": "markdown",
   "metadata": {
    "papermill": {
     "duration": 0.008641,
     "end_time": "2020-11-12T20:31:46.025934",
     "exception": false,
     "start_time": "2020-11-12T20:31:46.017293",
     "status": "completed"
    },
    "tags": []
   },
   "source": [
    "# Histogram Gradient Boosting Classification\n",
    "This is a basic test of the experimental *histogram-based gradient boosting classification tree estimator* which is now available in scikit-learn as [sklearn.ensemble.HistGradientBoostingClassifier](https://scikit-learn.org/stable/modules/generated/sklearn.ensemble.HistGradientBoostingClassifier.html). For large datasets this algorithm is *very* fast! \n",
    "\n",
    "We shall be using the [Santander Customer Satisfaction](https://www.kaggle.com/c/santander-customer-satisfaction) data. The winning Private Score for this competition was `0.82907` which was achieved using an ensemble solution. Here we obtain a Private Score of `0.82066` with no feature engineering whatsoever."
   ]
  },
  {
   "cell_type": "code",
   "execution_count": 1,
   "metadata": {
    "_cell_guid": "b1076dfc-b9ad-4769-8c92-a6c4dae69d19",
    "_uuid": "8f2839f25d086af736a60e9eeb907d3b93b6e0e5",
    "execution": {
     "iopub.execute_input": "2020-11-12T20:31:46.049987Z",
     "iopub.status.busy": "2020-11-12T20:31:46.049133Z",
     "iopub.status.idle": "2020-11-12T20:31:51.625156Z",
     "shell.execute_reply": "2020-11-12T20:31:51.624461Z"
    },
    "papermill": {
     "duration": 5.592854,
     "end_time": "2020-11-12T20:31:51.625293",
     "exception": false,
     "start_time": "2020-11-12T20:31:46.032439",
     "status": "completed"
    },
    "tags": []
   },
   "outputs": [],
   "source": [
    "import numpy  as np\n",
    "import pandas as pd\n",
    "\n",
    "train_data = pd.read_csv('../input/santander-customer-satisfaction/train.csv',index_col=0)\n",
    "test_data  = pd.read_csv('../input/santander-customer-satisfaction/test.csv', index_col=0)\n",
    "sample     = pd.read_csv('../input/santander-customer-satisfaction/sample_submission.csv')\n",
    "\n",
    "X_train = train_data.iloc[:,:-1]\n",
    "y_train = train_data['TARGET']"
   ]
  },
  {
   "cell_type": "markdown",
   "metadata": {
    "papermill": {
     "duration": 0.006123,
     "end_time": "2020-11-12T20:31:51.638104",
     "exception": false,
     "start_time": "2020-11-12T20:31:51.631981",
     "status": "completed"
    },
    "tags": []
   },
   "source": [
    "now for the Histogram Gradient Boosting"
   ]
  },
  {
   "cell_type": "code",
   "execution_count": 2,
   "metadata": {
    "_cell_guid": "79c7e3d0-c299-4dcb-8224-4455121ee9b0",
    "_uuid": "d629ff2d2480ee46fbb7e2d37f6b5fab8052498a",
    "collapsed": true,
    "execution": {
     "iopub.execute_input": "2020-11-12T20:31:51.658837Z",
     "iopub.status.busy": "2020-11-12T20:31:51.658016Z",
     "iopub.status.idle": "2020-11-12T20:32:12.868832Z",
     "shell.execute_reply": "2020-11-12T20:32:12.870219Z"
    },
    "papermill": {
     "duration": 21.226269,
     "end_time": "2020-11-12T20:32:12.870457",
     "exception": false,
     "start_time": "2020-11-12T20:31:51.644188",
     "status": "completed"
    },
    "tags": []
   },
   "outputs": [
    {
     "name": "stdout",
     "output_type": "stream",
     "text": [
      "The average CV score is 0.8318267878363919\n"
     ]
    }
   ],
   "source": [
    "# To use this experimental feature, we need to explicitly ask for it:\n",
    "from sklearn.experimental import enable_hist_gradient_boosting\n",
    "from sklearn.ensemble import HistGradientBoostingClassifier\n",
    "\n",
    "classifier =  HistGradientBoostingClassifier()\n",
    "classifier.fit(X_train,y_train)\n",
    "\n",
    "from sklearn.model_selection import cross_val_score\n",
    "CVscores = cross_val_score(classifier, X_train, y_train, scoring='roc_auc', cv=2) \n",
    "print(\"The average CV score is\",CVscores.mean())\n",
    "\n",
    "predictions = classifier.predict_proba(test_data)[:,1]"
   ]
  },
  {
   "cell_type": "markdown",
   "metadata": {
    "papermill": {
     "duration": 0.008477,
     "end_time": "2020-11-12T20:32:12.889661",
     "exception": false,
     "start_time": "2020-11-12T20:32:12.881184",
     "status": "completed"
    },
    "tags": []
   },
   "source": [
    "and write out a `submission.csv` file"
   ]
  },
  {
   "cell_type": "code",
   "execution_count": 3,
   "metadata": {
    "execution": {
     "iopub.execute_input": "2020-11-12T20:32:12.913885Z",
     "iopub.status.busy": "2020-11-12T20:32:12.912946Z",
     "iopub.status.idle": "2020-11-12T20:32:13.587230Z",
     "shell.execute_reply": "2020-11-12T20:32:13.586611Z"
    },
    "papermill": {
     "duration": 0.689151,
     "end_time": "2020-11-12T20:32:13.587446",
     "exception": false,
     "start_time": "2020-11-12T20:32:12.898295",
     "status": "completed"
    },
    "tags": []
   },
   "outputs": [],
   "source": [
    "sample.iloc[:,1:] = predictions\n",
    "sample.to_csv('submission.csv',index=False)"
   ]
  },
  {
   "cell_type": "markdown",
   "metadata": {
    "papermill": {
     "duration": 0.006573,
     "end_time": "2020-11-12T20:32:13.601179",
     "exception": false,
     "start_time": "2020-11-12T20:32:13.594606",
     "status": "completed"
    },
    "tags": []
   },
   "source": [
    "# Related links\n",
    "* [Aleksei Guryanov \"Histogram-Based Algorithm for Building Gradient Boosting Ensembles of Piecewise Linear Decision Trees\", In: van der Aalst W. et al. (eds) Analysis of Images, Social Networks and Texts. AIST 2019. Lecture Notes in Computer Science, vol 11832. Springer (2019)](https://link.springer.com/chapter/10.1007%2F978-3-030-37334-4_4)"
   ]
  }
 ],
 "metadata": {
  "kernelspec": {
   "display_name": "Python 3",
   "language": "python",
   "name": "python3"
  },
  "language_info": {
   "codemirror_mode": {
    "name": "ipython",
    "version": 3
   },
   "file_extension": ".py",
   "mimetype": "text/x-python",
   "name": "python",
   "nbconvert_exporter": "python",
   "pygments_lexer": "ipython3",
   "version": "3.7.6"
  },
  "papermill": {
   "duration": 34.079594,
   "end_time": "2020-11-12T20:32:14.752440",
   "environment_variables": {},
   "exception": null,
   "input_path": "__notebook__.ipynb",
   "output_path": "__notebook__.ipynb",
   "parameters": {},
   "start_time": "2020-11-12T20:31:40.672846",
   "version": "2.1.0"
  }
 },
 "nbformat": 4,
 "nbformat_minor": 4
}
