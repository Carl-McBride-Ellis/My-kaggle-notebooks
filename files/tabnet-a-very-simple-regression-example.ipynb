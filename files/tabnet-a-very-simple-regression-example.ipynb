{
 "cells": [
  {
   "cell_type": "markdown",
   "metadata": {
    "papermill": {
     "duration": 0.011759,
     "end_time": "2020-11-12T17:26:19.974464",
     "exception": false,
     "start_time": "2020-11-12T17:26:19.962705",
     "status": "completed"
    },
    "tags": []
   },
   "source": [
    "# TabNet: A very simple regression example using the House Prices data\n",
    "[**TabNet**](https://arxiv.org/pdf/1908.07442.pdf) brings deep learning to tabular data. TabNet has been developed by researchers at Google Cloud AI and achieves SOTA performance on a number of test cases.\n",
    "This notebook is a simple example of performing a regression using the [pyTorch implementation](https://pypi.org/project/pytorch-tabnet/). \n",
    "\n",
    "`TabNetRegressor()` has a number of options for the `device_name`: `cpu`, `cuda`, `mkldnn`, `opengl`, `opencl`, `ideep`, `hip`, `msnpu`, and `xla`.\n",
    "The `fit()` has a variety of `eval_metric`: `auc`, `accuracy`, `balanced_accuracy`, `logloss`, `mae`, `mse`, and `rmse`. TabNet can also perform classification using `TabNetClassifier()` as well as perform [multi-task learning](https://en.wikipedia.org/wiki/Multi-task_learning).\n",
    "\n",
    "We shall use the [House Prices: Advanced Regression Techniques](https://www.kaggle.com/c/house-prices-advanced-regression-techniques) data for this demonstration. In this example I undertake no feature engineering, nor data cleaning, such as the removal of outliers *etc*., and perform  only the most basic imputation simply to account for any missing values.\n",
    "\n",
    "#### Install TabNet:"
   ]
  },
  {
   "cell_type": "code",
   "execution_count": 1,
   "metadata": {
    "_cell_guid": "b1076dfc-b9ad-4769-8c92-a6c4dae69d19",
    "_kg_hide-output": true,
    "_uuid": "8f2839f25d086af736a60e9eeb907d3b93b6e0e5",
    "execution": {
     "iopub.execute_input": "2020-11-12T17:26:20.003263Z",
     "iopub.status.busy": "2020-11-12T17:26:20.002443Z",
     "iopub.status.idle": "2020-11-12T17:26:32.065469Z",
     "shell.execute_reply": "2020-11-12T17:26:32.064548Z"
    },
    "papermill": {
     "duration": 12.080131,
     "end_time": "2020-11-12T17:26:32.065604",
     "exception": false,
     "start_time": "2020-11-12T17:26:19.985473",
     "status": "completed"
    },
    "tags": []
   },
   "outputs": [
    {
     "name": "stdout",
     "output_type": "stream",
     "text": [
      "Collecting pytorch-tabnet\r\n",
      "  Downloading pytorch_tabnet-2.0.1-py3-none-any.whl (30 kB)\r\n",
      "Requirement already satisfied: numpy<2.0,>=1.17 in /opt/conda/lib/python3.7/site-packages (from pytorch-tabnet) (1.18.5)\r\n",
      "Requirement already satisfied: tqdm<5.0,>=4.36 in /opt/conda/lib/python3.7/site-packages (from pytorch-tabnet) (4.45.0)\r\n",
      "Requirement already satisfied: torch<2.0,>=1.2 in /opt/conda/lib/python3.7/site-packages (from pytorch-tabnet) (1.6.0)\r\n",
      "Requirement already satisfied: scikit_learn>0.21 in /opt/conda/lib/python3.7/site-packages (from pytorch-tabnet) (0.23.2)\r\n",
      "Requirement already satisfied: scipy>1.4 in /opt/conda/lib/python3.7/site-packages (from pytorch-tabnet) (1.4.1)\r\n",
      "Requirement already satisfied: future in /opt/conda/lib/python3.7/site-packages (from torch<2.0,>=1.2->pytorch-tabnet) (0.18.2)\r\n",
      "Requirement already satisfied: joblib>=0.11 in /opt/conda/lib/python3.7/site-packages (from scikit_learn>0.21->pytorch-tabnet) (0.14.1)\r\n",
      "Requirement already satisfied: threadpoolctl>=2.0.0 in /opt/conda/lib/python3.7/site-packages (from scikit_learn>0.21->pytorch-tabnet) (2.1.0)\r\n",
      "Installing collected packages: pytorch-tabnet\r\n",
      "Successfully installed pytorch-tabnet-2.0.1\r\n"
     ]
    }
   ],
   "source": [
    "!pip install pytorch-tabnet\n",
    "import pandas as pd\n",
    "import numpy  as np\n",
    "from pytorch_tabnet.tab_model import TabNetRegressor\n",
    "from sklearn.model_selection import KFold"
   ]
  },
  {
   "cell_type": "code",
   "execution_count": 2,
   "metadata": {
    "_cell_guid": "79c7e3d0-c299-4dcb-8224-4455121ee9b0",
    "_uuid": "d629ff2d2480ee46fbb7e2d37f6b5fab8052498a",
    "execution": {
     "iopub.execute_input": "2020-11-12T17:26:32.114278Z",
     "iopub.status.busy": "2020-11-12T17:26:32.113402Z",
     "iopub.status.idle": "2020-11-12T17:26:32.189492Z",
     "shell.execute_reply": "2020-11-12T17:26:32.188789Z"
    },
    "papermill": {
     "duration": 0.102645,
     "end_time": "2020-11-12T17:26:32.189607",
     "exception": false,
     "start_time": "2020-11-12T17:26:32.086962",
     "status": "completed"
    },
    "tags": []
   },
   "outputs": [],
   "source": [
    "#===========================================================================\n",
    "# read in the data\n",
    "#===========================================================================\n",
    "train_data = pd.read_csv('../input/house-prices-advanced-regression-techniques/train.csv')\n",
    "test_data  = pd.read_csv('../input/house-prices-advanced-regression-techniques/test.csv')\n",
    "sample     = pd.read_csv('../input/house-prices-advanced-regression-techniques/sample_submission.csv')\n",
    "solution   = pd.read_csv('../input/house-prices-advanced-regression-solution-file/solution.csv')"
   ]
  },
  {
   "cell_type": "code",
   "execution_count": 3,
   "metadata": {
    "execution": {
     "iopub.execute_input": "2020-11-12T17:26:32.226788Z",
     "iopub.status.busy": "2020-11-12T17:26:32.226134Z",
     "iopub.status.idle": "2020-11-12T17:26:32.229247Z",
     "shell.execute_reply": "2020-11-12T17:26:32.228589Z"
    },
    "papermill": {
     "duration": 0.025635,
     "end_time": "2020-11-12T17:26:32.229356",
     "exception": false,
     "start_time": "2020-11-12T17:26:32.203721",
     "status": "completed"
    },
    "tags": []
   },
   "outputs": [],
   "source": [
    "#===========================================================================\n",
    "# select some features\n",
    "#===========================================================================\n",
    "features = ['LotArea', 'OverallQual', 'OverallCond', 'YearBuilt', \n",
    "            'YearRemodAdd', 'BsmtFinSF1', 'BsmtFinSF2', 'TotalBsmtSF', \n",
    "            '1stFlrSF', 'LowQualFinSF', 'GrLivArea', 'BsmtFullBath', \n",
    "            'BsmtHalfBath', 'HalfBath', 'BedroomAbvGr',  'Fireplaces', \n",
    "            'GarageCars', 'GarageArea', 'WoodDeckSF', 'OpenPorchSF', \n",
    "            'EnclosedPorch',  'PoolArea', 'YrSold']"
   ]
  },
  {
   "cell_type": "code",
   "execution_count": 4,
   "metadata": {
    "execution": {
     "iopub.execute_input": "2020-11-12T17:26:32.271315Z",
     "iopub.status.busy": "2020-11-12T17:26:32.267300Z",
     "iopub.status.idle": "2020-11-12T17:26:32.276992Z",
     "shell.execute_reply": "2020-11-12T17:26:32.276217Z"
    },
    "papermill": {
     "duration": 0.033959,
     "end_time": "2020-11-12T17:26:32.277162",
     "exception": false,
     "start_time": "2020-11-12T17:26:32.243203",
     "status": "completed"
    },
    "tags": []
   },
   "outputs": [],
   "source": [
    "X      = train_data[features]\n",
    "y      = np.log1p(train_data[\"SalePrice\"])\n",
    "X_test = test_data[features]\n",
    "y_true = solution[\"SalePrice\"]"
   ]
  },
  {
   "cell_type": "markdown",
   "metadata": {
    "papermill": {
     "duration": 0.020278,
     "end_time": "2020-11-12T17:26:32.318031",
     "exception": false,
     "start_time": "2020-11-12T17:26:32.297753",
     "status": "completed"
    },
    "tags": []
   },
   "source": [
    "We shall impute any missing data with a simple mean value. As to the relative merits of doing this *before* using cross-validation see [Byron C. Jaeger, Nicholas J. Tierney, and Noah R. Simon \"*When to Impute? Imputation before and during cross-validation*\" arXiv:2010.00718](https://arxiv.org/pdf/2010.00718.pdf).\n",
    "For a much better imputation method take a look at the notebook [\"MissForest - The best imputation algorithm\"](https://www.kaggle.com/lmorgan95/missforest-the-best-imputation-algorithm) by [Liam Morgan](https://www.kaggle.com/lmorgan95). It deals with the R implementation, and MissForest can also be used in python via the [missingpy](https://github.com/epsilon-machine/missingpy) package."
   ]
  },
  {
   "cell_type": "code",
   "execution_count": 5,
   "metadata": {
    "execution": {
     "iopub.execute_input": "2020-11-12T17:26:32.364419Z",
     "iopub.status.busy": "2020-11-12T17:26:32.363749Z",
     "iopub.status.idle": "2020-11-12T17:26:32.383764Z",
     "shell.execute_reply": "2020-11-12T17:26:32.383032Z"
    },
    "papermill": {
     "duration": 0.045415,
     "end_time": "2020-11-12T17:26:32.383903",
     "exception": false,
     "start_time": "2020-11-12T17:26:32.338488",
     "status": "completed"
    },
    "tags": []
   },
   "outputs": [],
   "source": [
    "X      =      X.apply(lambda x: x.fillna(x.mean()),axis=0)\n",
    "X_test = X_test.apply(lambda x: x.fillna(x.mean()),axis=0)"
   ]
  },
  {
   "cell_type": "markdown",
   "metadata": {
    "papermill": {
     "duration": 0.020081,
     "end_time": "2020-11-12T17:26:32.424543",
     "exception": false,
     "start_time": "2020-11-12T17:26:32.404462",
     "status": "completed"
    },
    "tags": []
   },
   "source": [
    "Convert the data to [numpy.array](https://numpy.org/doc/stable/reference/generated/numpy.array.html)"
   ]
  },
  {
   "cell_type": "code",
   "execution_count": 6,
   "metadata": {
    "execution": {
     "iopub.execute_input": "2020-11-12T17:26:32.471677Z",
     "iopub.status.busy": "2020-11-12T17:26:32.470697Z",
     "iopub.status.idle": "2020-11-12T17:26:32.474708Z",
     "shell.execute_reply": "2020-11-12T17:26:32.473866Z"
    },
    "papermill": {
     "duration": 0.03001,
     "end_time": "2020-11-12T17:26:32.474835",
     "exception": false,
     "start_time": "2020-11-12T17:26:32.444825",
     "status": "completed"
    },
    "tags": []
   },
   "outputs": [],
   "source": [
    "X      = X.to_numpy()\n",
    "y      = y.to_numpy().reshape(-1, 1)\n",
    "X_test = X_test.to_numpy()"
   ]
  },
  {
   "cell_type": "markdown",
   "metadata": {
    "papermill": {
     "duration": 0.020203,
     "end_time": "2020-11-12T17:26:32.515687",
     "exception": false,
     "start_time": "2020-11-12T17:26:32.495484",
     "status": "completed"
    },
    "tags": []
   },
   "source": [
    "run the TabNet deep neural network, averaging over 5 folds:"
   ]
  },
  {
   "cell_type": "code",
   "execution_count": 7,
   "metadata": {
    "_kg_hide-output": false,
    "execution": {
     "iopub.execute_input": "2020-11-12T17:26:32.566300Z",
     "iopub.status.busy": "2020-11-12T17:26:32.565207Z",
     "iopub.status.idle": "2020-11-12T17:41:42.747048Z",
     "shell.execute_reply": "2020-11-12T17:41:42.747836Z"
    },
    "papermill": {
     "duration": 910.211821,
     "end_time": "2020-11-12T17:41:42.747999",
     "exception": false,
     "start_time": "2020-11-12T17:26:32.536178",
     "status": "completed"
    },
    "tags": []
   },
   "outputs": [
    {
     "name": "stdout",
     "output_type": "stream",
     "text": [
      "Device used : cpu\n",
      "\n",
      "Early stopping occured at epoch 1598 with best_epoch = 1298 and best_val_0_rmse = 0.15444\n",
      "Best weights from best epoch are automatically used!\n",
      "Device used : cpu\n",
      "\n",
      "Early stopping occured at epoch 1075 with best_epoch = 775 and best_val_0_rmse = 0.13027\n",
      "Best weights from best epoch are automatically used!\n",
      "Device used : cpu\n",
      "\n",
      "Early stopping occured at epoch 691 with best_epoch = 391 and best_val_0_rmse = 0.17395\n",
      "Best weights from best epoch are automatically used!\n",
      "Device used : cpu\n",
      "\n",
      "Early stopping occured at epoch 679 with best_epoch = 379 and best_val_0_rmse = 0.17833\n",
      "Best weights from best epoch are automatically used!\n",
      "Device used : cpu\n",
      "\n",
      "Early stopping occured at epoch 1283 with best_epoch = 983 and best_val_0_rmse = 0.12103\n",
      "Best weights from best epoch are automatically used!\n"
     ]
    }
   ],
   "source": [
    "kf = KFold(n_splits=5, random_state=42, shuffle=True)\n",
    "predictions_array =[]\n",
    "CV_score_array    =[]\n",
    "for train_index, test_index in kf.split(X):\n",
    "    X_train, X_valid = X[train_index], X[test_index]\n",
    "    y_train, y_valid = y[train_index], y[test_index]\n",
    "    regressor = TabNetRegressor(verbose=0,seed=42)\n",
    "    regressor.fit(X_train=X_train, y_train=y_train,\n",
    "              eval_set=[(X_valid, y_valid)],\n",
    "              patience=300, max_epochs=2000,\n",
    "              eval_metric=['rmse'])\n",
    "    CV_score_array.append(regressor.best_cost)\n",
    "    predictions_array.append(np.expm1(regressor.predict(X_test)))\n",
    "\n",
    "predictions = np.mean(predictions_array,axis=0)"
   ]
  },
  {
   "cell_type": "markdown",
   "metadata": {
    "papermill": {
     "duration": 0.01553,
     "end_time": "2020-11-12T17:41:42.781095",
     "exception": false,
     "start_time": "2020-11-12T17:41:42.765565",
     "status": "completed"
    },
    "tags": []
   },
   "source": [
    "calculate our average CV score"
   ]
  },
  {
   "cell_type": "code",
   "execution_count": 8,
   "metadata": {
    "execution": {
     "iopub.execute_input": "2020-11-12T17:41:42.819273Z",
     "iopub.status.busy": "2020-11-12T17:41:42.818259Z",
     "iopub.status.idle": "2020-11-12T17:41:42.822078Z",
     "shell.execute_reply": "2020-11-12T17:41:42.822890Z"
    },
    "papermill": {
     "duration": 0.026244,
     "end_time": "2020-11-12T17:41:42.823074",
     "exception": false,
     "start_time": "2020-11-12T17:41:42.796830",
     "status": "completed"
    },
    "tags": []
   },
   "outputs": [
    {
     "name": "stdout",
     "output_type": "stream",
     "text": [
      "The CV score is 0.15160\n"
     ]
    }
   ],
   "source": [
    "print(\"The CV score is %.5f\" % np.mean(CV_score_array,axis=0) )"
   ]
  },
  {
   "cell_type": "markdown",
   "metadata": {
    "papermill": {
     "duration": 0.016187,
     "end_time": "2020-11-12T17:41:42.860421",
     "exception": false,
     "start_time": "2020-11-12T17:41:42.844234",
     "status": "completed"
    },
    "tags": []
   },
   "source": [
    "now calculate our leaderboard score (See: [\"House Prices: How to work offline\"](https://www.kaggle.com/carlmcbrideellis/house-prices-how-to-work-offline))."
   ]
  },
  {
   "cell_type": "code",
   "execution_count": 9,
   "metadata": {
    "execution": {
     "iopub.execute_input": "2020-11-12T17:41:42.899503Z",
     "iopub.status.busy": "2020-11-12T17:41:42.898804Z",
     "iopub.status.idle": "2020-11-12T17:41:42.905147Z",
     "shell.execute_reply": "2020-11-12T17:41:42.904493Z"
    },
    "papermill": {
     "duration": 0.028556,
     "end_time": "2020-11-12T17:41:42.905277",
     "exception": false,
     "start_time": "2020-11-12T17:41:42.876721",
     "status": "completed"
    },
    "tags": []
   },
   "outputs": [
    {
     "name": "stdout",
     "output_type": "stream",
     "text": [
      "The LB score is 0.14914\n"
     ]
    }
   ],
   "source": [
    "from sklearn.metrics import mean_squared_log_error\n",
    "RMSLE = np.sqrt( mean_squared_log_error(y_true, predictions) )\n",
    "print(\"The LB score is %.5f\" % RMSLE )"
   ]
  },
  {
   "cell_type": "markdown",
   "metadata": {
    "papermill": {
     "duration": 0.017822,
     "end_time": "2020-11-12T17:41:42.940292",
     "exception": false,
     "start_time": "2020-11-12T17:41:42.922470",
     "status": "completed"
    },
    "tags": []
   },
   "source": [
    "We can see that our CV score corresponds nicely with our leaderboard score, so we do not seem to be [overfitting or underfitting](https://www.kaggle.com/carlmcbrideellis/overfitting-and-underfitting-the-titanic) by too much.\n",
    "\n",
    "Finally write out a `submission.csv` file:"
   ]
  },
  {
   "cell_type": "code",
   "execution_count": 10,
   "metadata": {
    "execution": {
     "iopub.execute_input": "2020-11-12T17:41:42.982443Z",
     "iopub.status.busy": "2020-11-12T17:41:42.981638Z",
     "iopub.status.idle": "2020-11-12T17:41:43.354093Z",
     "shell.execute_reply": "2020-11-12T17:41:43.353436Z"
    },
    "papermill": {
     "duration": 0.396886,
     "end_time": "2020-11-12T17:41:43.354270",
     "exception": false,
     "start_time": "2020-11-12T17:41:42.957384",
     "status": "completed"
    },
    "tags": []
   },
   "outputs": [],
   "source": [
    "sample.iloc[:,1:] = predictions\n",
    "sample.to_csv('submission.csv',index=False)"
   ]
  },
  {
   "cell_type": "markdown",
   "metadata": {
    "papermill": {
     "duration": 0.017245,
     "end_time": "2020-11-12T17:41:43.389255",
     "exception": false,
     "start_time": "2020-11-12T17:41:43.372010",
     "status": "completed"
    },
    "tags": []
   },
   "source": [
    "# Related reading\n",
    "* [Sercan O. Arik and Tomas Pfister \"TabNet: Attentive Interpretable Tabular Learning\", arXiv:1908.07442 (2019)](https://arxiv.org/pdf/1908.07442.pdf)\n",
    "* [pytorch-tabnet](https://github.com/dreamquark-ai/tabnet) (GitHub)\n",
    "* [\"TabNet on AI Platform: High-performance, Explainable Tabular Learning\"](https://cloud.google.com/blog/products/ai-machine-learning/ml-model-tabnet-is-easy-to-use-on-cloud-ai-platform) (Google Cloud)\n",
    "* Notebook: [TabNet: A simple binary classification example](https://www.kaggle.com/carlmcbrideellis/tabnet-simple-binary-classification-example) (using the Santander Customer Satisfaction data on kaggle)"
   ]
  }
 ],
 "metadata": {
  "kernelspec": {
   "display_name": "Python 3",
   "language": "python",
   "name": "python3"
  },
  "language_info": {
   "codemirror_mode": {
    "name": "ipython",
    "version": 3
   },
   "file_extension": ".py",
   "mimetype": "text/x-python",
   "name": "python",
   "nbconvert_exporter": "python",
   "pygments_lexer": "ipython3",
   "version": "3.7.6"
  },
  "papermill": {
   "duration": 928.219566,
   "end_time": "2020-11-12T17:41:43.516009",
   "environment_variables": {},
   "exception": null,
   "input_path": "__notebook__.ipynb",
   "output_path": "__notebook__.ipynb",
   "parameters": {},
   "start_time": "2020-11-12T17:26:15.296443",
   "version": "2.1.0"
  }
 },
 "nbformat": 4,
 "nbformat_minor": 4
}
