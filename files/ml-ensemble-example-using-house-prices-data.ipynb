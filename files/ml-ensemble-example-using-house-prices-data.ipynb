{
 "cells": [
  {
   "attachments": {
    "image.png": {
     "image/png": "[encoded data removed]"
    }
   },
   "cell_type": "markdown",
   "execution_count": null,
   "metadata": {
    "papermill": {
     "duration": 0.008641,
     "end_time": "2020-08-31T19:55:38.809758",
     "exception": false,
     "start_time": "2020-08-31T19:55:38.801117",
     "status": "completed"
    },
    "tags": []
   },
   "source": [
    "# ML-Ensemble using the House Prices competition data\n",
    "![image.png](attachment:image.png)\n",
    "\n",
    "> *ML-Ensemble a Python library for memory efficient parallelized ensemble learning. In particular, ML-Ensemble is a Scikit-learn compatible library for building deep ensemble networks in just a few lines of code.*\n",
    "\n",
    "This notebook is adapted from part of the extensive [Getting started tutorial](http://ml-ensemble.com/info/tutorials/start.html) on the [ML-Ensemble website](http://ml-ensemble.com/).\n",
    "\n",
    "For the ensemble meta learners we shall use [XGBoost](https://github.com/dmlc/xgboost), [CatBoost](https://github.com/catboost/catboost), and the [Regularized Greedy Forest (RGF)](https://github.com/RGF-team/rgf/tree/master/python-package) (See my notebook [\"Introduction to the Regularized Greedy Forest\"](https://www.kaggle.com/carlmcbrideellis/introduction-to-the-regularized-greedy-forest) for more details).\n",
    "For the meta estimator we shall use the [Random Forest Regressor](https://scikit-learn.org/stable/modules/generated/sklearn.ensemble.RandomForestRegressor.html).\n",
    "\n",
    "### Install both ML-Ensemble (`mlens`) and the Regularized Greedy Forest (`rgf_python`):"
   ]
  },
  {
   "cell_type": "code",
   "execution_count": 1,
   "metadata": {
    "_cell_guid": "b1076dfc-b9ad-4769-8c92-a6c4dae69d19",
    "_kg_hide-output": true,
    "_uuid": "8f2839f25d086af736a60e9eeb907d3b93b6e0e5",
    "execution": {
     "iopub.execute_input": "2020-08-31T19:55:38.830952Z",
     "iopub.status.busy": "2020-08-31T19:55:38.830055Z",
     "iopub.status.idle": "2020-08-31T19:55:56.644485Z",
     "shell.execute_reply": "2020-08-31T19:55:56.643754Z"
    },
    "papermill": {
     "duration": 17.827675,
     "end_time": "2020-08-31T19:55:56.644625",
     "exception": false,
     "start_time": "2020-08-31T19:55:38.816950",
     "status": "completed"
    },
    "tags": []
   },
   "outputs": [
    {
     "name": "stdout",
     "output_type": "stream",
     "text": [
      "Requirement already satisfied: mlens in /opt/conda/lib/python3.7/site-packages (0.2.3)\r\n",
      "Requirement already satisfied: scipy>=0.17 in /opt/conda/lib/python3.7/site-packages (from mlens) (1.4.1)\r\n",
      "Requirement already satisfied: numpy>=1.11 in /opt/conda/lib/python3.7/site-packages (from mlens) (1.18.5)\r\n",
      "Requirement already satisfied: rgf_python in /opt/conda/lib/python3.7/site-packages (3.9.0)\r\n",
      "Requirement already satisfied: scikit-learn>=0.18 in /opt/conda/lib/python3.7/site-packages (from rgf_python) (0.23.2)\r\n",
      "Requirement already satisfied: joblib in /opt/conda/lib/python3.7/site-packages (from rgf_python) (0.14.1)\r\n",
      "Requirement already satisfied: six in /opt/conda/lib/python3.7/site-packages (from rgf_python) (1.14.0)\r\n",
      "Requirement already satisfied: numpy>=1.13.3 in /opt/conda/lib/python3.7/site-packages (from scikit-learn>=0.18->rgf_python) (1.18.5)\r\n",
      "Requirement already satisfied: threadpoolctl>=2.0.0 in /opt/conda/lib/python3.7/site-packages (from scikit-learn>=0.18->rgf_python) (2.1.0)\r\n",
      "Requirement already satisfied: scipy>=0.19.1 in /opt/conda/lib/python3.7/site-packages (from scikit-learn>=0.18->rgf_python) (1.4.1)\r\n"
     ]
    }
   ],
   "source": [
    "!pip install mlens\n",
    "!pip install rgf_python"
   ]
  },
  {
   "cell_type": "markdown",
   "execution_count": null,
   "metadata": {
    "papermill": {
     "duration": 0.006193,
     "end_time": "2020-08-31T19:55:56.657793",
     "exception": false,
     "start_time": "2020-08-31T19:55:56.651600",
     "status": "completed"
    },
    "tags": []
   },
   "source": [
    "### set up the House Prices competition data"
   ]
  },
  {
   "cell_type": "code",
   "execution_count": 2,
   "metadata": {
    "_cell_guid": "79c7e3d0-c299-4dcb-8224-4455121ee9b0",
    "_uuid": "d629ff2d2480ee46fbb7e2d37f6b5fab8052498a",
    "collapsed": true,
    "execution": {
     "iopub.execute_input": "2020-08-31T19:55:56.685950Z",
     "iopub.status.busy": "2020-08-31T19:55:56.685076Z",
     "iopub.status.idle": "2020-08-31T19:55:56.793408Z",
     "shell.execute_reply": "2020-08-31T19:55:56.792715Z"
    },
    "papermill": {
     "duration": 0.129299,
     "end_time": "2020-08-31T19:55:56.793559",
     "exception": false,
     "start_time": "2020-08-31T19:55:56.664260",
     "status": "completed"
    },
    "tags": []
   },
   "outputs": [],
   "source": [
    "import pandas  as pd\n",
    "import numpy   as np\n",
    "\n",
    "#===========================================================================\n",
    "# read in the data\n",
    "#===========================================================================\n",
    "train_data = pd.read_csv('../input/house-prices-advanced-regression-techniques/train.csv')\n",
    "test_data  = pd.read_csv('../input/house-prices-advanced-regression-techniques/test.csv')\n",
    "\n",
    "#===========================================================================\n",
    "# select some features of interest\n",
    "#===========================================================================\n",
    "features = ['OverallQual' , 'GrLivArea' , 'TotalBsmtSF' , 'BsmtFinSF1' ,\n",
    "            '2ndFlrSF'    , 'GarageArea', '1stFlrSF'    , 'YearBuilt'  ]\n",
    "\n",
    "#===========================================================================\n",
    "#===========================================================================\n",
    "X_train       = train_data[features]\n",
    "y_train       = train_data[\"SalePrice\"]\n",
    "X_test        = test_data[features]\n",
    "\n",
    "#===========================================================================\n",
    "# imputation; substitute any 'NaN' with mean value\n",
    "#===========================================================================\n",
    "X_train      = X_train.fillna(X_train.mean())\n",
    "X_test       = X_test.fillna(X_test.mean())"
   ]
  },
  {
   "cell_type": "markdown",
   "execution_count": null,
   "metadata": {
    "papermill": {
     "duration": 0.006444,
     "end_time": "2020-08-31T19:55:56.806868",
     "exception": false,
     "start_time": "2020-08-31T19:55:56.800424",
     "status": "completed"
    },
    "tags": []
   },
   "source": [
    "### create a House Prices scoring function\n",
    "The House Prices competition uses the root of the [mean squared logarithmic error regression loss](https://scikit-learn.org/stable/modules/generated/sklearn.metrics.mean_squared_log_error.html) (Note: Be sure to adapt this function to the needs of your particular dataset/competition)"
   ]
  },
  {
   "cell_type": "code",
   "execution_count": 3,
   "metadata": {
    "execution": {
     "iopub.execute_input": "2020-08-31T19:55:56.827224Z",
     "iopub.status.busy": "2020-08-31T19:55:56.826411Z",
     "iopub.status.idle": "2020-08-31T19:55:57.903517Z",
     "shell.execute_reply": "2020-08-31T19:55:57.902704Z"
    },
    "papermill": {
     "duration": 1.090086,
     "end_time": "2020-08-31T19:55:57.903644",
     "exception": false,
     "start_time": "2020-08-31T19:55:56.813558",
     "status": "completed"
    },
    "tags": []
   },
   "outputs": [],
   "source": [
    "from sklearn.metrics import mean_squared_log_error\n",
    "\n",
    "def RMSLE(y,y_hat):\n",
    "    return np.sqrt( mean_squared_log_error(y,y_hat) )"
   ]
  },
  {
   "cell_type": "markdown",
   "execution_count": null,
   "metadata": {
    "papermill": {
     "duration": 0.006285,
     "end_time": "2020-08-31T19:55:57.916723",
     "exception": false,
     "start_time": "2020-08-31T19:55:57.910438",
     "status": "completed"
    },
    "tags": []
   },
   "source": [
    "### build and run the ensemble"
   ]
  },
  {
   "cell_type": "code",
   "execution_count": 4,
   "metadata": {
    "execution": {
     "iopub.execute_input": "2020-08-31T19:55:57.940728Z",
     "iopub.status.busy": "2020-08-31T19:55:57.939666Z",
     "iopub.status.idle": "2020-08-31T19:56:09.103413Z",
     "shell.execute_reply": "2020-08-31T19:56:09.102780Z"
    },
    "papermill": {
     "duration": 11.180105,
     "end_time": "2020-08-31T19:56:09.103544",
     "exception": false,
     "start_time": "2020-08-31T19:55:57.923439",
     "status": "completed"
    },
    "tags": []
   },
   "outputs": [
    {
     "name": "stderr",
     "output_type": "stream",
     "text": [
      "[MLENS] backend: threading\n"
     ]
    },
    {
     "name": "stdout",
     "output_type": "stream",
     "text": [
      "\n",
      "Fitting 2 layers\n",
      "Processing layer-1             done | 00:00:07\n",
      "Processing layer-2             done | 00:00:00\n",
      "Fit complete                        | 00:00:08\n",
      "\n",
      "Predicting 2 layers\n",
      "Processing layer-1             done | 00:00:00\n",
      "Processing layer-2             done | 00:00:00\n",
      "Predict complete                    | 00:00:00\n"
     ]
    }
   ],
   "source": [
    "from mlens.ensemble import SuperLearner\n",
    "from rgf.sklearn import RGFRegressor\n",
    "import xgboost as xgb\n",
    "from catboost import CatBoostRegressor\n",
    "from sklearn.ensemble import RandomForestRegressor\n",
    "\n",
    "# --- Build ---\n",
    "# Passing a scoring function will create cv scores during fitting\n",
    "# the scorer should be a simple function accepting to vectors and returning a scalar\n",
    "ensemble = SuperLearner(scorer=RMSLE, verbose=2)\n",
    "\n",
    "# Build the first layer\n",
    "ensemble.add([xgb.XGBRegressor(n_estimators  = 750,learning_rate = 0.02, max_depth = 4),\n",
    "              CatBoostRegressor(loss_function='RMSE', verbose=False),\n",
    "              RGFRegressor(max_leaf=300, algorithm=\"RGF_Sib\", test_interval=100, loss=\"LS\")])\n",
    "\n",
    "\n",
    "# Attach the final meta estimator\n",
    "ensemble.add_meta(RandomForestRegressor())\n",
    "\n",
    "# --- Use ---\n",
    "\n",
    "# Fit ensemble\n",
    "ensemble.fit(X_train, y_train)\n",
    "\n",
    "# Predict\n",
    "predictions = ensemble.predict(X_test)"
   ]
  },
  {
   "cell_type": "code",
   "execution_count": 5,
   "metadata": {
    "execution": {
     "iopub.execute_input": "2020-08-31T19:56:09.126393Z",
     "iopub.status.busy": "2020-08-31T19:56:09.125589Z",
     "iopub.status.idle": "2020-08-31T19:56:09.135160Z",
     "shell.execute_reply": "2020-08-31T19:56:09.134398Z"
    },
    "papermill": {
     "duration": 0.024333,
     "end_time": "2020-08-31T19:56:09.135296",
     "exception": false,
     "start_time": "2020-08-31T19:56:09.110963",
     "status": "completed"
    },
    "tags": []
   },
   "outputs": [
    {
     "name": "stdout",
     "output_type": "stream",
     "text": [
      "Fit data:\n",
      "                              score-m  score-s  ft-m  ft-s  pt-m  pt-s\n",
      "layer-1  catboostregressor       0.15     0.00  6.28  0.21  0.04  0.01\n",
      "layer-1  rgfregressor            0.16     0.00  0.15  0.01  0.08  0.03\n",
      "layer-1  xgbregressor            0.16     0.01  1.53  0.14  0.03  0.00\n",
      "\n"
     ]
    }
   ],
   "source": [
    "print(\"Fit data:\\n%r\" % ensemble.data)"
   ]
  },
  {
   "cell_type": "markdown",
   "execution_count": null,
   "metadata": {
    "papermill": {
     "duration": 0.007142,
     "end_time": "2020-08-31T19:56:09.150215",
     "exception": false,
     "start_time": "2020-08-31T19:56:09.143073",
     "status": "completed"
    },
    "tags": []
   },
   "source": [
    "### now write out the `submission.csv` file:"
   ]
  },
  {
   "cell_type": "code",
   "execution_count": 6,
   "metadata": {
    "execution": {
     "iopub.execute_input": "2020-08-31T19:56:09.172725Z",
     "iopub.status.busy": "2020-08-31T19:56:09.171943Z",
     "iopub.status.idle": "2020-08-31T19:56:09.429016Z",
     "shell.execute_reply": "2020-08-31T19:56:09.428359Z"
    },
    "papermill": {
     "duration": 0.271476,
     "end_time": "2020-08-31T19:56:09.429153",
     "exception": false,
     "start_time": "2020-08-31T19:56:09.157677",
     "status": "completed"
    },
    "tags": []
   },
   "outputs": [],
   "source": [
    "output = pd.DataFrame({\"Id\":test_data.Id, \"SalePrice\":predictions})\n",
    "output.to_csv('submission.csv', index=False)"
   ]
  },
  {
   "cell_type": "markdown",
   "execution_count": null,
   "metadata": {
    "papermill": {
     "duration": 0.00708,
     "end_time": "2020-08-31T19:56:09.444010",
     "exception": false,
     "start_time": "2020-08-31T19:56:09.436930",
     "status": "completed"
    },
    "tags": []
   },
   "source": [
    "Here we have looked at the ensembling, however the final score can  be improved upon with better feature selection (see for example [\"Feature selection using Boruta-SHAP\"](https://www.kaggle.com/carlmcbrideellis/feature-selection-using-borutashap)) as well as both feature engineering, and hyperparameter tuning of the individual estimators. The ensembling its-self is not so much about producing a better score (although this can happen) but about reducing the variance (or increasing the [explained variance score](https://scikit-learn.org/stable/modules/generated/sklearn.metrics.explained_variance_score.html)). Indeed our result may not beat the score of the best individual estimator that we used in the ensemble. However, what it can do is reduce the overfitting that leads to unwelcome surprises during the competition shakeup."
   ]
  },
  {
   "cell_type": "code",
   "execution_count": 7,
   "metadata": {
    "execution": {
     "iopub.execute_input": "2020-08-31T19:56:09.471889Z",
     "iopub.status.busy": "2020-08-31T19:56:09.470994Z",
     "iopub.status.idle": "2020-08-31T19:56:09.880358Z",
     "shell.execute_reply": "2020-08-31T19:56:09.879544Z"
    },
    "papermill": {
     "duration": 0.429143,
     "end_time": "2020-08-31T19:56:09.880487",
     "exception": false,
     "start_time": "2020-08-31T19:56:09.451344",
     "status": "completed"
    },
    "tags": []
   },
   "outputs": [
    {
     "data": {
      "image/png": "[encoded data removed]",
      "text/plain": [
       "<Figure size 720x576 with 1 Axes>"
      ]
     },
     "metadata": {
      "needs_background": "light"
     },
     "output_type": "display_data"
    }
   ],
   "source": [
    "import matplotlib.pyplot as plt\n",
    "from mlens.visualization import exp_var_plot\n",
    "from sklearn.decomposition import PCA\n",
    "exp_var_plot(X_train, PCA(), marker='s', where='post');"
   ]
  },
  {
   "cell_type": "markdown",
   "execution_count": null,
   "metadata": {
    "papermill": {
     "duration": 0.007416,
     "end_time": "2020-08-31T19:56:09.895757",
     "exception": false,
     "start_time": "2020-08-31T19:56:09.888341",
     "status": "completed"
    },
    "tags": []
   },
   "source": [
    "# Links\n",
    "* [ML-Ensemble](http://ml-ensemble.com/)\n",
    "* [GitHub: mlens](https://github.com/flennerhag/mlens) \n",
    "\n",
    "# Related notebooks\n",
    "* [ML-Ensemble: Scikit-learn style ensemble learning ](https://www.kaggle.com/flennerhag/ml-ensemble-scikit-learn-style-ensemble-learning) by [flnr](https://www.kaggle.com/flennerhag) (the author of `mlens`)\n",
    "* [Ensemble learning lib: MLens [99% accuracy]](https://www.kaggle.com/vipulgote4/ensemble-learning-lib-mlens-99-accuracy) by [vipul](https://www.kaggle.com/vipulgote4)"
   ]
  }
 ],
 "metadata": {
  "kernelspec": {
   "display_name": "Python 3",
   "language": "python",
   "name": "python3"
  },
  "language_info": {
   "codemirror_mode": {
    "name": "ipython",
    "version": 3
   },
   "file_extension": ".py",
   "mimetype": "text/x-python",
   "name": "python",
   "nbconvert_exporter": "python",
   "pygments_lexer": "ipython3",
   "version": "3.7.6"
  },
  "papermill": {
   "duration": 36.448602,
   "end_time": "2020-08-31T19:56:10.013199",
   "environment_variables": {},
   "exception": null,
   "input_path": "__notebook__.ipynb",
   "output_path": "__notebook__.ipynb",
   "parameters": {},
   "start_time": "2020-08-31T19:55:33.564597",
   "version": "2.1.0"
  }
 },
 "nbformat": 4,
 "nbformat_minor": 4
}
