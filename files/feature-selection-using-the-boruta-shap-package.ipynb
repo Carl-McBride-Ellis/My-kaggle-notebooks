{
 "cells": [
  {
   "cell_type": "markdown",
   "metadata": {
    "papermill": {
     "duration": 0.007233,
     "end_time": "2020-10-19T10:39:09.945543",
     "exception": false,
     "start_time": "2020-10-19T10:39:09.938310",
     "status": "completed"
    },
    "tags": []
   },
   "source": [
    "# Feature selection using the Boruta-SHAP package\n",
    "\n",
    "Feature selection (taken from [Wikipedia](https://en.wikipedia.org/wiki/Feature_selection)):\n",
    "\n",
    "> *In machine learning and statistics feature selection is the process of selecting a subset of relevant features (variables, predictors) for use in model construction. Feature selection techniques are used for several reasons:*\n",
    "> *  *simplification of models to make them easier to interpret*\n",
    "> *  *shorter training times,*\n",
    "> *  *to avoid the curse of dimensionality,*\n",
    "> *  *enhanced generalization by reducing overfitting (reduction of variance)* \n",
    "\n",
    "        \n",
    "The BorutaShap package, as the name suggests, combines the [Boruta feature selection algorithm](https://www.jstatsoft.org/article/view/v036i11) with the [SHAP (SHapley Additive exPlanations) technique](https://christophm.github.io/interpretable-ml-book/shap.html). The Boruta algorithm (named after a god of the forest in Slavic mythology) is tasked with [finding a minimal optimal feature set](https://dl.acm.org/doi/10.5555/1314498.1314519) rather than finding all the features relevant to the target variable. This leads to an unbiased and stable selection of important and non-important attributes.\n",
    "The BorutaShap package was written by Eoghan Keany, who has also written an introductory article [\"Is this the Best Feature Selection Algorithm 'BorutaShap'?\"](https://medium.com/analytics-vidhya/is-this-the-best-feature-selection-algorithm-borutashap-8bc238aa1677) providing an overview of how BorutaShap works.\n",
    "\n",
    "This is a simple example script to perform Boruta-SHAP on the kaggle [House Prices: Advanced Regression Techniques](https://www.kaggle.com/c/house-prices-advanced-regression-techniques) competition data. \n",
    "\n",
    "First we shall install [BorutaShap](https://github.com/Ekeany/Boruta-Shap):"
   ]
  },
  {
   "cell_type": "code",
   "execution_count": 1,
   "metadata": {
    "_cell_guid": "b1076dfc-b9ad-4769-8c92-a6c4dae69d19",
    "_kg_hide-output": true,
    "_uuid": "8f2839f25d086af736a60e9eeb907d3b93b6e0e5",
    "execution": {
     "iopub.execute_input": "2020-10-19T10:39:09.963337Z",
     "iopub.status.busy": "2020-10-19T10:39:09.962710Z",
     "iopub.status.idle": "2020-10-19T10:39:18.387770Z",
     "shell.execute_reply": "2020-10-19T10:39:18.387151Z"
    },
    "papermill": {
     "duration": 8.436013,
     "end_time": "2020-10-19T10:39:18.387905",
     "exception": false,
     "start_time": "2020-10-19T10:39:09.951892",
     "status": "completed"
    },
    "tags": []
   },
   "outputs": [
    {
     "name": "stdout",
     "output_type": "stream",
     "text": [
      "Collecting BorutaShap\r\n",
      "  Downloading BorutaShap-1.0.14-py3-none-any.whl (13 kB)\r\n",
      "Requirement already satisfied: numpy in /opt/conda/lib/python3.7/site-packages (from BorutaShap) (1.18.5)\r\n",
      "Requirement already satisfied: seaborn in /opt/conda/lib/python3.7/site-packages (from BorutaShap) (0.10.0)\r\n",
      "Requirement already satisfied: shap>=0.34.0 in /opt/conda/lib/python3.7/site-packages (from BorutaShap) (0.35.0)\r\n",
      "Requirement already satisfied: statsmodels in /opt/conda/lib/python3.7/site-packages (from BorutaShap) (0.11.1)\r\n",
      "Requirement already satisfied: scipy in /opt/conda/lib/python3.7/site-packages (from BorutaShap) (1.4.1)\r\n",
      "Requirement already satisfied: tqdm in /opt/conda/lib/python3.7/site-packages (from BorutaShap) (4.45.0)\r\n",
      "Requirement already satisfied: matplotlib in /opt/conda/lib/python3.7/site-packages (from BorutaShap) (3.2.1)\r\n",
      "Requirement already satisfied: scikit-learn in /opt/conda/lib/python3.7/site-packages (from BorutaShap) (0.23.1)\r\n",
      "Requirement already satisfied: pandas in /opt/conda/lib/python3.7/site-packages (from BorutaShap) (1.0.3)\r\n",
      "Requirement already satisfied: patsy>=0.5 in /opt/conda/lib/python3.7/site-packages (from statsmodels->BorutaShap) (0.5.1)\r\n",
      "Requirement already satisfied: pyparsing!=2.0.4,!=2.1.2,!=2.1.6,>=2.0.1 in /opt/conda/lib/python3.7/site-packages (from matplotlib->BorutaShap) (2.4.7)\r\n",
      "Requirement already satisfied: cycler>=0.10 in /opt/conda/lib/python3.7/site-packages (from matplotlib->BorutaShap) (0.10.0)\r\n",
      "Requirement already satisfied: kiwisolver>=1.0.1 in /opt/conda/lib/python3.7/site-packages (from matplotlib->BorutaShap) (1.2.0)\r\n",
      "Requirement already satisfied: python-dateutil>=2.1 in /opt/conda/lib/python3.7/site-packages (from matplotlib->BorutaShap) (2.8.1)\r\n",
      "Requirement already satisfied: joblib>=0.11 in /opt/conda/lib/python3.7/site-packages (from scikit-learn->BorutaShap) (0.14.1)\r\n",
      "Requirement already satisfied: threadpoolctl>=2.0.0 in /opt/conda/lib/python3.7/site-packages (from scikit-learn->BorutaShap) (2.1.0)\r\n",
      "Requirement already satisfied: pytz>=2017.2 in /opt/conda/lib/python3.7/site-packages (from pandas->BorutaShap) (2019.3)\r\n",
      "Requirement already satisfied: six in /opt/conda/lib/python3.7/site-packages (from patsy>=0.5->statsmodels->BorutaShap) (1.14.0)\r\n",
      "Installing collected packages: BorutaShap\r\n",
      "Successfully installed BorutaShap-1.0.14\r\n",
      "\u001b[33mWARNING: You are using pip version 20.1.1; however, version 20.2.4 is available.\r\n",
      "You should consider upgrading via the '/opt/conda/bin/python3.7 -m pip install --upgrade pip' command.\u001b[0m\r\n"
     ]
    }
   ],
   "source": [
    "!pip install BorutaShap"
   ]
  },
  {
   "cell_type": "markdown",
   "metadata": {
    "papermill": {
     "duration": 0.007903,
     "end_time": "2020-10-19T10:39:18.404732",
     "exception": false,
     "start_time": "2020-10-19T10:39:18.396829",
     "status": "completed"
    },
    "tags": []
   },
   "source": [
    "Now load in the kaggle House Prices data:"
   ]
  },
  {
   "cell_type": "code",
   "execution_count": 2,
   "metadata": {
    "execution": {
     "iopub.execute_input": "2020-10-19T10:39:18.430285Z",
     "iopub.status.busy": "2020-10-19T10:39:18.429616Z",
     "iopub.status.idle": "2020-10-19T10:39:18.504173Z",
     "shell.execute_reply": "2020-10-19T10:39:18.503522Z"
    },
    "papermill": {
     "duration": 0.091106,
     "end_time": "2020-10-19T10:39:18.504288",
     "exception": false,
     "start_time": "2020-10-19T10:39:18.413182",
     "status": "completed"
    },
    "tags": []
   },
   "outputs": [],
   "source": [
    "import pandas  as pd\n",
    "\n",
    "#===========================================================================\n",
    "# read in the House Prices data\n",
    "#===========================================================================\n",
    "train_data = pd.read_csv('../input/house-prices-advanced-regression-techniques/train.csv')\n",
    "test_data  = pd.read_csv('../input/house-prices-advanced-regression-techniques/test.csv')\n",
    "\n",
    "#===========================================================================\n",
    "# select some features (These are all 'integer' fields for today).\n",
    "#===========================================================================\n",
    "features = ['LotArea', 'OverallQual', 'OverallCond', 'YearBuilt', \n",
    "            'YearRemodAdd', 'BsmtFinSF1', 'BsmtFinSF2', 'TotalBsmtSF', \n",
    "            '1stFlrSF', 'LowQualFinSF', 'GrLivArea', 'BsmtFullBath', \n",
    "            'BsmtHalfBath', 'HalfBath', 'BedroomAbvGr',  'Fireplaces', \n",
    "            'GarageCars', 'GarageArea', 'WoodDeckSF', 'OpenPorchSF', \n",
    "            'EnclosedPorch',  'PoolArea', 'YrSold']\n",
    "\n",
    "#===========================================================================\n",
    "#===========================================================================\n",
    "X_train       = train_data[features]\n",
    "y_train       = train_data[\"SalePrice\"]"
   ]
  },
  {
   "cell_type": "markdown",
   "metadata": {
    "papermill": {
     "duration": 0.008205,
     "end_time": "2020-10-19T10:39:18.521073",
     "exception": false,
     "start_time": "2020-10-19T10:39:18.512868",
     "status": "completed"
    },
    "tags": []
   },
   "source": [
    "Now for the `BorutaShap`, here using 50 trials. Other options are:\n",
    "* `importance_measure`: can be `shap`, `gain` or `permutation`.\n",
    "\n",
    "The default `model` is the Random Forest. However other  tree based models can be used instead, such as  `DecisionTreeClassifier`, `RandomForestClassifier`, `XGBClassifier` and `CatBoostClassifier` "
   ]
  },
  {
   "cell_type": "code",
   "execution_count": 3,
   "metadata": {
    "_cell_guid": "79c7e3d0-c299-4dcb-8224-4455121ee9b0",
    "_uuid": "d629ff2d2480ee46fbb7e2d37f6b5fab8052498a",
    "execution": {
     "iopub.execute_input": "2020-10-19T10:39:18.544001Z",
     "iopub.status.busy": "2020-10-19T10:39:18.543069Z",
     "iopub.status.idle": "2020-10-19T11:18:42.928230Z",
     "shell.execute_reply": "2020-10-19T11:18:42.925287Z"
    },
    "papermill": {
     "duration": 2364.398852,
     "end_time": "2020-10-19T11:18:42.928457",
     "exception": false,
     "start_time": "2020-10-19T10:39:18.529605",
     "status": "completed"
    },
    "tags": []
   },
   "outputs": [
    {
     "name": "stderr",
     "output_type": "stream",
     "text": [
      "100%|██████████| 50/50 [39:22<00:00, 47.25s/it]"
     ]
    },
    {
     "name": "stdout",
     "output_type": "stream",
     "text": [
      "14 attributes confirmed important: ['TotalBsmtSF', 'Fireplaces', 'GrLivArea', 'WoodDeckSF', 'YearBuilt', 'GarageArea', 'LotArea', '1stFlrSF', 'OpenPorchSF', 'OverallCond', 'BsmtFinSF1', 'GarageCars', 'OverallQual', 'YearRemodAdd']\n",
      "9 attributes confirmed unimportant: ['PoolArea', 'BsmtHalfBath', 'EnclosedPorch', 'HalfBath', 'BsmtFullBath', 'BsmtFinSF2', 'BedroomAbvGr', 'YrSold', 'LowQualFinSF']\n",
      "0 tentative attributes remains: []\n"
     ]
    },
    {
     "name": "stderr",
     "output_type": "stream",
     "text": [
      "\n"
     ]
    }
   ],
   "source": [
    "from BorutaShap import BorutaShap\n",
    "\n",
    "# If no model is selected default is the Random Forest\n",
    "# If classification is True it is a classification problem\n",
    "Feature_Selector = BorutaShap(importance_measure='shap', classification=False)\n",
    "\n",
    "Feature_Selector.fit(X=X_train, y=y_train, n_trials=50, random_state=0)"
   ]
  },
  {
   "cell_type": "markdown",
   "metadata": {
    "papermill": {
     "duration": 0.022892,
     "end_time": "2020-10-19T11:18:42.974775",
     "exception": false,
     "start_time": "2020-10-19T11:18:42.951883",
     "status": "completed"
    },
    "tags": []
   },
   "source": [
    "Now return a [box-plot](https://en.wikipedia.org/wiki/Box_plot) of the features. The `which_features` parameter can be: `all`, `accepted`, `rejected` and `tentative`. "
   ]
  },
  {
   "cell_type": "code",
   "execution_count": 4,
   "metadata": {
    "execution": {
     "iopub.execute_input": "2020-10-19T11:18:43.043995Z",
     "iopub.status.busy": "2020-10-19T11:18:43.043123Z",
     "iopub.status.idle": "2020-10-19T11:18:44.078626Z",
     "shell.execute_reply": "2020-10-19T11:18:44.079125Z"
    },
    "papermill": {
     "duration": 1.081201,
     "end_time": "2020-10-19T11:18:44.079265",
     "exception": false,
     "start_time": "2020-10-19T11:18:42.998064",
     "status": "completed"
    },
    "tags": []
   },
   "outputs": [
    {
     "data": {
      "image/png": "[encoded data removed]",
      "text/plain": [
       "<Figure size 1152x864 with 1 Axes>"
      ]
     },
     "metadata": {
      "needs_background": "light"
     },
     "output_type": "display_data"
    }
   ],
   "source": [
    "Feature_Selector.plot(which_features='all', figsize=(16,12))"
   ]
  },
  {
   "cell_type": "code",
   "execution_count": 5,
   "metadata": {
    "execution": {
     "iopub.execute_input": "2020-10-19T11:18:44.147332Z",
     "iopub.status.busy": "2020-10-19T11:18:44.146590Z",
     "iopub.status.idle": "2020-10-19T11:18:44.160308Z",
     "shell.execute_reply": "2020-10-19T11:18:44.159746Z"
    },
    "papermill": {
     "duration": 0.05627,
     "end_time": "2020-10-19T11:18:44.160438",
     "exception": false,
     "start_time": "2020-10-19T11:18:44.104168",
     "status": "completed"
    },
    "tags": []
   },
   "outputs": [
    {
     "data": {
      "text/html": [
       "<div>\n",
       "<style scoped>\n",
       "    .dataframe tbody tr th:only-of-type {\n",
       "        vertical-align: middle;\n",
       "    }\n",
       "\n",
       "    .dataframe tbody tr th {\n",
       "        vertical-align: top;\n",
       "    }\n",
       "\n",
       "    .dataframe thead th {\n",
       "        text-align: right;\n",
       "    }\n",
       "</style>\n",
       "<table border=\"1\" class=\"dataframe\">\n",
       "  <thead>\n",
       "    <tr style=\"text-align: right;\">\n",
       "      <th></th>\n",
       "      <th>TotalBsmtSF</th>\n",
       "      <th>Fireplaces</th>\n",
       "      <th>GrLivArea</th>\n",
       "      <th>WoodDeckSF</th>\n",
       "      <th>YearBuilt</th>\n",
       "      <th>GarageArea</th>\n",
       "      <th>LotArea</th>\n",
       "      <th>1stFlrSF</th>\n",
       "      <th>OpenPorchSF</th>\n",
       "      <th>OverallCond</th>\n",
       "      <th>BsmtFinSF1</th>\n",
       "      <th>GarageCars</th>\n",
       "      <th>OverallQual</th>\n",
       "      <th>YearRemodAdd</th>\n",
       "    </tr>\n",
       "  </thead>\n",
       "  <tbody>\n",
       "    <tr>\n",
       "      <th>0</th>\n",
       "      <td>856</td>\n",
       "      <td>0</td>\n",
       "      <td>1710</td>\n",
       "      <td>0</td>\n",
       "      <td>2003</td>\n",
       "      <td>548</td>\n",
       "      <td>8450</td>\n",
       "      <td>856</td>\n",
       "      <td>61</td>\n",
       "      <td>5</td>\n",
       "      <td>706</td>\n",
       "      <td>2</td>\n",
       "      <td>7</td>\n",
       "      <td>2003</td>\n",
       "    </tr>\n",
       "    <tr>\n",
       "      <th>1</th>\n",
       "      <td>1262</td>\n",
       "      <td>1</td>\n",
       "      <td>1262</td>\n",
       "      <td>298</td>\n",
       "      <td>1976</td>\n",
       "      <td>460</td>\n",
       "      <td>9600</td>\n",
       "      <td>1262</td>\n",
       "      <td>0</td>\n",
       "      <td>8</td>\n",
       "      <td>978</td>\n",
       "      <td>2</td>\n",
       "      <td>6</td>\n",
       "      <td>1976</td>\n",
       "    </tr>\n",
       "    <tr>\n",
       "      <th>2</th>\n",
       "      <td>920</td>\n",
       "      <td>1</td>\n",
       "      <td>1786</td>\n",
       "      <td>0</td>\n",
       "      <td>2001</td>\n",
       "      <td>608</td>\n",
       "      <td>11250</td>\n",
       "      <td>920</td>\n",
       "      <td>42</td>\n",
       "      <td>5</td>\n",
       "      <td>486</td>\n",
       "      <td>2</td>\n",
       "      <td>7</td>\n",
       "      <td>2002</td>\n",
       "    </tr>\n",
       "    <tr>\n",
       "      <th>3</th>\n",
       "      <td>756</td>\n",
       "      <td>1</td>\n",
       "      <td>1717</td>\n",
       "      <td>0</td>\n",
       "      <td>1915</td>\n",
       "      <td>642</td>\n",
       "      <td>9550</td>\n",
       "      <td>961</td>\n",
       "      <td>35</td>\n",
       "      <td>5</td>\n",
       "      <td>216</td>\n",
       "      <td>3</td>\n",
       "      <td>7</td>\n",
       "      <td>1970</td>\n",
       "    </tr>\n",
       "    <tr>\n",
       "      <th>4</th>\n",
       "      <td>1145</td>\n",
       "      <td>1</td>\n",
       "      <td>2198</td>\n",
       "      <td>192</td>\n",
       "      <td>2000</td>\n",
       "      <td>836</td>\n",
       "      <td>14260</td>\n",
       "      <td>1145</td>\n",
       "      <td>84</td>\n",
       "      <td>5</td>\n",
       "      <td>655</td>\n",
       "      <td>3</td>\n",
       "      <td>8</td>\n",
       "      <td>2000</td>\n",
       "    </tr>\n",
       "    <tr>\n",
       "      <th>...</th>\n",
       "      <td>...</td>\n",
       "      <td>...</td>\n",
       "      <td>...</td>\n",
       "      <td>...</td>\n",
       "      <td>...</td>\n",
       "      <td>...</td>\n",
       "      <td>...</td>\n",
       "      <td>...</td>\n",
       "      <td>...</td>\n",
       "      <td>...</td>\n",
       "      <td>...</td>\n",
       "      <td>...</td>\n",
       "      <td>...</td>\n",
       "      <td>...</td>\n",
       "    </tr>\n",
       "    <tr>\n",
       "      <th>1455</th>\n",
       "      <td>953</td>\n",
       "      <td>1</td>\n",
       "      <td>1647</td>\n",
       "      <td>0</td>\n",
       "      <td>1999</td>\n",
       "      <td>460</td>\n",
       "      <td>7917</td>\n",
       "      <td>953</td>\n",
       "      <td>40</td>\n",
       "      <td>5</td>\n",
       "      <td>0</td>\n",
       "      <td>2</td>\n",
       "      <td>6</td>\n",
       "      <td>2000</td>\n",
       "    </tr>\n",
       "    <tr>\n",
       "      <th>1456</th>\n",
       "      <td>1542</td>\n",
       "      <td>2</td>\n",
       "      <td>2073</td>\n",
       "      <td>349</td>\n",
       "      <td>1978</td>\n",
       "      <td>500</td>\n",
       "      <td>13175</td>\n",
       "      <td>2073</td>\n",
       "      <td>0</td>\n",
       "      <td>6</td>\n",
       "      <td>790</td>\n",
       "      <td>2</td>\n",
       "      <td>6</td>\n",
       "      <td>1988</td>\n",
       "    </tr>\n",
       "    <tr>\n",
       "      <th>1457</th>\n",
       "      <td>1152</td>\n",
       "      <td>2</td>\n",
       "      <td>2340</td>\n",
       "      <td>0</td>\n",
       "      <td>1941</td>\n",
       "      <td>252</td>\n",
       "      <td>9042</td>\n",
       "      <td>1188</td>\n",
       "      <td>60</td>\n",
       "      <td>9</td>\n",
       "      <td>275</td>\n",
       "      <td>1</td>\n",
       "      <td>7</td>\n",
       "      <td>2006</td>\n",
       "    </tr>\n",
       "    <tr>\n",
       "      <th>1458</th>\n",
       "      <td>1078</td>\n",
       "      <td>0</td>\n",
       "      <td>1078</td>\n",
       "      <td>366</td>\n",
       "      <td>1950</td>\n",
       "      <td>240</td>\n",
       "      <td>9717</td>\n",
       "      <td>1078</td>\n",
       "      <td>0</td>\n",
       "      <td>6</td>\n",
       "      <td>49</td>\n",
       "      <td>1</td>\n",
       "      <td>5</td>\n",
       "      <td>1996</td>\n",
       "    </tr>\n",
       "    <tr>\n",
       "      <th>1459</th>\n",
       "      <td>1256</td>\n",
       "      <td>0</td>\n",
       "      <td>1256</td>\n",
       "      <td>736</td>\n",
       "      <td>1965</td>\n",
       "      <td>276</td>\n",
       "      <td>9937</td>\n",
       "      <td>1256</td>\n",
       "      <td>68</td>\n",
       "      <td>6</td>\n",
       "      <td>830</td>\n",
       "      <td>1</td>\n",
       "      <td>5</td>\n",
       "      <td>1965</td>\n",
       "    </tr>\n",
       "  </tbody>\n",
       "</table>\n",
       "<p>1460 rows × 14 columns</p>\n",
       "</div>"
      ],
      "text/plain": [
       "      TotalBsmtSF  Fireplaces  GrLivArea  WoodDeckSF  YearBuilt  GarageArea  \\\n",
       "0             856           0       1710           0       2003         548   \n",
       "1            1262           1       1262         298       1976         460   \n",
       "2             920           1       1786           0       2001         608   \n",
       "3             756           1       1717           0       1915         642   \n",
       "4            1145           1       2198         192       2000         836   \n",
       "...           ...         ...        ...         ...        ...         ...   \n",
       "1455          953           1       1647           0       1999         460   \n",
       "1456         1542           2       2073         349       1978         500   \n",
       "1457         1152           2       2340           0       1941         252   \n",
       "1458         1078           0       1078         366       1950         240   \n",
       "1459         1256           0       1256         736       1965         276   \n",
       "\n",
       "      LotArea  1stFlrSF  OpenPorchSF  OverallCond  BsmtFinSF1  GarageCars  \\\n",
       "0        8450       856           61            5         706           2   \n",
       "1        9600      1262            0            8         978           2   \n",
       "2       11250       920           42            5         486           2   \n",
       "3        9550       961           35            5         216           3   \n",
       "4       14260      1145           84            5         655           3   \n",
       "...       ...       ...          ...          ...         ...         ...   \n",
       "1455     7917       953           40            5           0           2   \n",
       "1456    13175      2073            0            6         790           2   \n",
       "1457     9042      1188           60            9         275           1   \n",
       "1458     9717      1078            0            6          49           1   \n",
       "1459     9937      1256           68            6         830           1   \n",
       "\n",
       "      OverallQual  YearRemodAdd  \n",
       "0               7          2003  \n",
       "1               6          1976  \n",
       "2               7          2002  \n",
       "3               7          1970  \n",
       "4               8          2000  \n",
       "...           ...           ...  \n",
       "1455            6          2000  \n",
       "1456            6          1988  \n",
       "1457            7          2006  \n",
       "1458            5          1996  \n",
       "1459            5          1965  \n",
       "\n",
       "[1460 rows x 14 columns]"
      ]
     },
     "execution_count": 5,
     "metadata": {},
     "output_type": "execute_result"
    }
   ],
   "source": [
    "# Return a subset of the original data with the selected features\n",
    "Feature_Selector.Subset()"
   ]
  },
  {
   "cell_type": "markdown",
   "metadata": {
    "papermill": {
     "duration": 0.025264,
     "end_time": "2020-10-19T11:18:44.211626",
     "exception": false,
     "start_time": "2020-10-19T11:18:44.186362",
     "status": "completed"
    },
    "tags": []
   },
   "source": [
    "These results compare well with those obtained both via [recursive feature elimination (RFE)](https://www.kaggle.com/carlmcbrideellis/recursive-feature-elimination-rfe-example) and via [permutation importance](https://www.kaggle.com/carlmcbrideellis/house-prices-permutation-importance-example), both applied to the very same dataset.\n",
    "### Links:\n",
    "* [Boruta-Shap](https://github.com/Ekeany/Boruta-Shap) (GitHub)\n",
    "* [SHAP (SHapley Additive exPlanations)](https://github.com/slundberg/shap) by Scott Lundberg (GitHub)\n",
    "* [Christoph Molnar \"SHAP (SHapley Additive exPlanations)\" in \"Interpretable Machine Learning: A Guide for Making Black Box Models Explainable\"](https://christophm.github.io/interpretable-ml-book/shap.html)\n",
    "* Miron B. Kursa, Witold R. Rudnicki \"Feature Selection with the Boruta Package\", Journal of Statistical Software Volume 36, Issue 11 (2010) [doi: 10.18637/jss.v036.i11](https://www.jstatsoft.org/article/view/v036i11) ([pdf](https://www.jstatsoft.org/article/view/v036i11/v36i11.pdf))\n",
    "\n",
    "**Related notebooks:**\n",
    "\n",
    "* [Automated feature selection with boruta](https://www.kaggle.com/residentmario/automated-feature-selection-with-boruta) by [Aleksey Bilogur](https://www.kaggle.com/residentmario)\n",
    "* [Boruta Beats 'em all-New look at Feature Selection](https://www.kaggle.com/ajaysamp/boruta-beats-em-all-new-look-at-feature-selection) by [Ajay Sampath](https://www.kaggle.com/ajaysamp)\n",
    "* [SHAP Values](https://www.kaggle.com/dansbecker/shap-values) by [DanB](https://www.kaggle.com/dansbecker)\n",
    "* [Advanced Uses of SHAP values](https://www.kaggle.com/dansbecker/advanced-uses-of-shap-values) by [DanB](https://www.kaggle.com/dansbecker)"
   ]
  }
 ],
 "metadata": {
  "kernelspec": {
   "display_name": "Python 3",
   "language": "python",
   "name": "python3"
  },
  "language_info": {
   "codemirror_mode": {
    "name": "ipython",
    "version": 3
   },
   "file_extension": ".py",
   "mimetype": "text/x-python",
   "name": "python",
   "nbconvert_exporter": "python",
   "pygments_lexer": "ipython3",
   "version": "3.7.6"
  },
  "papermill": {
   "duration": 2378.707185,
   "end_time": "2020-10-19T11:18:44.346575",
   "environment_variables": {},
   "exception": null,
   "input_path": "__notebook__.ipynb",
   "output_path": "__notebook__.ipynb",
   "parameters": {},
   "start_time": "2020-10-19T10:39:05.639390",
   "version": "2.1.0"
  }
 },
 "nbformat": 4,
 "nbformat_minor": 4
}
