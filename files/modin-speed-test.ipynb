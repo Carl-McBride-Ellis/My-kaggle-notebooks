{
 "cells": [
  {
   "cell_type": "markdown",
   "execution_count": null,
   "metadata": {},
   "source": [
    "### modin speed test: loading a pandas dataframe"
   ]
  },
  {
   "cell_type": "code",
   "execution_count": 1,
   "metadata": {
    "_cell_guid": "b1076dfc-b9ad-4769-8c92-a6c4dae69d19",
    "_kg_hide-output": true,
    "_uuid": "8f2839f25d086af736a60e9eeb907d3b93b6e0e5"
   },
   "outputs": [
    {
     "name": "stdout",
     "output_type": "stream",
     "text": [
      "Collecting modin[ray]\r\n",
      "  Downloading modin-0.7.3-py3-none-manylinux1_x86_64.whl (301 kB)\r\n",
      "\u001b[K     |████████████████████████████████| 301 kB 4.7 MB/s \r\n",
      "\u001b[?25hRequirement already satisfied: packaging in /opt/conda/lib/python3.7/site-packages (from modin[ray]) (20.1)\r\n",
      "Requirement already satisfied: pandas==1.0.3 in /opt/conda/lib/python3.7/site-packages (from modin[ray]) (1.0.3)\r\n",
      "Collecting ray==0.8.4; extra == \"ray\"\r\n",
      "  Downloading ray-0.8.4-cp37-cp37m-manylinux1_x86_64.whl (20.2 MB)\r\n",
      "\u001b[K     |████████████████████████████████| 20.2 MB 14.3 MB/s \r\n",
      "\u001b[?25hRequirement already satisfied: pyarrow<0.17; extra == \"ray\" in /opt/conda/lib/python3.7/site-packages (from modin[ray]) (0.16.0)\r\n",
      "Requirement already satisfied: six in /opt/conda/lib/python3.7/site-packages (from packaging->modin[ray]) (1.14.0)\r\n",
      "Requirement already satisfied: pyparsing>=2.0.2 in /opt/conda/lib/python3.7/site-packages (from packaging->modin[ray]) (2.4.7)\r\n",
      "Requirement already satisfied: python-dateutil>=2.6.1 in /opt/conda/lib/python3.7/site-packages (from pandas==1.0.3->modin[ray]) (2.8.1)\r\n",
      "Requirement already satisfied: numpy>=1.13.3 in /opt/conda/lib/python3.7/site-packages (from pandas==1.0.3->modin[ray]) (1.18.1)\r\n",
      "Requirement already satisfied: pytz>=2017.2 in /opt/conda/lib/python3.7/site-packages (from pandas==1.0.3->modin[ray]) (2019.3)\r\n",
      "Requirement already satisfied: redis>=3.3.2 in /opt/conda/lib/python3.7/site-packages (from ray==0.8.4; extra == \"ray\"->modin[ray]) (3.4.1)\r\n",
      "Requirement already satisfied: jsonschema in /opt/conda/lib/python3.7/site-packages (from ray==0.8.4; extra == \"ray\"->modin[ray]) (3.2.0)\r\n",
      "Requirement already satisfied: protobuf>=3.8.0 in /opt/conda/lib/python3.7/site-packages (from ray==0.8.4; extra == \"ray\"->modin[ray]) (3.11.4)\r\n",
      "Requirement already satisfied: colorama in /opt/conda/lib/python3.7/site-packages (from ray==0.8.4; extra == \"ray\"->modin[ray]) (0.4.3)\r\n",
      "Requirement already satisfied: filelock in /opt/conda/lib/python3.7/site-packages (from ray==0.8.4; extra == \"ray\"->modin[ray]) (3.0.10)\r\n",
      "Requirement already satisfied: grpcio in /opt/conda/lib/python3.7/site-packages (from ray==0.8.4; extra == \"ray\"->modin[ray]) (1.29.0)\r\n",
      "Requirement already satisfied: py-spy>=0.2.0 in /opt/conda/lib/python3.7/site-packages (from ray==0.8.4; extra == \"ray\"->modin[ray]) (0.3.3)\r\n",
      "Requirement already satisfied: aiohttp in /opt/conda/lib/python3.7/site-packages (from ray==0.8.4; extra == \"ray\"->modin[ray]) (3.6.2)\r\n",
      "Requirement already satisfied: google in /opt/conda/lib/python3.7/site-packages (from ray==0.8.4; extra == \"ray\"->modin[ray]) (2.0.3)\r\n",
      "Requirement already satisfied: pyyaml in /opt/conda/lib/python3.7/site-packages (from ray==0.8.4; extra == \"ray\"->modin[ray]) (5.3.1)\r\n",
      "Requirement already satisfied: click in /opt/conda/lib/python3.7/site-packages (from ray==0.8.4; extra == \"ray\"->modin[ray]) (7.1.1)\r\n",
      "Requirement already satisfied: importlib-metadata; python_version < \"3.8\" in /opt/conda/lib/python3.7/site-packages (from jsonschema->ray==0.8.4; extra == \"ray\"->modin[ray]) (1.6.0)\r\n",
      "Requirement already satisfied: pyrsistent>=0.14.0 in /opt/conda/lib/python3.7/site-packages (from jsonschema->ray==0.8.4; extra == \"ray\"->modin[ray]) (0.16.0)\r\n",
      "Requirement already satisfied: attrs>=17.4.0 in /opt/conda/lib/python3.7/site-packages (from jsonschema->ray==0.8.4; extra == \"ray\"->modin[ray]) (19.3.0)\r\n",
      "Requirement already satisfied: setuptools in /opt/conda/lib/python3.7/site-packages (from jsonschema->ray==0.8.4; extra == \"ray\"->modin[ray]) (46.1.3.post20200325)\r\n",
      "Requirement already satisfied: yarl<2.0,>=1.0 in /opt/conda/lib/python3.7/site-packages (from aiohttp->ray==0.8.4; extra == \"ray\"->modin[ray]) (1.4.2)\r\n",
      "Requirement already satisfied: chardet<4.0,>=2.0 in /opt/conda/lib/python3.7/site-packages (from aiohttp->ray==0.8.4; extra == \"ray\"->modin[ray]) (3.0.4)\r\n",
      "Requirement already satisfied: multidict<5.0,>=4.5 in /opt/conda/lib/python3.7/site-packages (from aiohttp->ray==0.8.4; extra == \"ray\"->modin[ray]) (4.7.6)\r\n",
      "Requirement already satisfied: async-timeout<4.0,>=3.0 in /opt/conda/lib/python3.7/site-packages (from aiohttp->ray==0.8.4; extra == \"ray\"->modin[ray]) (3.0.1)\r\n",
      "Requirement already satisfied: beautifulsoup4 in /opt/conda/lib/python3.7/site-packages (from google->ray==0.8.4; extra == \"ray\"->modin[ray]) (4.9.0)\r\n",
      "Requirement already satisfied: zipp>=0.5 in /opt/conda/lib/python3.7/site-packages (from importlib-metadata; python_version < \"3.8\"->jsonschema->ray==0.8.4; extra == \"ray\"->modin[ray]) (3.1.0)\r\n",
      "Requirement already satisfied: idna>=2.0 in /opt/conda/lib/python3.7/site-packages (from yarl<2.0,>=1.0->aiohttp->ray==0.8.4; extra == \"ray\"->modin[ray]) (2.9)\r\n",
      "Requirement already satisfied: soupsieve>1.2 in /opt/conda/lib/python3.7/site-packages (from beautifulsoup4->google->ray==0.8.4; extra == \"ray\"->modin[ray]) (1.9.4)\r\n",
      "Installing collected packages: ray, modin\r\n",
      "  Attempting uninstall: ray\r\n",
      "    Found existing installation: ray 0.8.5\r\n",
      "    Uninstalling ray-0.8.5:\r\n",
      "      Successfully uninstalled ray-0.8.5\r\n",
      "Successfully installed modin-0.7.3 ray-0.8.4\r\n"
     ]
    }
   ],
   "source": [
    "!pip install modin[ray]\n",
    "import numpy as np # linear algebra\n",
    "import pandas as pd # data processing, CSV file I/O (e.g. pd.read_csv)\n",
    "import time"
   ]
  },
  {
   "cell_type": "markdown",
   "execution_count": null,
   "metadata": {},
   "source": [
    "vanilla pandas test:"
   ]
  },
  {
   "cell_type": "code",
   "execution_count": 2,
   "metadata": {
    "_cell_guid": "79c7e3d0-c299-4dcb-8224-4455121ee9b0",
    "_uuid": "d629ff2d2480ee46fbb7e2d37f6b5fab8052498a"
   },
   "outputs": [
    {
     "name": "stdout",
     "output_type": "stream",
     "text": [
      "Dataframes loaded: time taken 4.31 seconds\n"
     ]
    }
   ],
   "source": [
    "start_time  = time.time()\n",
    "train_data  = pd.read_csv('../input/santander-customer-satisfaction/train.csv')\n",
    "test_data   = pd.read_csv('../input/santander-customer-satisfaction/test.csv')\n",
    "finish_time = time.time()\n",
    "no_modin_time = (finish_time - start_time)\n",
    "print(\"Dataframes loaded: time taken %.2f\" % no_modin_time +\" seconds\")"
   ]
  },
  {
   "cell_type": "markdown",
   "execution_count": null,
   "metadata": {},
   "source": [
    "...and now using `modin:`"
   ]
  },
  {
   "cell_type": "code",
   "execution_count": 3,
   "metadata": {},
   "outputs": [
    {
     "name": "stdout",
     "output_type": "stream",
     "text": [
      "Dataframes loaded: time taken 6.87 seconds\n"
     ]
    }
   ],
   "source": [
    "import modin.pandas as pd\n",
    "start_time  = time.time()\n",
    "train_data_again  = pd.read_csv('../input/santander-customer-satisfaction/train.csv')\n",
    "test_data_again   = pd.read_csv('../input/santander-customer-satisfaction/test.csv')\n",
    "finish_time = time.time()\n",
    "with_modin_time = (finish_time - start_time)\n",
    "print(\"Dataframes loaded: time taken %.2f\" % with_modin_time +\" seconds\")"
   ]
  }
 ],
 "metadata": {
  "kernelspec": {
   "display_name": "Python 3",
   "language": "python",
   "name": "python3"
  },
  "language_info": {
   "codemirror_mode": {
    "name": "ipython",
    "version": 3
   },
   "file_extension": ".py",
   "mimetype": "text/x-python",
   "name": "python",
   "nbconvert_exporter": "python",
   "pygments_lexer": "ipython3",
   "version": "3.7.6"
  }
 },
 "nbformat": 4,
 "nbformat_minor": 4
}
