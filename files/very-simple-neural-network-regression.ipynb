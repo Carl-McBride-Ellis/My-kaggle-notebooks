{
 "cells": [
  {
   "cell_type": "markdown",
   "execution_count": null,
   "metadata": {},
   "source": [
    "This is a minimalist script to perfom regression of the 'House Prices' data set using the keras deep learning library. As an example, for feature selection I have used the top eight features obtained from my scikit-learn [recursive feature elimination script](https://www.kaggle.com/carlmcbrideellis/recursive-feature-elimination-hp-v1).\n",
    "The purpose of this script is to serve as a basic starting baseline from which you can launch your own feature engineering, model/parameter tuning with a grid search, stratified k-fold cross validation, different activation functions, net topology, etc etc..."
   ]
  },
  {
   "cell_type": "code",
   "execution_count": 1,
   "metadata": {
    "_cell_guid": "e018a8a8-2331-4475-bbd3-490504b0c842",
    "_uuid": "b8bc8174-696c-499f-ba4c-6834589b8fb4"
   },
   "outputs": [
    {
     "name": "stderr",
     "output_type": "stream",
     "text": [
      "Using TensorFlow backend.\n"
     ]
    }
   ],
   "source": [
    "#!/usr/bin/python3\n",
    "# coding=utf-8\n",
    "#===========================================================================\n",
    "# This is a minimal script to perform a regression on the kaggle \n",
    "# 'House Prices' data set using the keras deep learning library \n",
    "# Carl McBride Ellis (15.IV.2020)\n",
    "#===========================================================================\n",
    "#===========================================================================\n",
    "# load up the libraries\n",
    "#===========================================================================\n",
    "import pandas  as pd\n",
    "import numpy   as np\n",
    "from   keras.models import Sequential\n",
    "from   keras.layers import Dense             # i.e.fully connected\n",
    "\n",
    "#===========================================================================\n",
    "# read in the data from your local directory\n",
    "#===========================================================================\n",
    "train_data = pd.read_csv('../input/house-prices-advanced-regression-techniques/train.csv')\n",
    "test_data  = pd.read_csv('../input/house-prices-advanced-regression-techniques/test.csv')\n",
    "\n",
    "#===========================================================================\n",
    "# select some features of interest (\"ay, there's the rub\", Shakespeare)\n",
    "#===========================================================================\n",
    "features = ['OverallQual' , 'GrLivArea' , 'TotalBsmtSF' , 'BsmtFinSF1' ,\n",
    "            '2ndFlrSF'    , 'GarageArea', '1stFlrSF'    , 'YearBuilt'  ]\n",
    "\n",
    "#===========================================================================\n",
    "#===========================================================================\n",
    "X_train       = train_data[features]\n",
    "y_train       = train_data[\"SalePrice\"]\n",
    "final_X_test  = test_data[features]\n",
    "\n",
    "#===========================================================================\n",
    "# essential preprocessing: imputation; substitute any 'NaN' with mean value \n",
    "#===========================================================================\n",
    "X_train      = X_train.fillna(X_train.mean())\n",
    "final_X_test = final_X_test.fillna(final_X_test.mean())\n",
    "\n",
    "\n",
    "#===========================================================================\n",
    "# parameters for keras\n",
    "#===========================================================================\n",
    "input_dim        = X_train.shape[1] # number of neurons in the input layer\n",
    "n_neurons        =  25       # number of neurons in the first hidden layer\n",
    "epochs           = 150       # number of training cycles\n",
    "\n",
    "#===========================================================================\n",
    "# keras model\n",
    "#===========================================================================\n",
    "model = Sequential()        # a model consisting of successive layers\n",
    "# input layer\n",
    "model.add(Dense(n_neurons, input_dim=input_dim, \n",
    "                kernel_initializer='normal', \n",
    "                activation='relu'))\n",
    "# output layer, with one neuron\n",
    "model.add(Dense(1, kernel_initializer='normal'))\n",
    "# compile the model\n",
    "model.compile(loss='mean_squared_error', optimizer='adam')\n",
    "\n",
    "#===========================================================================\n",
    "# train the model\n",
    "#===========================================================================\n",
    "model.fit(X_train, y_train, epochs=epochs, verbose=0)\n",
    "\n",
    "#===========================================================================\n",
    "# use the model to predict the prices for the test data\n",
    "#===========================================================================\n",
    "predictions = model.predict(final_X_test)\n",
    "\n",
    "#===========================================================================\n",
    "# write out CSV submission file\n",
    "#===========================================================================\n",
    "output = pd.DataFrame({\"Id\":test_data.Id, \"SalePrice\":predictions.flatten()})\n",
    "output.to_csv('submission.csv', index=False)"
   ]
  }
 ],
 "metadata": {
  "kernelspec": {
   "display_name": "Python 3",
   "language": "python",
   "name": "python3"
  },
  "language_info": {
   "codemirror_mode": {
    "name": "ipython",
    "version": 3
   },
   "file_extension": ".py",
   "mimetype": "text/x-python",
   "name": "python",
   "nbconvert_exporter": "python",
   "pygments_lexer": "ipython3",
   "version": "3.6.6"
  }
 },
 "nbformat": 4,
 "nbformat_minor": 4
}
