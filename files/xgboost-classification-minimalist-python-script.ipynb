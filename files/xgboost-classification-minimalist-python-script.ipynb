{
 "cells": [
  {
   "cell_type": "markdown",
   "metadata": {},
   "source": [
    "This is a minimalist script which applies XGBoost classification to the 'Titanic' data set. It produces a score of around 0.77990, but this is not good, nor is it the point: the purpose of this script is to serve as a basic starting framework from which you can launch your own feature engineering."
   ]
  },
  {
   "cell_type": "code",
   "execution_count": 1,
   "metadata": {
    "_cell_guid": "d6d87121-e247-42a8-ae4a-b8bfa9fff4ef",
    "_uuid": "20e698ea-188b-428d-be28-5488986d17ca"
   },
   "outputs": [],
   "source": [
    "#!/usr/bin/python3\n",
    "# coding=utf-8\n",
    "#===========================================================================\n",
    "# This is a minimal script to perform a classification on the kaggle \n",
    "# 'Titanic' data set using XGBoost Python API \n",
    "# Carl McBride Ellis (12.IV.2020)\n",
    "#===========================================================================\n",
    "#===========================================================================\n",
    "# load up the libraries\n",
    "#===========================================================================\n",
    "import pandas  as pd\n",
    "import xgboost as xgb\n",
    "from   xgboost import XGBClassifier\n",
    "\n",
    "#===========================================================================\n",
    "# read in the data\n",
    "#===========================================================================\n",
    "train_data = pd.read_csv('../input/titanic/train.csv')\n",
    "test_data  = pd.read_csv('../input/titanic/test.csv')\n",
    "\n",
    "#===========================================================================\n",
    "# select some features of interest (\"ay, there's the rub\", Shakespeare)\n",
    "#===========================================================================\n",
    "features = [\"Pclass\", \"Sex\", \"SibSp\", \"Parch\"]\n",
    "\n",
    "#===========================================================================\n",
    "# for the features that are categorical we use pd.get_dummies:\n",
    "# \"Convert categorical variable into dummy/indicator variables.\"\n",
    "#===========================================================================\n",
    "X_train       = pd.get_dummies(train_data[features])\n",
    "y_train       = train_data[\"Survived\"]\n",
    "final_X_test  = pd.get_dummies(test_data[features])\n",
    "\n",
    "#===========================================================================\n",
    "# XGBoost classification: \n",
    "# Parameters: \n",
    "# n_estimators  \"Number of gradient boosted trees. Equivalent to number of \n",
    "#                boosting rounds.\"\n",
    "# learning_rate \"Boosting learning rate (xgb’s “eta”)\"\n",
    "# max_depth     \"Maximum depth of a tree. Increasing this value will make \n",
    "#                the model more complex and more likely to overfit.\" \n",
    "#===========================================================================\n",
    "classifier = XGBClassifier(n_estimators=750,learning_rate=0.02,max_depth=3)\n",
    "classifier.fit(X_train, y_train)\n",
    "\n",
    "#===========================================================================\n",
    "# use the model to predict 'Survived' for the test data\n",
    "#===========================================================================\n",
    "predictions = classifier.predict(final_X_test)\n",
    "\n",
    "#===========================================================================\n",
    "# write out CSV submission file\n",
    "#===========================================================================\n",
    "output = pd.DataFrame({'PassengerId': test_data.PassengerId, 'Survived': predictions})\n",
    "output.to_csv('submission.csv', index=False)"
   ]
  }
 ],
 "metadata": {
  "kernelspec": {
   "display_name": "Python 3",
   "language": "python",
   "name": "python3"
  },
  "language_info": {
   "codemirror_mode": {
    "name": "ipython",
    "version": 3
   },
   "file_extension": ".py",
   "mimetype": "text/x-python",
   "name": "python",
   "nbconvert_exporter": "python",
   "pygments_lexer": "ipython3",
   "version": "3.6.6"
  }
 },
 "nbformat": 4,
 "nbformat_minor": 4
}
