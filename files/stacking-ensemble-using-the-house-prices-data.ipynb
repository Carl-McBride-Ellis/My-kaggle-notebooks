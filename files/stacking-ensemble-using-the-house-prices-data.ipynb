{
 "cells": [
  {
   "cell_type": "markdown",
   "execution_count": null,
   "metadata": {
    "papermill": {
     "duration": 0.005919,
     "end_time": "2020-09-02T18:31:26.995768",
     "exception": false,
     "start_time": "2020-09-02T18:31:26.989849",
     "status": "completed"
    },
    "tags": []
   },
   "source": [
    "# Stacking ensemble using House Prices data\n",
    "\n",
    "This is a short example of using the Scikit-learn [Stacking Regressor](https://scikit-learn.org/stable/modules/generated/sklearn.ensemble.StackingRegressor.html) which implements the stacked generalization technique.\n",
    "\n",
    "For the ensemble base learners we shall use [XGBoost](https://github.com/dmlc/xgboost), [CatBoost](https://github.com/catboost/catboost), and the [Regularized Greedy Forest (RGF)](https://github.com/RGF-team/rgf/tree/master/python-package) (See my notebook [\"Introduction to the Regularized Greedy Forest\"](https://www.kaggle.com/carlmcbrideellis/introduction-to-the-regularized-greedy-forest) for more details).\n",
    "For the meta estimator we shall use the [Random Forest Regressor](https://scikit-learn.org/stable/modules/generated/sklearn.ensemble.RandomForestRegressor.html).\n",
    "\n",
    "### Install the Regularized Greedy Forest (`rgf_python`):"
   ]
  },
  {
   "cell_type": "code",
   "execution_count": 1,
   "metadata": {
    "_cell_guid": "b1076dfc-b9ad-4769-8c92-a6c4dae69d19",
    "_kg_hide-output": true,
    "_uuid": "8f2839f25d086af736a60e9eeb907d3b93b6e0e5",
    "execution": {
     "iopub.execute_input": "2020-09-02T18:31:27.018813Z",
     "iopub.status.busy": "2020-09-02T18:31:27.017783Z",
     "iopub.status.idle": "2020-09-02T18:31:37.527307Z",
     "shell.execute_reply": "2020-09-02T18:31:37.527901Z"
    },
    "papermill": {
     "duration": 10.524674,
     "end_time": "2020-09-02T18:31:37.528127",
     "exception": false,
     "start_time": "2020-09-02T18:31:27.003453",
     "status": "completed"
    },
    "tags": []
   },
   "outputs": [
    {
     "name": "stdout",
     "output_type": "stream",
     "text": [
      "Requirement already satisfied: rgf_python in /opt/conda/lib/python3.7/site-packages (3.9.0)\r\n",
      "Requirement already satisfied: joblib in /opt/conda/lib/python3.7/site-packages (from rgf_python) (0.14.1)\r\n",
      "Requirement already satisfied: six in /opt/conda/lib/python3.7/site-packages (from rgf_python) (1.14.0)\r\n",
      "Requirement already satisfied: scikit-learn>=0.18 in /opt/conda/lib/python3.7/site-packages (from rgf_python) (0.23.2)\r\n",
      "Requirement already satisfied: scipy>=0.19.1 in /opt/conda/lib/python3.7/site-packages (from scikit-learn>=0.18->rgf_python) (1.4.1)\r\n",
      "Requirement already satisfied: numpy>=1.13.3 in /opt/conda/lib/python3.7/site-packages (from scikit-learn>=0.18->rgf_python) (1.18.5)\r\n",
      "Requirement already satisfied: threadpoolctl>=2.0.0 in /opt/conda/lib/python3.7/site-packages (from scikit-learn>=0.18->rgf_python) (2.1.0)\r\n"
     ]
    }
   ],
   "source": [
    "!pip install rgf_python"
   ]
  },
  {
   "cell_type": "markdown",
   "execution_count": null,
   "metadata": {
    "papermill": {
     "duration": 0.004635,
     "end_time": "2020-09-02T18:31:37.537630",
     "exception": false,
     "start_time": "2020-09-02T18:31:37.532995",
     "status": "completed"
    },
    "tags": []
   },
   "source": [
    "### set up the House Prices competition data"
   ]
  },
  {
   "cell_type": "code",
   "execution_count": 2,
   "metadata": {
    "execution": {
     "iopub.execute_input": "2020-09-02T18:31:37.563895Z",
     "iopub.status.busy": "2020-09-02T18:31:37.563073Z",
     "iopub.status.idle": "2020-09-02T18:31:37.696218Z",
     "shell.execute_reply": "2020-09-02T18:31:37.695495Z"
    },
    "papermill": {
     "duration": 0.154134,
     "end_time": "2020-09-02T18:31:37.696343",
     "exception": false,
     "start_time": "2020-09-02T18:31:37.542209",
     "status": "completed"
    },
    "tags": []
   },
   "outputs": [],
   "source": [
    "import pandas  as pd\n",
    "import numpy   as np\n",
    "\n",
    "#===========================================================================\n",
    "# read in the data\n",
    "#===========================================================================\n",
    "train_data = pd.read_csv('../input/house-prices-advanced-regression-techniques/train.csv')\n",
    "test_data  = pd.read_csv('../input/house-prices-advanced-regression-techniques/test.csv')\n",
    "\n",
    "#===========================================================================\n",
    "# select some features\n",
    "#===========================================================================\n",
    "features = ['MSSubClass', 'LotArea', 'OverallQual', 'OverallCond', \n",
    "        'YearBuilt', 'YearRemodAdd', 'BsmtFinSF1', 'BsmtFinSF2', \n",
    "        'BsmtUnfSF', 'TotalBsmtSF', '1stFlrSF', '2ndFlrSF', \n",
    "        'LowQualFinSF', 'GrLivArea', 'BsmtFullBath', 'BsmtHalfBath', \n",
    "        'FullBath', 'HalfBath', 'BedroomAbvGr', 'KitchenAbvGr', \n",
    "        'TotRmsAbvGrd', 'Fireplaces', 'GarageCars', 'GarageArea', \n",
    "        'WoodDeckSF', 'OpenPorchSF', 'EnclosedPorch', '3SsnPorch', \n",
    "        'ScreenPorch', 'PoolArea', 'MiscVal', 'MoSold', 'YrSold']\n",
    "\n",
    "#===========================================================================\n",
    "#===========================================================================\n",
    "X_train       = train_data[features]\n",
    "y_train       = train_data[\"SalePrice\"]\n",
    "X_test        = test_data[features]\n",
    "\n",
    "#===========================================================================\n",
    "# imputation; substitute any 'NaN' with mean value\n",
    "#===========================================================================\n",
    "X_train      = X_train.fillna(X_train.mean())\n",
    "X_test       = X_test.fillna(X_test.mean())"
   ]
  },
  {
   "cell_type": "markdown",
   "execution_count": null,
   "metadata": {
    "papermill": {
     "duration": 0.004357,
     "end_time": "2020-09-02T18:31:37.705547",
     "exception": false,
     "start_time": "2020-09-02T18:31:37.701190",
     "status": "completed"
    },
    "tags": []
   },
   "source": [
    "### build and run the ensemble"
   ]
  },
  {
   "cell_type": "code",
   "execution_count": 3,
   "metadata": {
    "execution": {
     "iopub.execute_input": "2020-09-02T18:31:37.727947Z",
     "iopub.status.busy": "2020-09-02T18:31:37.727119Z",
     "iopub.status.idle": "2020-09-02T18:32:07.068376Z",
     "shell.execute_reply": "2020-09-02T18:32:07.069213Z"
    },
    "papermill": {
     "duration": 29.357529,
     "end_time": "2020-09-02T18:32:07.069436",
     "exception": false,
     "start_time": "2020-09-02T18:31:37.711907",
     "status": "completed"
    },
    "tags": []
   },
   "outputs": [],
   "source": [
    "from rgf.sklearn import RGFRegressor\n",
    "import xgboost as xgb\n",
    "from catboost import CatBoostRegressor\n",
    "from sklearn.ensemble import RandomForestRegressor\n",
    "from sklearn.ensemble import StackingRegressor\n",
    "from sklearn.model_selection import train_test_split\n",
    "\n",
    "estimators =  [('xgb',xgb.XGBRegressor(n_estimators  = 750,learning_rate = 0.02, max_depth = 5)),\n",
    "               ('cat',CatBoostRegressor(loss_function='RMSE', verbose=False)),\n",
    "               ('RGF',RGFRegressor(max_leaf=500, algorithm=\"RGF_Sib\", test_interval=100, loss=\"LS\"))]\n",
    "\n",
    "ensemble = StackingRegressor(estimators      =  estimators,\n",
    "                             final_estimator =  RandomForestRegressor())\n",
    "\n",
    "# Fit ensemble using cross-validation\n",
    "X_tr, X_te, y_tr, y_te = train_test_split(X_train,y_train)\n",
    "ensemble.fit(X_tr, y_tr).score(X_te, y_te)\n",
    "\n",
    "# Prediction\n",
    "predictions = ensemble.predict(X_test)"
   ]
  },
  {
   "cell_type": "markdown",
   "execution_count": null,
   "metadata": {
    "papermill": {
     "duration": 0.006088,
     "end_time": "2020-09-02T18:32:07.081546",
     "exception": false,
     "start_time": "2020-09-02T18:32:07.075458",
     "status": "completed"
    },
    "tags": []
   },
   "source": [
    "### now write out the `submission.csv` file:"
   ]
  },
  {
   "cell_type": "code",
   "execution_count": 4,
   "metadata": {
    "_cell_guid": "79c7e3d0-c299-4dcb-8224-4455121ee9b0",
    "_uuid": "d629ff2d2480ee46fbb7e2d37f6b5fab8052498a",
    "execution": {
     "iopub.execute_input": "2020-09-02T18:32:07.102110Z",
     "iopub.status.busy": "2020-09-02T18:32:07.101171Z",
     "iopub.status.idle": "2020-09-02T18:32:07.376344Z",
     "shell.execute_reply": "2020-09-02T18:32:07.375519Z"
    },
    "papermill": {
     "duration": 0.28929,
     "end_time": "2020-09-02T18:32:07.376495",
     "exception": false,
     "start_time": "2020-09-02T18:32:07.087205",
     "status": "completed"
    },
    "tags": []
   },
   "outputs": [],
   "source": [
    "output = pd.DataFrame({\"Id\":test_data.Id, \"SalePrice\":predictions})\n",
    "output.to_csv('submission.csv', index=False)"
   ]
  },
  {
   "cell_type": "markdown",
   "execution_count": null,
   "metadata": {
    "papermill": {
     "duration": 0.004492,
     "end_time": "2020-09-02T18:32:07.385896",
     "exception": false,
     "start_time": "2020-09-02T18:32:07.381404",
     "status": "completed"
    },
    "tags": []
   },
   "source": [
    "# Links\n",
    "* [David H.Wolpert \"Stacked generalization\", Neural Networks Vol 5, pp. 241-259 (1992)](https://www.sciencedirect.com/science/article/abs/pii/S0893608005800231)\n"
   ]
  }
 ],
 "metadata": {
  "kernelspec": {
   "display_name": "Python 3",
   "language": "python",
   "name": "python3"
  },
  "language_info": {
   "codemirror_mode": {
    "name": "ipython",
    "version": 3
   },
   "file_extension": ".py",
   "mimetype": "text/x-python",
   "name": "python",
   "nbconvert_exporter": "python",
   "pygments_lexer": "ipython3",
   "version": "3.7.6"
  },
  "papermill": {
   "duration": 47.292951,
   "end_time": "2020-09-02T18:32:08.400508",
   "environment_variables": {},
   "exception": null,
   "input_path": "__notebook__.ipynb",
   "output_path": "__notebook__.ipynb",
   "parameters": {},
   "start_time": "2020-09-02T18:31:21.107557",
   "version": "2.1.0"
  }
 },
 "nbformat": 4,
 "nbformat_minor": 4
}
