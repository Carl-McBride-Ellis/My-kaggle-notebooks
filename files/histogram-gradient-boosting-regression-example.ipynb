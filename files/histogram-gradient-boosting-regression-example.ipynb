{
 "cells": [
  {
   "cell_type": "markdown",
   "metadata": {
    "papermill": {
     "duration": 0.008667,
     "end_time": "2020-11-15T12:55:42.359365",
     "exception": false,
     "start_time": "2020-11-15T12:55:42.350698",
     "status": "completed"
    },
    "tags": []
   },
   "source": [
    "## Histogram Gradient Boosting Regression example\n",
    "\n",
    "This is a demonstration of the <font color='purple'>(still experimental)</font> **histogram-based gradient boosting regression tree estimator** which is now available in scikit-learn as [sklearn.ensemble.HistGradientBoostingRegressor](https://scikit-learn.org/stable/modules/generated/sklearn.ensemble.HistGradientBoostingRegressor.html).\n",
    "\n",
    "For input we shall be using the data produced by the excellent notebook [\"INGV Volcanic Eruption Prediction - LGBM Baseline\"](https://www.kaggle.com/ajcostarino/ingv-volcanic-eruption-prediction-lgbm-baseline), written by [Adam James](https://www.kaggle.com/ajcostarino). The training dataset consists of 4431 rows and 444 columns, and occupies around 23MB.\n",
    "For the estimator I shall simply use the default parameters (see the sklearn page for details)."
   ]
  },
  {
   "cell_type": "code",
   "execution_count": 1,
   "metadata": {
    "_cell_guid": "b1076dfc-b9ad-4769-8c92-a6c4dae69d19",
    "_uuid": "8f2839f25d086af736a60e9eeb907d3b93b6e0e5",
    "execution": {
     "iopub.execute_input": "2020-11-15T12:55:42.385132Z",
     "iopub.status.busy": "2020-11-15T12:55:42.384341Z",
     "iopub.status.idle": "2020-11-15T12:55:43.466765Z",
     "shell.execute_reply": "2020-11-15T12:55:43.465969Z"
    },
    "papermill": {
     "duration": 1.097948,
     "end_time": "2020-11-15T12:55:43.466891",
     "exception": false,
     "start_time": "2020-11-15T12:55:42.368943",
     "status": "completed"
    },
    "tags": []
   },
   "outputs": [],
   "source": [
    "import numpy  as np\n",
    "import pandas as pd\n",
    "\n",
    "# To use this experimental feature, we need to explicitly ask for it:\n",
    "from sklearn.experimental    import enable_hist_gradient_boosting\n",
    "from sklearn.ensemble        import HistGradientBoostingRegressor\n",
    "\n",
    "from sklearn.model_selection import KFold\n",
    "from sklearn.metrics         import mean_absolute_error"
   ]
  },
  {
   "cell_type": "markdown",
   "metadata": {
    "papermill": {
     "duration": 0.010481,
     "end_time": "2020-11-15T12:55:43.485892",
     "exception": false,
     "start_time": "2020-11-15T12:55:43.475411",
     "status": "completed"
    },
    "tags": []
   },
   "source": [
    "read in the datasets"
   ]
  },
  {
   "cell_type": "code",
   "execution_count": 2,
   "metadata": {
    "_cell_guid": "79c7e3d0-c299-4dcb-8224-4455121ee9b0",
    "_uuid": "d629ff2d2480ee46fbb7e2d37f6b5fab8052498a",
    "execution": {
     "iopub.execute_input": "2020-11-15T12:55:43.511969Z",
     "iopub.status.busy": "2020-11-15T12:55:43.511174Z",
     "iopub.status.idle": "2020-11-15T12:55:44.738096Z",
     "shell.execute_reply": "2020-11-15T12:55:44.737306Z"
    },
    "papermill": {
     "duration": 1.243795,
     "end_time": "2020-11-15T12:55:44.738242",
     "exception": false,
     "start_time": "2020-11-15T12:55:43.494447",
     "status": "completed"
    },
    "tags": []
   },
   "outputs": [],
   "source": [
    "train  = pd.read_csv('../input/the-volcano-and-the-regularized-greedy-forest/volcano_train.csv')\n",
    "test   = pd.read_csv('../input/the-volcano-and-the-regularized-greedy-forest/volcano_test.csv')\n",
    "sample = pd.read_csv('../input/predict-volcanic-eruptions-ingv-oe/sample_submission.csv')\n",
    "\n",
    "X      = train.drop([\"segment_id\",\"time_to_eruption\"],axis=1).to_numpy()\n",
    "y      = (train[\"time_to_eruption\"]).to_numpy().squeeze()\n",
    "X_test = test.drop(\"segment_id\",axis=1).to_numpy()"
   ]
  },
  {
   "cell_type": "markdown",
   "metadata": {
    "papermill": {
     "duration": 0.008411,
     "end_time": "2020-11-15T12:55:44.755017",
     "exception": false,
     "start_time": "2020-11-15T12:55:44.746606",
     "status": "completed"
    },
    "tags": []
   },
   "source": [
    "perform the regression, here with 10-fold cross-validation:"
   ]
  },
  {
   "cell_type": "code",
   "execution_count": 3,
   "metadata": {
    "execution": {
     "iopub.execute_input": "2020-11-15T12:55:44.778260Z",
     "iopub.status.busy": "2020-11-15T12:55:44.777453Z",
     "iopub.status.idle": "2020-11-15T12:56:55.137851Z",
     "shell.execute_reply": "2020-11-15T12:56:55.138608Z"
    },
    "papermill": {
     "duration": 70.375856,
     "end_time": "2020-11-15T12:56:55.138801",
     "exception": false,
     "start_time": "2020-11-15T12:55:44.762945",
     "status": "completed"
    },
    "tags": []
   },
   "outputs": [
    {
     "name": "stdout",
     "output_type": "stream",
     "text": [
      "CPU times: user 3min 53s, sys: 30.7 s, total: 4min 23s\n",
      "Wall time: 1min 10s\n"
     ]
    }
   ],
   "source": [
    "%%time\n",
    "\n",
    "kf = KFold(n_splits=10, random_state=42, shuffle=True)\n",
    "\n",
    "predictions_array = []\n",
    "CV_score_array    = []\n",
    "\n",
    "for train_index, test_index in kf.split(X):\n",
    "    \n",
    "    X_train, X_valid = X[train_index], X[test_index]\n",
    "    y_train, y_valid = y[train_index], y[test_index]\n",
    "    \n",
    "    regressor =  HistGradientBoostingRegressor()\n",
    "    regressor.fit(X_train, y_train)\n",
    "    \n",
    "    predictions_array.append(regressor.predict(X_test))\n",
    "    CV_score_array.append(mean_absolute_error(y_valid,regressor.predict(X_valid)))    \n",
    "\n",
    "predictions = np.mean(predictions_array,axis=0)"
   ]
  },
  {
   "cell_type": "code",
   "execution_count": 4,
   "metadata": {
    "execution": {
     "iopub.execute_input": "2020-11-15T12:56:55.169144Z",
     "iopub.status.busy": "2020-11-15T12:56:55.168203Z",
     "iopub.status.idle": "2020-11-15T12:56:55.172753Z",
     "shell.execute_reply": "2020-11-15T12:56:55.169913Z"
    },
    "papermill": {
     "duration": 0.023335,
     "end_time": "2020-11-15T12:56:55.172887",
     "exception": false,
     "start_time": "2020-11-15T12:56:55.149552",
     "status": "completed"
    },
    "tags": []
   },
   "outputs": [
    {
     "name": "stdout",
     "output_type": "stream",
     "text": [
      "The average CV mean absolute error is 4128933\n"
     ]
    }
   ],
   "source": [
    "print(\"The average CV mean absolute error is %d\" % np.mean(CV_score_array,axis=0))"
   ]
  },
  {
   "cell_type": "markdown",
   "metadata": {
    "papermill": {
     "duration": 0.010484,
     "end_time": "2020-11-15T12:56:55.194232",
     "exception": false,
     "start_time": "2020-11-15T12:56:55.183748",
     "status": "completed"
    },
    "tags": []
   },
   "source": [
    "now write out a `submission.csv` file"
   ]
  },
  {
   "cell_type": "code",
   "execution_count": 5,
   "metadata": {
    "execution": {
     "iopub.execute_input": "2020-11-15T12:56:55.225340Z",
     "iopub.status.busy": "2020-11-15T12:56:55.224094Z",
     "iopub.status.idle": "2020-11-15T12:56:55.524368Z",
     "shell.execute_reply": "2020-11-15T12:56:55.523596Z"
    },
    "papermill": {
     "duration": 0.319313,
     "end_time": "2020-11-15T12:56:55.524488",
     "exception": false,
     "start_time": "2020-11-15T12:56:55.205175",
     "status": "completed"
    },
    "tags": []
   },
   "outputs": [],
   "source": [
    "sample.iloc[:,1:] = predictions\n",
    "sample.to_csv('submission.csv',index=False)"
   ]
  },
  {
   "cell_type": "markdown",
   "metadata": {
    "papermill": {
     "duration": 0.009076,
     "end_time": "2020-11-15T12:56:55.543301",
     "exception": false,
     "start_time": "2020-11-15T12:56:55.534225",
     "status": "completed"
    },
    "tags": []
   },
   "source": [
    "### See also:\n",
    "* [Histogram Gradient Boosting Classifier example](https://www.kaggle.com/carlmcbrideellis/histogram-gradient-boosting-classifier-example) performed on the *Santander Customer Satisfaction* dataset.\n",
    "\n",
    "## Related reading\n",
    "\n",
    "* [Aleksei Guryanov \"Histogram-Based Algorithm for Building Gradient Boosting Ensembles of Piecewise Linear Decision Trees\", In: van der Aalst W. et al. (eds) Analysis of Images, Social Networks and Texts. AIST 2019. Lecture Notes in Computer Science, vol 11832. Springer (2019)](https://link.springer.com/chapter/10.1007%2F978-3-030-37334-4_4)"
   ]
  }
 ],
 "metadata": {
  "kernelspec": {
   "display_name": "Python 3",
   "language": "python",
   "name": "python3"
  },
  "language_info": {
   "codemirror_mode": {
    "name": "ipython",
    "version": 3
   },
   "file_extension": ".py",
   "mimetype": "text/x-python",
   "name": "python",
   "nbconvert_exporter": "python",
   "pygments_lexer": "ipython3",
   "version": "3.7.6"
  },
  "papermill": {
   "duration": 78.822068,
   "end_time": "2020-11-15T12:56:56.636057",
   "environment_variables": {},
   "exception": null,
   "input_path": "__notebook__.ipynb",
   "output_path": "__notebook__.ipynb",
   "parameters": {},
   "start_time": "2020-11-15T12:55:37.813989",
   "version": "2.1.0"
  }
 },
 "nbformat": 4,
 "nbformat_minor": 4
}
