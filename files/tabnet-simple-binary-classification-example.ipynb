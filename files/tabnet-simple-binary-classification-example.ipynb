{
 "cells": [
  {
   "cell_type": "markdown",
   "metadata": {
    "papermill": {
     "duration": 0.009297,
     "end_time": "2020-11-03T12:00:48.858727",
     "exception": false,
     "start_time": "2020-11-03T12:00:48.849430",
     "status": "completed"
    },
    "tags": []
   },
   "source": [
    "# TabNet: A very simple binary classification example using the [Santander Customer Satisfaction](https://www.kaggle.com/c/santander-customer-satisfaction) data\n",
    "[**TabNet**](https://arxiv.org/pdf/1908.07442.pdf) brings deep learning to tabular data. TabNet has been developed by researchers at Google Cloud AI and achieves SOTA performance on a number of test cases.\n",
    "This notebook is a simple example of performing a binary classification using the [pyTorch implementation](https://pypi.org/project/pytorch-tabnet/). \n",
    "\n",
    "The winning Private Score for this competition was `0.82907` which was achieved using an ensemble solution. Here we obtain a Private Score of `0.81478` with TabNet, right out of the box...\n",
    "\n",
    "#### Install TabNet:"
   ]
  },
  {
   "cell_type": "code",
   "execution_count": 1,
   "metadata": {
    "_cell_guid": "b1076dfc-b9ad-4769-8c92-a6c4dae69d19",
    "_kg_hide-output": true,
    "_uuid": "8f2839f25d086af736a60e9eeb907d3b93b6e0e5",
    "execution": {
     "iopub.execute_input": "2020-11-03T12:00:48.881955Z",
     "iopub.status.busy": "2020-11-03T12:00:48.881165Z",
     "iopub.status.idle": "2020-11-03T12:00:59.522749Z",
     "shell.execute_reply": "2020-11-03T12:00:59.522069Z"
    },
    "papermill": {
     "duration": 10.655517,
     "end_time": "2020-11-03T12:00:59.522877",
     "exception": false,
     "start_time": "2020-11-03T12:00:48.867360",
     "status": "completed"
    },
    "tags": []
   },
   "outputs": [
    {
     "name": "stdout",
     "output_type": "stream",
     "text": [
      "Collecting pytorch-tabnet\r\n",
      "  Downloading pytorch_tabnet-2.0.1-py3-none-any.whl (30 kB)\r\n",
      "Requirement already satisfied: scipy>1.4 in /opt/conda/lib/python3.7/site-packages (from pytorch-tabnet) (1.4.1)\r\n",
      "Requirement already satisfied: numpy<2.0,>=1.17 in /opt/conda/lib/python3.7/site-packages (from pytorch-tabnet) (1.18.5)\r\n",
      "Requirement already satisfied: scikit_learn>0.21 in /opt/conda/lib/python3.7/site-packages (from pytorch-tabnet) (0.23.2)\r\n",
      "Requirement already satisfied: torch<2.0,>=1.2 in /opt/conda/lib/python3.7/site-packages (from pytorch-tabnet) (1.6.0)\r\n",
      "Requirement already satisfied: tqdm<5.0,>=4.36 in /opt/conda/lib/python3.7/site-packages (from pytorch-tabnet) (4.45.0)\r\n",
      "Requirement already satisfied: threadpoolctl>=2.0.0 in /opt/conda/lib/python3.7/site-packages (from scikit_learn>0.21->pytorch-tabnet) (2.1.0)\r\n",
      "Requirement already satisfied: joblib>=0.11 in /opt/conda/lib/python3.7/site-packages (from scikit_learn>0.21->pytorch-tabnet) (0.14.1)\r\n",
      "Requirement already satisfied: future in /opt/conda/lib/python3.7/site-packages (from torch<2.0,>=1.2->pytorch-tabnet) (0.18.2)\r\n",
      "Installing collected packages: pytorch-tabnet\r\n",
      "Successfully installed pytorch-tabnet-2.0.1\r\n"
     ]
    }
   ],
   "source": [
    "!pip install pytorch-tabnet"
   ]
  },
  {
   "cell_type": "markdown",
   "metadata": {
    "papermill": {
     "duration": 0.010972,
     "end_time": "2020-11-03T12:00:59.545881",
     "exception": false,
     "start_time": "2020-11-03T12:00:59.534909",
     "status": "completed"
    },
    "tags": []
   },
   "source": [
    "First, read in the data"
   ]
  },
  {
   "cell_type": "code",
   "execution_count": 2,
   "metadata": {
    "_cell_guid": "79c7e3d0-c299-4dcb-8224-4455121ee9b0",
    "_uuid": "d629ff2d2480ee46fbb7e2d37f6b5fab8052498a",
    "collapsed": true,
    "execution": {
     "iopub.execute_input": "2020-11-03T12:00:59.577203Z",
     "iopub.status.busy": "2020-11-03T12:00:59.576378Z",
     "iopub.status.idle": "2020-11-03T12:01:04.830461Z",
     "shell.execute_reply": "2020-11-03T12:01:04.829640Z"
    },
    "papermill": {
     "duration": 5.27322,
     "end_time": "2020-11-03T12:01:04.830589",
     "exception": false,
     "start_time": "2020-11-03T12:00:59.557369",
     "status": "completed"
    },
    "tags": []
   },
   "outputs": [],
   "source": [
    "import numpy  as np\n",
    "import pandas as pd\n",
    "\n",
    "train_data = pd.read_csv('../input/santander-customer-satisfaction/train.csv',index_col=0)\n",
    "test_data  = pd.read_csv('../input/santander-customer-satisfaction/test.csv', index_col=0)\n",
    "sample     = pd.read_csv('../input/santander-customer-satisfaction/sample_submission.csv')"
   ]
  },
  {
   "cell_type": "markdown",
   "metadata": {
    "papermill": {
     "duration": 0.01084,
     "end_time": "2020-11-03T12:01:04.853205",
     "exception": false,
     "start_time": "2020-11-03T12:01:04.842365",
     "status": "completed"
    },
    "tags": []
   },
   "source": [
    "then prepare the data"
   ]
  },
  {
   "cell_type": "code",
   "execution_count": 3,
   "metadata": {
    "execution": {
     "iopub.execute_input": "2020-11-03T12:01:05.007197Z",
     "iopub.status.busy": "2020-11-03T12:01:05.006354Z",
     "iopub.status.idle": "2020-11-03T12:01:05.212208Z",
     "shell.execute_reply": "2020-11-03T12:01:05.211542Z"
    },
    "papermill": {
     "duration": 0.346255,
     "end_time": "2020-11-03T12:01:05.212336",
     "exception": false,
     "start_time": "2020-11-03T12:01:04.866081",
     "status": "completed"
    },
    "tags": []
   },
   "outputs": [],
   "source": [
    "X_train = train_data.iloc[:,:-1].to_numpy()\n",
    "y_train = train_data['TARGET'].to_numpy().squeeze()\n",
    "X_test  = test_data.to_numpy()"
   ]
  },
  {
   "cell_type": "markdown",
   "metadata": {
    "papermill": {
     "duration": 0.011132,
     "end_time": "2020-11-03T12:01:05.235049",
     "exception": false,
     "start_time": "2020-11-03T12:01:05.223917",
     "status": "completed"
    },
    "tags": []
   },
   "source": [
    "run the TabNet deep neural network"
   ]
  },
  {
   "cell_type": "code",
   "execution_count": 4,
   "metadata": {
    "execution": {
     "iopub.execute_input": "2020-11-03T12:01:05.265924Z",
     "iopub.status.busy": "2020-11-03T12:01:05.264884Z",
     "iopub.status.idle": "2020-11-03T12:35:22.217061Z",
     "shell.execute_reply": "2020-11-03T12:35:22.218126Z"
    },
    "papermill": {
     "duration": 2056.971845,
     "end_time": "2020-11-03T12:35:22.218333",
     "exception": false,
     "start_time": "2020-11-03T12:01:05.246488",
     "status": "completed"
    },
    "tags": []
   },
   "outputs": [
    {
     "name": "stdout",
     "output_type": "stream",
     "text": [
      "Device used : cpu\n",
      "No early stopping will be performed, last training weights will be used.\n"
     ]
    }
   ],
   "source": [
    "from pytorch_tabnet.tab_model import TabNetClassifier\n",
    "\n",
    "classifier = TabNetClassifier(verbose=0,seed=42)\n",
    "classifier.fit(X_train=X_train, y_train=y_train,\n",
    "               patience=5,max_epochs=100,\n",
    "               eval_metric=['auc'])\n",
    "\n",
    "predictions = classifier.predict_proba(X_test)[:,1]"
   ]
  },
  {
   "cell_type": "markdown",
   "metadata": {
    "papermill": {
     "duration": 0.011418,
     "end_time": "2020-11-03T12:35:22.242076",
     "exception": false,
     "start_time": "2020-11-03T12:35:22.230658",
     "status": "completed"
    },
    "tags": []
   },
   "source": [
    "and write out a `submission.csv` file"
   ]
  },
  {
   "cell_type": "code",
   "execution_count": 5,
   "metadata": {
    "execution": {
     "iopub.execute_input": "2020-11-03T12:35:22.271916Z",
     "iopub.status.busy": "2020-11-03T12:35:22.271218Z",
     "iopub.status.idle": "2020-11-03T12:35:22.822580Z",
     "shell.execute_reply": "2020-11-03T12:35:22.821932Z"
    },
    "papermill": {
     "duration": 0.568851,
     "end_time": "2020-11-03T12:35:22.822700",
     "exception": false,
     "start_time": "2020-11-03T12:35:22.253849",
     "status": "completed"
    },
    "tags": []
   },
   "outputs": [],
   "source": [
    "sample.iloc[:,1:] = predictions\n",
    "sample.to_csv('submission.csv',index=False)"
   ]
  },
  {
   "cell_type": "markdown",
   "metadata": {
    "papermill": {
     "duration": 0.011649,
     "end_time": "2020-11-03T12:35:22.846596",
     "exception": false,
     "start_time": "2020-11-03T12:35:22.834947",
     "status": "completed"
    },
    "tags": []
   },
   "source": [
    "# Related links\n",
    "* [Sercan O. Arik and Tomas Pfister \"TabNet: Attentive Interpretable Tabular Learning\", arXiv:1908.07442 (2019)](https://arxiv.org/pdf/1908.07442.pdf)\n",
    "* [TabNet on AI Platform: High-performance, Explainable Tabular Learning](https://cloud.google.com/blog/products/ai-machine-learning/ml-model-tabnet-is-easy-to-use-on-cloud-ai-platform) (Google Cloud)\n",
    "* [pytorch-tabnet](https://github.com/dreamquark-ai/tabnet) (GitHub)\n",
    "* [TabNet: A very simple regression example](https://www.kaggle.com/carlmcbrideellis/tabnet-a-very-simple-regression-example) (kaggle notebook)"
   ]
  }
 ],
 "metadata": {
  "kernelspec": {
   "display_name": "Python 3",
   "language": "python",
   "name": "python3"
  },
  "language_info": {
   "codemirror_mode": {
    "name": "ipython",
    "version": 3
   },
   "file_extension": ".py",
   "mimetype": "text/x-python",
   "name": "python",
   "nbconvert_exporter": "python",
   "pygments_lexer": "ipython3",
   "version": "3.7.6"
  },
  "papermill": {
   "duration": 2078.664822,
   "end_time": "2020-11-03T12:35:22.967508",
   "environment_variables": {},
   "exception": null,
   "input_path": "__notebook__.ipynb",
   "output_path": "__notebook__.ipynb",
   "parameters": {},
   "start_time": "2020-11-03T12:00:44.302686",
   "version": "2.1.0"
  }
 },
 "nbformat": 4,
 "nbformat_minor": 4
}
