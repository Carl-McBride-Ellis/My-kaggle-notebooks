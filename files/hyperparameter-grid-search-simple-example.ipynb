{
 "cells": [
  {
   "cell_type": "markdown",
   "metadata": {},
   "source": [
    "This is a sample code for performing a hyperparameter grid search using *GridSearchCV* from scikit-learn. We use the default 5-fold cross validation. For the regressor we shall use the *RandomForestRegressor*, also from scikit-learn."
   ]
  },
  {
   "cell_type": "code",
   "execution_count": 1,
   "metadata": {
    "_cell_guid": "538802c3-f421-4724-ab2f-0a621508c996",
    "_uuid": "a9b8d05b-8de6-4ea8-a1f0-ed8a3f8bdec8"
   },
   "outputs": [
    {
     "name": "stdout",
     "output_type": "stream",
     "text": [
      "The best parameters are  {'max_depth': 7, 'n_estimators': 30}\n"
     ]
    }
   ],
   "source": [
    "#!/usr/bin/python3\n",
    "# coding=utf-8\n",
    "#===========================================================================\n",
    "# This is a simple script to perform a regression on the kaggle\n",
    "# 'House Prices' data set using a grid search, in conjunction with a\n",
    "# random forest regressor\n",
    "# Carl McBride Ellis (1.V.2020)\n",
    "#===========================================================================\n",
    "#===========================================================================\n",
    "# load up the libraries\n",
    "#===========================================================================\n",
    "import pandas as pd\n",
    "import numpy  as np \n",
    "\n",
    "#===========================================================================\n",
    "# read in the data\n",
    "#===========================================================================\n",
    "train_data = pd.read_csv('../input/house-prices-advanced-regression-techniques/train.csv')\n",
    "test_data  = pd.read_csv('../input/house-prices-advanced-regression-techniques/test.csv')\n",
    "\n",
    "#===========================================================================\n",
    "# select some features of interest (\"ay, there's the rub\", Shakespeare)\n",
    "#===========================================================================\n",
    "features = ['OverallQual', 'GrLivArea', 'GarageCars',  'TotalBsmtSF']\n",
    "\n",
    "#===========================================================================\n",
    "#===========================================================================\n",
    "X_train       = train_data[features]\n",
    "y_train       = train_data[\"SalePrice\"]\n",
    "final_X_test  = test_data[features]\n",
    "\n",
    "#===========================================================================\n",
    "# essential preprocessing: imputation; substitute any 'NaN' with mean value\n",
    "#===========================================================================\n",
    "X_train      = X_train.fillna(X_train.mean())\n",
    "final_X_test = final_X_test.fillna(final_X_test.mean())\n",
    "\n",
    "#===========================================================================\n",
    "# hyperparameter grid search using scikit-learn GridSearchCV\n",
    "# we use the default 5-fold cross validation\n",
    "#===========================================================================\n",
    "from sklearn.model_selection import GridSearchCV\n",
    "# we use the random forest regressor\n",
    "from sklearn.ensemble import RandomForestRegressor\n",
    "regressor = RandomForestRegressor()\n",
    "gs = GridSearchCV(cv=5, error_score=np.nan, estimator=regressor,\n",
    "# dictionaries containing values to try for the parameters\n",
    "param_grid={'max_depth'   : [ 2,  5,  7, 10],\n",
    "            'n_estimators': [20, 30, 50, 75]})\n",
    "gs.fit(X_train, y_train)\n",
    "\n",
    "# grid search has finished, now echo the results to the screen\n",
    "print(\"The best parameters are \",gs.best_params_)\n",
    "the_best_parameters = gs.best_params_\n",
    "\n",
    "#===========================================================================\n",
    "# perform the regression \n",
    "#===========================================================================\n",
    "regressor = RandomForestRegressor(\n",
    "                     n_estimators = the_best_parameters[\"n_estimators\"],\n",
    "                     max_depth    = the_best_parameters[\"max_depth\"])\n",
    "regressor.fit(X_train, y_train)\n",
    "\n",
    "#===========================================================================\n",
    "# use the model to predict the prices for the test data\n",
    "#===========================================================================\n",
    "predictions = regressor.predict(final_X_test)\n",
    "\n",
    "#===========================================================================\n",
    "# write out CSV submission file\n",
    "#===========================================================================\n",
    "output = pd.DataFrame({\"Id\":test_data.Id, \"SalePrice\":predictions})\n",
    "output.to_csv('submission.csv', index=False)"
   ]
  }
 ],
 "metadata": {
  "kernelspec": {
   "display_name": "Python 3",
   "language": "python",
   "name": "python3"
  },
  "language_info": {
   "codemirror_mode": {
    "name": "ipython",
    "version": 3
   },
   "file_extension": ".py",
   "mimetype": "text/x-python",
   "name": "python",
   "nbconvert_exporter": "python",
   "pygments_lexer": "ipython3",
   "version": "3.7.6"
  }
 },
 "nbformat": 4,
 "nbformat_minor": 4
}
