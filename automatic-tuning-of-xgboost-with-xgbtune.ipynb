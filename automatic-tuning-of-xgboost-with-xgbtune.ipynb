{
 "cells": [
  {
   "cell_type": "markdown",
   "execution_count": null,
   "metadata": {
    "papermill": {
     "duration": 0.00572,
     "end_time": "2020-09-03T15:29:48.146618",
     "exception": false,
     "start_time": "2020-09-03T15:29:48.140898",
     "status": "completed"
    },
    "tags": []
   },
   "source": [
    "# Automatic tuning of XGBoost parameters using XGBTune\n",
    "Thanks to the work of [Romain Picard](https://github.com/MainRo) there is now a package, called [XGBTune](https://github.com/MainRo/xgbtune), to automatically tune the parametrs of [XGBoost](https://xgboost.readthedocs.io/en/latest/parameter.html).\n",
    "From the GitHub page:\n",
    "\n",
    "## Tuning steps\n",
    "\n",
    "The tuning is done in the following steps:\n",
    "\n",
    "*    compute best round\n",
    "*    tune max_depth and min_child_weight\n",
    "*    tune gamma\n",
    "*    re-compute best round\n",
    "*    tune subsample and colsample_bytree\n",
    "*    fine tune subsample and colsample_bytree\n",
    "*    tune alpha and lambda\n",
    "*    tune seed\n",
    "\n",
    "This steps can be repeated several times. By default, two passes are done.\n",
    "\n",
    "Here we shall use the [House Prices](https://www.kaggle.com/c/house-prices-advanced-regression-techniques) data as an example.\n",
    "\n",
    "### Install `XGBTune`"
   ]
  },
  {
   "cell_type": "code",
   "execution_count": 1,
   "metadata": {
    "_cell_guid": "b1076dfc-b9ad-4769-8c92-a6c4dae69d19",
    "_kg_hide-output": true,
    "_uuid": "8f2839f25d086af736a60e9eeb907d3b93b6e0e5",
    "execution": {
     "iopub.execute_input": "2020-09-03T15:29:48.162161Z",
     "iopub.status.busy": "2020-09-03T15:29:48.161386Z",
     "iopub.status.idle": "2020-09-03T15:30:01.654846Z",
     "shell.execute_reply": "2020-09-03T15:30:01.653896Z"
    },
    "papermill": {
     "duration": 13.503443,
     "end_time": "2020-09-03T15:30:01.655080",
     "exception": false,
     "start_time": "2020-09-03T15:29:48.151637",
     "status": "completed"
    },
    "tags": []
   },
   "outputs": [
    {
     "name": "stdout",
     "output_type": "stream",
     "text": [
      "Collecting xgbtune\r\n",
      "  Downloading xgbtune-1.1.0.tar.gz (5.0 kB)\r\n",
      "Requirement already satisfied: xgboost in /opt/conda/lib/python3.7/site-packages (from xgbtune) (1.2.0)\r\n",
      "Requirement already satisfied: numpy in /opt/conda/lib/python3.7/site-packages (from xgbtune) (1.18.5)\r\n",
      "Requirement already satisfied: scipy in /opt/conda/lib/python3.7/site-packages (from xgboost->xgbtune) (1.4.1)\r\n",
      "Building wheels for collected packages: xgbtune\r\n",
      "  Building wheel for xgbtune (setup.py) ... \u001b[?25l-\b \b\\\b \bdone\r\n",
      "\u001b[?25h  Created wheel for xgbtune: filename=xgbtune-1.1.0-py2.py3-none-any.whl size=4852 sha256=e78791d567bbfc6df43826f7cf0d6909244104f6b279c5ce9dfa411eb109da81\r\n",
      "  Stored in directory: /root/.cache/pip/wheels/0b/fc/d2/806972c7b07e47bc31b3714680fc8407c6a3174f49e45b19ef\r\n",
      "Successfully built xgbtune\r\n",
      "Installing collected packages: xgbtune\r\n",
      "Successfully installed xgbtune-1.1.0\r\n"
     ]
    }
   ],
   "source": [
    "!pip install xgbtune"
   ]
  },
  {
   "cell_type": "markdown",
   "execution_count": null,
   "metadata": {
    "papermill": {
     "duration": 0.004927,
     "end_time": "2020-09-03T15:30:01.665864",
     "exception": false,
     "start_time": "2020-09-03T15:30:01.660937",
     "status": "completed"
    },
    "tags": []
   },
   "source": [
    "### set up the House Prices data"
   ]
  },
  {
   "cell_type": "code",
   "execution_count": 2,
   "metadata": {
    "_cell_guid": "79c7e3d0-c299-4dcb-8224-4455121ee9b0",
    "_uuid": "d629ff2d2480ee46fbb7e2d37f6b5fab8052498a",
    "collapsed": true,
    "execution": {
     "iopub.execute_input": "2020-09-03T15:30:01.689095Z",
     "iopub.status.busy": "2020-09-03T15:30:01.687980Z",
     "iopub.status.idle": "2020-09-03T15:30:04.059622Z",
     "shell.execute_reply": "2020-09-03T15:30:04.058737Z"
    },
    "papermill": {
     "duration": 2.389083,
     "end_time": "2020-09-03T15:30:04.059776",
     "exception": false,
     "start_time": "2020-09-03T15:30:01.670693",
     "status": "completed"
    },
    "tags": []
   },
   "outputs": [],
   "source": [
    "import pandas  as pd\n",
    "import xgboost as xgb\n",
    "\n",
    "#===========================================================================\n",
    "# read in the data\n",
    "#===========================================================================\n",
    "train_data = pd.read_csv('../input/house-prices-advanced-regression-techniques/train.csv')\n",
    "test_data  = pd.read_csv('../input/house-prices-advanced-regression-techniques/test.csv')\n",
    "\n",
    "#===========================================================================\n",
    "# select some features\n",
    "#===========================================================================\n",
    "features = ['MSSubClass', 'LotArea', 'OverallQual', 'OverallCond', \n",
    "        'YearBuilt', 'YearRemodAdd', 'BsmtFinSF1', 'BsmtFinSF2', \n",
    "        'BsmtUnfSF', 'TotalBsmtSF', '1stFlrSF', '2ndFlrSF', \n",
    "        'LowQualFinSF', 'GrLivArea', 'BsmtFullBath', 'BsmtHalfBath', \n",
    "        'FullBath', 'HalfBath', 'BedroomAbvGr', 'KitchenAbvGr', \n",
    "        'TotRmsAbvGrd', 'Fireplaces', 'GarageCars', 'GarageArea', \n",
    "        'WoodDeckSF', 'OpenPorchSF', 'EnclosedPorch', '3SsnPorch', \n",
    "        'ScreenPorch', 'PoolArea', 'MiscVal', 'MoSold', 'YrSold']\n",
    "\n",
    "#===========================================================================\n",
    "#===========================================================================\n",
    "X_train       = train_data[features]\n",
    "y_train       = train_data[\"SalePrice\"]\n",
    "X_test        = test_data[features]"
   ]
  },
  {
   "cell_type": "markdown",
   "execution_count": null,
   "metadata": {
    "papermill": {
     "duration": 0.004815,
     "end_time": "2020-09-03T15:30:04.070092",
     "exception": false,
     "start_time": "2020-09-03T15:30:04.065277",
     "status": "completed"
    },
    "tags": []
   },
   "source": [
    "### run `xgbtune`\n",
    "Here we use the root of the mean squared logarithmic error regression loss (`rmsle`) as per the competition requirements"
   ]
  },
  {
   "cell_type": "code",
   "execution_count": 3,
   "metadata": {
    "execution": {
     "iopub.execute_input": "2020-09-03T15:30:04.091439Z",
     "iopub.status.busy": "2020-09-03T15:30:04.090559Z",
     "iopub.status.idle": "2020-09-03T15:30:34.744813Z",
     "shell.execute_reply": "2020-09-03T15:30:34.746100Z"
    },
    "papermill": {
     "duration": 30.667664,
     "end_time": "2020-09-03T15:30:34.746314",
     "exception": false,
     "start_time": "2020-09-03T15:30:04.078650",
     "status": "completed"
    },
    "tags": []
   },
   "outputs": [
    {
     "name": "stdout",
     "output_type": "stream",
     "text": [
      "tuning pass 0...\n",
      "computing best round...\n",
      "best round: 20\n",
      "tuning max_depth and min_child_weight ...\n",
      "best loss: 0.0342\n",
      "best max_depth: 8\n",
      "best min_child_weight: 1\n",
      "tuning gamma ...\n",
      "best loss: 0.0342\n",
      "best gamma: 0.0\n",
      "re-computing best round...\n",
      "best round: 20\n",
      "tuning subsample and colsample_bytree ...\n",
      "best loss: 0.0342\n",
      "best subsample: 1.0\n",
      "best colsample_bytree: 1.0\n",
      "fine tuning subsample and colsample_bytree ...\n",
      "best loss: 0.0336\n",
      "best subsample: 0.95\n",
      "best colsample_bytree: 1.0\n",
      "tuning alpha and lambda ...\n",
      "best loss: 0.0336\n",
      "best alpha: 0\n",
      "best lambda: 1\n",
      "tuning seed ...\n",
      "best loss: 0.0336\n",
      "best seed: 0\n",
      "{'eval_metric': 'rmsle', 'max_depth': 8, 'min_child_weight': 1, 'gamma': 0.0, 'subsample': 0.95, 'colsample_bytree': 1.0, 'alpha': 0, 'lambda': 1, 'seed': 0}\n",
      "tuning pass 1...\n",
      "computing best round...\n",
      "best round: 22\n",
      "tuning max_depth and min_child_weight ...\n",
      "best loss: 0.0314\n",
      "best max_depth: 8\n",
      "best min_child_weight: 1\n",
      "tuning gamma ...\n",
      "best loss: 0.0314\n",
      "best gamma: 0.0\n",
      "re-computing best round...\n",
      "best round: 22\n",
      "tuning subsample and colsample_bytree ...\n",
      "best loss: 0.0315\n",
      "best subsample: 1.0\n",
      "best colsample_bytree: 1.0\n",
      "fine tuning subsample and colsample_bytree ...\n",
      "best loss: 0.0312\n",
      "best subsample: 1.0\n",
      "best colsample_bytree: 0.95\n",
      "tuning alpha and lambda ...\n",
      "best loss: 0.0312\n",
      "best alpha: 0\n",
      "best lambda: 1\n",
      "tuning seed ...\n",
      "best loss: 0.0312\n",
      "best seed: 0\n",
      "{'eval_metric': 'rmsle', 'max_depth': 8, 'min_child_weight': 1, 'gamma': 0.0, 'subsample': 1.0, 'colsample_bytree': 0.95, 'alpha': 0, 'lambda': 1, 'seed': 0}\n"
     ]
    }
   ],
   "source": [
    "from xgbtune import tune_xgb_model\n",
    "params = {'eval_metric': 'rmsle'}\n",
    "params, round_count = tune_xgb_model(params, X_train, y_train)"
   ]
  },
  {
   "cell_type": "markdown",
   "execution_count": null,
   "metadata": {
    "papermill": {
     "duration": 0.006923,
     "end_time": "2020-09-03T15:30:34.762016",
     "exception": false,
     "start_time": "2020-09-03T15:30:34.755093",
     "status": "completed"
    },
    "tags": []
   },
   "source": [
    "### now fit using the parameters, predict, and write out the `submission.csv` file"
   ]
  },
  {
   "cell_type": "code",
   "execution_count": 4,
   "metadata": {
    "execution": {
     "iopub.execute_input": "2020-09-03T15:30:34.786658Z",
     "iopub.status.busy": "2020-09-03T15:30:34.785792Z",
     "iopub.status.idle": "2020-09-03T15:30:35.377922Z",
     "shell.execute_reply": "2020-09-03T15:30:35.376753Z"
    },
    "papermill": {
     "duration": 0.608824,
     "end_time": "2020-09-03T15:30:35.378107",
     "exception": false,
     "start_time": "2020-09-03T15:30:34.769283",
     "status": "completed"
    },
    "tags": []
   },
   "outputs": [],
   "source": [
    "#===========================================================================\n",
    "# now use the parameters from XGBTune\n",
    "#===========================================================================\n",
    "regressor=xgb.XGBRegressor(**params)\n",
    "\n",
    "regressor.fit(X_train, y_train)\n",
    "\n",
    "#===========================================================================\n",
    "# use the fit to predict the prices for the test data\n",
    "#===========================================================================\n",
    "predictions = regressor.predict(X_test)\n",
    "\n",
    "#===========================================================================\n",
    "# write out CSV submission file\n",
    "#===========================================================================\n",
    "output = pd.DataFrame({\"Id\":test_data.Id, \"SalePrice\":predictions})\n",
    "output.to_csv('submission.csv', index=False)"
   ]
  }
 ],
 "metadata": {
  "kernelspec": {
   "display_name": "Python 3",
   "language": "python",
   "name": "python3"
  },
  "language_info": {
   "codemirror_mode": {
    "name": "ipython",
    "version": 3
   },
   "file_extension": ".py",
   "mimetype": "text/x-python",
   "name": "python",
   "nbconvert_exporter": "python",
   "pygments_lexer": "ipython3",
   "version": "3.7.6"
  },
  "papermill": {
   "duration": 52.35584,
   "end_time": "2020-09-03T15:30:35.495385",
   "environment_variables": {},
   "exception": null,
   "input_path": "__notebook__.ipynb",
   "output_path": "__notebook__.ipynb",
   "parameters": {},
   "start_time": "2020-09-03T15:29:43.139545",
   "version": "2.1.0"
  }
 },
 "nbformat": 4,
 "nbformat_minor": 4
}
