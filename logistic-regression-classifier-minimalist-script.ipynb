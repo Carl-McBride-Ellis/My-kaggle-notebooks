{
 "cells": [
  {
   "cell_type": "markdown",
   "metadata": {},
   "source": [
    "This is a minimalist script which applies the logistic regression classifier from scikit-learn, to the 'Titanic' data set. It produces a score of around 0.77033 (i.e. 322 out of 418 are correctly classified), but this is not good, nor is it the point: the purpose of this script is to serve as a basic starting framework from which you can launch your own exploratory data analysis, perform feature engineering, parameter selection, etc."
   ]
  },
  {
   "cell_type": "code",
   "execution_count": 1,
   "metadata": {
    "_cell_guid": "c3d88290-39f4-4cf1-bfa3-22ca784607d7",
    "_uuid": "78948d8e-e64c-48bd-9850-7382f90e22ae"
   },
   "outputs": [],
   "source": [
    "#!/usr/bin/python3\n",
    "# coding=utf-8\n",
    "#===========================================================================\n",
    "# This is a minimal script to perform a classification \n",
    "# using the logistic regression classifier from scikit-learn \n",
    "# Carl McBride Ellis (18.IV.2020)\n",
    "#===========================================================================\n",
    "#===========================================================================\n",
    "# load up the libraries\n",
    "#===========================================================================\n",
    "import pandas  as pd\n",
    "\n",
    "#===========================================================================\n",
    "# read in the data\n",
    "#===========================================================================\n",
    "train_data = pd.read_csv('../input/titanic/train.csv')\n",
    "test_data  = pd.read_csv('../input/titanic/test.csv')\n",
    "\n",
    "#===========================================================================\n",
    "# select some features of interest (\"ay, there's the rub\", Shakespeare)\n",
    "#===========================================================================\n",
    "features = [\"Pclass\", \"Sex\", \"SibSp\", \"Parch\"]\n",
    "\n",
    "#===========================================================================\n",
    "# for the features that are categorical we use pd.get_dummies:\n",
    "# \"Convert categorical variable into dummy/indicator variables.\"\n",
    "#===========================================================================\n",
    "X_train       = pd.get_dummies(train_data[features])\n",
    "y_train       = train_data[\"Survived\"]\n",
    "final_X_test  = pd.get_dummies(test_data[features])\n",
    "\n",
    "#===========================================================================\n",
    "# perform the classification\n",
    "#===========================================================================\n",
    "from sklearn.linear_model import LogisticRegression\n",
    "# we use the default Broyden-Fletcher-Goldfarb-Shanno (BFGS) algorithm\n",
    "classifier = LogisticRegression(solver='lbfgs')\n",
    "classifier.fit(X_train, y_train)\n",
    "\n",
    "#===========================================================================\n",
    "# use the model to predict 'Survived' for the test data\n",
    "#===========================================================================\n",
    "predictions = classifier.predict(final_X_test)\n",
    "\n",
    "#===========================================================================\n",
    "# write out CSV submission file\n",
    "#===========================================================================\n",
    "output = pd.DataFrame({'PassengerId': test_data.PassengerId, \n",
    "                       'Survived': predictions})\n",
    "output.to_csv('submission.csv', index=False)"
   ]
  }
 ],
 "metadata": {
  "kernelspec": {
   "display_name": "Python 3",
   "language": "python",
   "name": "python3"
  },
  "language_info": {
   "codemirror_mode": {
    "name": "ipython",
    "version": 3
   },
   "file_extension": ".py",
   "mimetype": "text/x-python",
   "name": "python",
   "nbconvert_exporter": "python",
   "pygments_lexer": "ipython3",
   "version": "3.6.6"
  }
 },
 "nbformat": 4,
 "nbformat_minor": 4
}
