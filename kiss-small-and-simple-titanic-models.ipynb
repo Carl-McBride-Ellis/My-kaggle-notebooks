{
 "cells": [
  {
   "cell_type": "markdown",
   "metadata": {
    "papermill": {
     "duration": 0.012073,
     "end_time": "2020-09-23T09:07:01.158515",
     "exception": false,
     "start_time": "2020-09-23T09:07:01.146442",
     "status": "completed"
    },
    "tags": []
   },
   "source": [
    "# Titanic: Applying the [KISS principle](https://en.wikipedia.org/wiki/KISS_principle) (Keep It Small and Simple)\n",
    "\n",
    "> *KISS is a design principle noted by the U.S. Navy in 1960. The KISS principle states that most systems work best if they are kept simple rather than made complicated; therefore, simplicity should be a key goal in design, and unnecessary complexity should be avoided.*\n",
    "\n",
    "## Explainable AI\n",
    "Recently the [National Institute of Standards and Technology (NIST)](https://www.nist.gov/) published a draft paper [\"Four Principles of Explainable Artificial Intelligence\"](https://nvlpubs.nist.gov/nistpubs/ir/2020/NIST.IR.8312-draft.pdf), which are as follows:\n",
    "\n",
    "* **Explanation:** *Systems deliver accompanying evidence or reason(s) for all outputs.*\n",
    "* **Meaningful:** *Systems provide explanations that are understandable to individual users.*\n",
    "* **Explanation Accuracy:** *The explanation correctly reflects the system’s process for generating the output.* \n",
    "* **Knowledge Limits:** *The system only operates under conditions for which it was designed or when the system reaches a sufficient confidence in its output.*\n",
    "\n",
    "In this notebook we list a selection of simple but meaningful models, *i.e.* <font color='red'>models that you can explain to your boss whilst in the elevator.</font>\n",
    "\n",
    "## Explainability and the GDPR\n",
    "Being able to easily explain how a model works, or how a decision was made based on the model, is not a mere intelectual nicety; in fact the [EU General Data Protection Regulation (GDPR) 2016/679](https://eur-lex.europa.eu/eli/reg/2016/679), Article 15(1)(h) states:\n",
    "\n",
    "> \"*The data subject shall have the right to obtain... ...meaningful information about the logic involved, as well as the significance and the envisaged consequences of such processing*\"\n",
    "\n",
    "also, in Article 22:\n",
    "\n",
    "> \"*The data subject shall have the right to obtain... ...human intervention on the part of the controller, to express his or her point of view and to contest the decision.*\"\n",
    "\n",
    "In order to comply with this, the data scientist must be able to clearly explain how any decision was originally arrived at. \n",
    "\n",
    "Non-compliance with the GDPR by a company can result in serious consequences, and it is part of the job of a data scientist to mitigate such risks for their employers. (For those interested the website [GDPR Enforcement Tracker](https://www.enforcementtracker.com/) has a partial list of fines that have been imposed).\n",
    "\n",
    "## How the scores are calculated\n",
    "In order to avoid submitting each of these models to the competition for scoring I shall make use of the [ground truth file](https://www.kaggle.com/martinglatz/submission-solution), in conjunction with the [scikit-learn accuracy_score](https://scikit-learn.org/stable/modules/generated/sklearn.metrics.accuracy_score.html).\n",
    "\n",
    "## Set up the essentials"
   ]
  },
  {
   "cell_type": "code",
   "execution_count": 1,
   "metadata": {
    "_cell_guid": "b1076dfc-b9ad-4769-8c92-a6c4dae69d19",
    "_uuid": "8f2839f25d086af736a60e9eeb907d3b93b6e0e5",
    "execution": {
     "iopub.execute_input": "2020-09-23T09:07:01.185250Z",
     "iopub.status.busy": "2020-09-23T09:07:01.184624Z",
     "iopub.status.idle": "2020-09-23T09:07:02.135382Z",
     "shell.execute_reply": "2020-09-23T09:07:02.134613Z"
    },
    "papermill": {
     "duration": 0.966335,
     "end_time": "2020-09-23T09:07:02.135506",
     "exception": false,
     "start_time": "2020-09-23T09:07:01.169171",
     "status": "completed"
    },
    "tags": []
   },
   "outputs": [],
   "source": [
    "import pandas  as pd\n",
    "import numpy   as np\n",
    "from sklearn.metrics import accuracy_score\n",
    "\n",
    "solution   = pd.read_csv('../input/submission-solution/submission_solution.csv')\n",
    "test_data  = pd.read_csv('../input/titanic/test.csv')\n",
    "X_test     = pd.get_dummies(test_data)"
   ]
  },
  {
   "cell_type": "markdown",
   "metadata": {
    "papermill": {
     "duration": 0.010228,
     "end_time": "2020-09-23T09:07:02.156642",
     "exception": false,
     "start_time": "2020-09-23T09:07:02.146414",
     "status": "completed"
    },
    "tags": []
   },
   "source": [
    "# $\\approx$50%\n",
    "This is the average result of the magnificently minimalist notebook [\"Titanic Random Survival Prediction\"](https://www.kaggle.com/tarunpaparaju/titanic-random-survival-prediction) by kaggle Grandmaster [Tarun Paparaju](https://www.kaggle.com/tarunpaparaju):"
   ]
  },
  {
   "cell_type": "code",
   "execution_count": 2,
   "metadata": {
    "execution": {
     "iopub.execute_input": "2020-09-23T09:07:02.183700Z",
     "iopub.status.busy": "2020-09-23T09:07:02.183036Z",
     "iopub.status.idle": "2020-09-23T09:07:02.188762Z",
     "shell.execute_reply": "2020-09-23T09:07:02.188020Z"
    },
    "papermill": {
     "duration": 0.021884,
     "end_time": "2020-09-23T09:07:02.188932",
     "exception": false,
     "start_time": "2020-09-23T09:07:02.167048",
     "status": "completed"
    },
    "tags": []
   },
   "outputs": [
    {
     "name": "stdout",
     "output_type": "stream",
     "text": [
      "The score is 0.48325\n"
     ]
    }
   ],
   "source": [
    "predictions = np.round(np.random.random((len(test_data)))).astype(int)\n",
    "print(\"The score is %.5f\" % accuracy_score( solution['Survived'] , predictions ) )"
   ]
  },
  {
   "cell_type": "markdown",
   "metadata": {
    "papermill": {
     "duration": 0.011692,
     "end_time": "2020-09-23T09:07:02.212280",
     "exception": false,
     "start_time": "2020-09-23T09:07:02.200588",
     "status": "completed"
    },
    "tags": []
   },
   "source": [
    "# 62.2%\n",
    "### No survivors\n",
    "\n",
    "This model represents the most terrible scenario; there are no survivors. This model actually correctly guesses the fate of 260 of the 418 passengers, which is a stark reminder of the tragedy that was the Titanic."
   ]
  },
  {
   "cell_type": "code",
   "execution_count": 3,
   "metadata": {
    "execution": {
     "iopub.execute_input": "2020-09-23T09:07:02.240209Z",
     "iopub.status.busy": "2020-09-23T09:07:02.239179Z",
     "iopub.status.idle": "2020-09-23T09:07:02.243433Z",
     "shell.execute_reply": "2020-09-23T09:07:02.242791Z"
    },
    "papermill": {
     "duration": 0.020379,
     "end_time": "2020-09-23T09:07:02.243554",
     "exception": false,
     "start_time": "2020-09-23T09:07:02.223175",
     "status": "completed"
    },
    "tags": []
   },
   "outputs": [
    {
     "name": "stdout",
     "output_type": "stream",
     "text": [
      "The score is 0.62201\n"
     ]
    }
   ],
   "source": [
    "predictions = np.zeros((418), dtype=int)\n",
    "print(\"The score is %.5f\" % accuracy_score( solution['Survived'] , predictions ) )"
   ]
  },
  {
   "cell_type": "markdown",
   "metadata": {
    "papermill": {
     "duration": 0.011023,
     "end_time": "2020-09-23T09:07:02.267490",
     "exception": false,
     "start_time": "2020-09-23T09:07:02.256467",
     "status": "completed"
    },
    "tags": []
   },
   "source": [
    "This model is what is known as the [Zero Rule](https://machinelearningcatalogue.com/algorithm/alg_zero-rule.html) classifier (aka. **ZeroR** or **0-R**), and it simply consists of the majority class of the dataset. It is against this baseline (and not the random model above) that one should compare the performance of all other models based on this data. Any model that does not beat this score has something *very* wrong with it.\n",
    "\n",
    "The **no survivors** model is also useful in another respect; it provides us with an indication as to whether the data is imbalanced or not. If the data were perfectly 'balanced' we would have as many survivors as those who did not survive, and the [accuracy score](https://scikit-learn.org/stable/modules/generated/sklearn.metrics.accuracy_score.html) would be `50%`. However, for highly imbalanced datasets then the accuracy score evaluation metric can be misleading. For example, imagine a scenario in which only 42 passengers in the test data survived, then the **no survivors** model would have an accuracy score of `90%` before we even start modelling. Clearly in such a situation the accuracy score is no longer fit for purpose and an alternative must be found.\n",
    "\n",
    "In such a case we can use the scikit-learn [balanced_accuracy_score](https://scikit-learn.org/stable/modules/generated/sklearn.metrics.balanced_accuracy_score.html), which is calculated using \n",
    "\n",
    "$$\\texttt{balanced-accuracy} = \\frac{1}{2}\\left( \\frac{TP}{TP + FN} + \\frac{TN}{TN + FP}\\right )$$\n",
    "\n",
    "i.e. the arithmetic mean of sensitivity (true positive rate) and specificity (true negative rate). \n",
    "\n",
    "For example:"
   ]
  },
  {
   "cell_type": "code",
   "execution_count": 4,
   "metadata": {
    "execution": {
     "iopub.execute_input": "2020-09-23T09:07:02.298028Z",
     "iopub.status.busy": "2020-09-23T09:07:02.296015Z",
     "iopub.status.idle": "2020-09-23T09:07:02.302509Z",
     "shell.execute_reply": "2020-09-23T09:07:02.301779Z"
    },
    "papermill": {
     "duration": 0.023221,
     "end_time": "2020-09-23T09:07:02.302658",
     "exception": false,
     "start_time": "2020-09-23T09:07:02.279437",
     "status": "completed"
    },
    "tags": []
   },
   "outputs": [
    {
     "name": "stdout",
     "output_type": "stream",
     "text": [
      "The balanced accuracy score is 0.50000\n"
     ]
    }
   ],
   "source": [
    "from sklearn.metrics import balanced_accuracy_score\n",
    "print(\"The balanced accuracy score is %.5f\" % balanced_accuracy_score( solution['Survived'] , predictions ) )"
   ]
  },
  {
   "cell_type": "markdown",
   "metadata": {
    "papermill": {
     "duration": 0.011471,
     "end_time": "2020-09-23T09:07:02.326569",
     "exception": false,
     "start_time": "2020-09-23T09:07:02.315098",
     "status": "completed"
    },
    "tags": []
   },
   "source": [
    "we can see that any imbalance has now been compensated for. That said, in this case `62%` isn't too bad, so we shall continue using the standard accuracy score metric.\n",
    "# 76.6%\n",
    "\n",
    "### Only the women survived\n",
    "This is essentially the `gender_submission.csv` file that comes free with the competition."
   ]
  },
  {
   "cell_type": "code",
   "execution_count": 5,
   "metadata": {
    "execution": {
     "iopub.execute_input": "2020-09-23T09:07:02.356873Z",
     "iopub.status.busy": "2020-09-23T09:07:02.356154Z",
     "iopub.status.idle": "2020-09-23T09:07:02.384348Z",
     "shell.execute_reply": "2020-09-23T09:07:02.383711Z"
    },
    "papermill": {
     "duration": 0.046077,
     "end_time": "2020-09-23T09:07:02.384462",
     "exception": false,
     "start_time": "2020-09-23T09:07:02.338385",
     "status": "completed"
    },
    "tags": []
   },
   "outputs": [
    {
     "name": "stdout",
     "output_type": "stream",
     "text": [
      "The score is 0.76555\n"
     ]
    }
   ],
   "source": [
    "predictions = np.zeros((418), dtype=int)\n",
    "# now use our model\n",
    "survived_df = X_test[(X_test[\"Sex_female\"]==1)]\n",
    "\n",
    "for i in survived_df.index:\n",
    "    predictions[i] = 1 # the 1's are now the survivors\n",
    "    \n",
    "print(\"The score is %.5f\" % accuracy_score( solution['Survived'] , predictions ) )"
   ]
  },
  {
   "cell_type": "markdown",
   "metadata": {
    "papermill": {
     "duration": 0.011962,
     "end_time": "2020-09-23T09:07:02.408670",
     "exception": false,
     "start_time": "2020-09-23T09:07:02.396708",
     "status": "completed"
    },
    "tags": []
   },
   "source": [
    "# 77.5%\n",
    "### Only women from 1st and 2nd class survive:"
   ]
  },
  {
   "cell_type": "code",
   "execution_count": 6,
   "metadata": {
    "execution": {
     "iopub.execute_input": "2020-09-23T09:07:02.441561Z",
     "iopub.status.busy": "2020-09-23T09:07:02.440613Z",
     "iopub.status.idle": "2020-09-23T09:07:02.446706Z",
     "shell.execute_reply": "2020-09-23T09:07:02.445853Z"
    },
    "papermill": {
     "duration": 0.026013,
     "end_time": "2020-09-23T09:07:02.446867",
     "exception": false,
     "start_time": "2020-09-23T09:07:02.420854",
     "status": "completed"
    },
    "tags": []
   },
   "outputs": [
    {
     "name": "stdout",
     "output_type": "stream",
     "text": [
      "The score is 0.77512\n"
     ]
    }
   ],
   "source": [
    "predictions = np.zeros((418), dtype=int)\n",
    "# now use our model\n",
    "survived_df = X_test[((X_test[\"Pclass\"] ==1)|(X_test[\"Pclass\"] ==2)) & (X_test[\"Sex_female\"]==1 )]\n",
    "\n",
    "for i in survived_df.index:\n",
    "    predictions[i] = 1 # the 1's are now the survivors\n",
    "    \n",
    "print(\"The score is %.5f\" % accuracy_score( solution['Survived'] , predictions ) )"
   ]
  },
  {
   "cell_type": "markdown",
   "metadata": {
    "papermill": {
     "duration": 0.01239,
     "end_time": "2020-09-23T09:07:02.472655",
     "exception": false,
     "start_time": "2020-09-23T09:07:02.460265",
     "status": "completed"
    },
    "tags": []
   },
   "source": [
    "### Only women from who embarked in either Cherbourg or Southampton survive:"
   ]
  },
  {
   "cell_type": "code",
   "execution_count": 7,
   "metadata": {
    "execution": {
     "iopub.execute_input": "2020-09-23T09:07:02.506015Z",
     "iopub.status.busy": "2020-09-23T09:07:02.505311Z",
     "iopub.status.idle": "2020-09-23T09:07:02.510770Z",
     "shell.execute_reply": "2020-09-23T09:07:02.511221Z"
    },
    "papermill": {
     "duration": 0.026194,
     "end_time": "2020-09-23T09:07:02.511389",
     "exception": false,
     "start_time": "2020-09-23T09:07:02.485195",
     "status": "completed"
    },
    "tags": []
   },
   "outputs": [
    {
     "name": "stdout",
     "output_type": "stream",
     "text": [
      "The score is 0.77512\n"
     ]
    }
   ],
   "source": [
    "predictions = np.zeros((418), dtype=int)\n",
    "# now use our model\n",
    "survived_df = X_test[((X_test[\"Embarked_S\"] ==1)|(X_test[\"Embarked_C\"] ==1)) & (X_test[\"Sex_female\"]==1 )]\n",
    "\n",
    "for i in survived_df.index:\n",
    "    predictions[i] = 1 # the 1's are now the survivors\n",
    "    \n",
    "print(\"The score is %.5f\" % accuracy_score( solution['Survived'] , predictions ) )"
   ]
  },
  {
   "cell_type": "markdown",
   "metadata": {
    "papermill": {
     "duration": 0.012633,
     "end_time": "2020-09-23T09:07:02.537016",
     "exception": false,
     "start_time": "2020-09-23T09:07:02.524383",
     "status": "completed"
    },
    "tags": []
   },
   "source": [
    "# 78.5%\n",
    "This masterpiece is from the wonderful notebook [\"Three lines of code for Titanic Top 20%\"](https://www.kaggle.com/vbmokin/three-lines-of-code-for-titanic-top-20) written by kaggle Master [Vitalii Mokin](https://www.kaggle.com/vbmokin). His model is the following:\n",
    "\n",
    "* **All the women survived, and all the men died**\n",
    "* **All boys ('Master') from 1st and 2nd class survived**\n",
    "* **Everybody in 3rd class that embarked at Southampton ('S') died.**\n",
    "\n",
    "I shall make a copy of the `test_data` dataframe to maintain the original code as it is in his notebook, as well as preserving `test_data` for future small and simple models:\n"
   ]
  },
  {
   "cell_type": "code",
   "execution_count": 8,
   "metadata": {
    "execution": {
     "iopub.execute_input": "2020-09-23T09:07:02.569356Z",
     "iopub.status.busy": "2020-09-23T09:07:02.568399Z",
     "iopub.status.idle": "2020-09-23T09:07:02.570909Z",
     "shell.execute_reply": "2020-09-23T09:07:02.571357Z"
    },
    "papermill": {
     "duration": 0.020854,
     "end_time": "2020-09-23T09:07:02.571500",
     "exception": false,
     "start_time": "2020-09-23T09:07:02.550646",
     "status": "completed"
    },
    "tags": []
   },
   "outputs": [],
   "source": [
    "test = test_data"
   ]
  },
  {
   "cell_type": "code",
   "execution_count": 9,
   "metadata": {
    "execution": {
     "iopub.execute_input": "2020-09-23T09:07:02.611531Z",
     "iopub.status.busy": "2020-09-23T09:07:02.610765Z",
     "iopub.status.idle": "2020-09-23T09:07:02.613830Z",
     "shell.execute_reply": "2020-09-23T09:07:02.613203Z"
    },
    "papermill": {
     "duration": 0.029337,
     "end_time": "2020-09-23T09:07:02.613939",
     "exception": false,
     "start_time": "2020-09-23T09:07:02.584602",
     "status": "completed"
    },
    "tags": []
   },
   "outputs": [],
   "source": [
    "test['Boy'] = (test.Name.str.split().str[1] == 'Master.').astype('int')\n",
    "test['Survived'] = [1 if (x == 'female') else 0 for x in test['Sex']]     \n",
    "test.loc[(test.Boy == 1), 'Survived'] = 1                                 \n",
    "test.loc[((test.Pclass == 3) & (test.Embarked == 'S')), 'Survived'] = 0"
   ]
  },
  {
   "cell_type": "code",
   "execution_count": 10,
   "metadata": {
    "execution": {
     "iopub.execute_input": "2020-09-23T09:07:02.646145Z",
     "iopub.status.busy": "2020-09-23T09:07:02.645486Z",
     "iopub.status.idle": "2020-09-23T09:07:02.649072Z",
     "shell.execute_reply": "2020-09-23T09:07:02.649733Z"
    },
    "papermill": {
     "duration": 0.022874,
     "end_time": "2020-09-23T09:07:02.649917",
     "exception": false,
     "start_time": "2020-09-23T09:07:02.627043",
     "status": "completed"
    },
    "tags": []
   },
   "outputs": [
    {
     "name": "stdout",
     "output_type": "stream",
     "text": [
      "The score is 0.78469\n"
     ]
    }
   ],
   "source": [
    "predictions = test['Survived']\n",
    "print(\"The score is %.5f\" % accuracy_score( solution['Survived'] , predictions ) )"
   ]
  },
  {
   "cell_type": "markdown",
   "metadata": {
    "papermill": {
     "duration": 0.013166,
     "end_time": "2020-09-23T09:07:02.677440",
     "exception": false,
     "start_time": "2020-09-23T09:07:02.664274",
     "status": "completed"
    },
    "tags": []
   },
   "source": [
    "# How to create a submission.csv\n",
    "If you wish to submit any of these predictions to the competition simply use this snippet of code to output a `submission.csv` file:"
   ]
  },
  {
   "cell_type": "code",
   "execution_count": 11,
   "metadata": {
    "execution": {
     "iopub.execute_input": "2020-09-23T09:07:02.710926Z",
     "iopub.status.busy": "2020-09-23T09:07:02.710258Z",
     "iopub.status.idle": "2020-09-23T09:07:02.972188Z",
     "shell.execute_reply": "2020-09-23T09:07:02.971555Z"
    },
    "papermill": {
     "duration": 0.281128,
     "end_time": "2020-09-23T09:07:02.972296",
     "exception": false,
     "start_time": "2020-09-23T09:07:02.691168",
     "status": "completed"
    },
    "tags": []
   },
   "outputs": [],
   "source": [
    "output = pd.DataFrame({'PassengerId': test_data.PassengerId, 'Survived': predictions})\n",
    "output.to_csv('submission.csv', index=False)"
   ]
  },
  {
   "cell_type": "markdown",
   "metadata": {
    "papermill": {
     "duration": 0.013594,
     "end_time": "2020-09-23T09:07:02.999859",
     "exception": false,
     "start_time": "2020-09-23T09:07:02.986265",
     "status": "completed"
    },
    "tags": []
   },
   "source": [
    "## Please feel free to mention more KISS models to add!"
   ]
  }
 ],
 "metadata": {
  "kernelspec": {
   "display_name": "Python 3",
   "language": "python",
   "name": "python3"
  },
  "language_info": {
   "codemirror_mode": {
    "name": "ipython",
    "version": 3
   },
   "file_extension": ".py",
   "mimetype": "text/x-python",
   "name": "python",
   "nbconvert_exporter": "python",
   "pygments_lexer": "ipython3",
   "version": "3.7.6"
  },
  "papermill": {
   "duration": 6.234981,
   "end_time": "2020-09-23T09:07:03.122259",
   "environment_variables": {},
   "exception": null,
   "input_path": "__notebook__.ipynb",
   "output_path": "__notebook__.ipynb",
   "parameters": {},
   "start_time": "2020-09-23T09:06:56.887278",
   "version": "2.1.0"
  }
 },
 "nbformat": 4,
 "nbformat_minor": 4
}
