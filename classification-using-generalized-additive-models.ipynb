{
 "cells": [
  {
   "cell_type": "markdown",
   "execution_count": null,
   "metadata": {
    "papermill": {
     "duration": 0.00489,
     "end_time": "2020-09-02T10:51:54.713420",
     "exception": false,
     "start_time": "2020-09-02T10:51:54.708530",
     "status": "completed"
    },
    "tags": []
   },
   "source": [
    "# A classification example using Generalized Additive Models with pyGAM\n",
    "\n",
    "[Generalized additive models](https://en.wikipedia.org/wiki/Generalized_additive_model) combine [generalized linear models](https://en.wikipedia.org/wiki/Generalized_linear_model) with [additive models](https://en.wikipedia.org/wiki/Additive_model). For an excellent introduction see [\"A Tour of pyGAM\"](https://pygam.readthedocs.io/en/latest/notebooks/tour_of_pygam.html).\n",
    "\n",
    "### Install `pyGAM`"
   ]
  },
  {
   "cell_type": "code",
   "execution_count": 1,
   "metadata": {
    "_cell_guid": "b1076dfc-b9ad-4769-8c92-a6c4dae69d19",
    "_kg_hide-output": true,
    "_uuid": "8f2839f25d086af736a60e9eeb907d3b93b6e0e5",
    "execution": {
     "iopub.execute_input": "2020-09-02T10:51:54.726010Z",
     "iopub.status.busy": "2020-09-02T10:51:54.725219Z",
     "iopub.status.idle": "2020-09-02T10:52:04.319358Z",
     "shell.execute_reply": "2020-09-02T10:52:04.318740Z"
    },
    "papermill": {
     "duration": 9.602296,
     "end_time": "2020-09-02T10:52:04.319483",
     "exception": false,
     "start_time": "2020-09-02T10:51:54.717187",
     "status": "completed"
    },
    "tags": []
   },
   "outputs": [
    {
     "name": "stdout",
     "output_type": "stream",
     "text": [
      "Collecting pygam\r\n",
      "  Downloading pygam-0.8.0-py2.py3-none-any.whl (1.8 MB)\r\n",
      "\u001b[K     |████████████████████████████████| 1.8 MB 1.2 MB/s \r\n",
      "\u001b[?25hRequirement already satisfied: scipy in /opt/conda/lib/python3.7/site-packages (from pygam) (1.4.1)\r\n",
      "Requirement already satisfied: numpy in /opt/conda/lib/python3.7/site-packages (from pygam) (1.18.5)\r\n",
      "Requirement already satisfied: future in /opt/conda/lib/python3.7/site-packages (from pygam) (0.18.2)\r\n",
      "Collecting progressbar2\r\n",
      "  Downloading progressbar2-3.52.1-py2.py3-none-any.whl (25 kB)\r\n",
      "Collecting python-utils>=2.3.0\r\n",
      "  Downloading python_utils-2.4.0-py2.py3-none-any.whl (12 kB)\r\n",
      "Requirement already satisfied: six in /opt/conda/lib/python3.7/site-packages (from progressbar2->pygam) (1.14.0)\r\n",
      "Installing collected packages: python-utils, progressbar2, pygam\r\n",
      "Successfully installed progressbar2-3.52.1 pygam-0.8.0 python-utils-2.4.0\r\n"
     ]
    }
   ],
   "source": [
    "!pip install pygam"
   ]
  },
  {
   "cell_type": "markdown",
   "execution_count": null,
   "metadata": {
    "papermill": {
     "duration": 0.004501,
     "end_time": "2020-09-02T10:52:04.329707",
     "exception": false,
     "start_time": "2020-09-02T10:52:04.325206",
     "status": "completed"
    },
    "tags": []
   },
   "source": [
    "### set up some simple Titanic competition data\n",
    "No feature engineering or anything; just enough to get us going..."
   ]
  },
  {
   "cell_type": "code",
   "execution_count": 2,
   "metadata": {
    "execution": {
     "iopub.execute_input": "2020-09-02T10:52:04.348043Z",
     "iopub.status.busy": "2020-09-02T10:52:04.347329Z",
     "iopub.status.idle": "2020-09-02T10:52:04.385820Z",
     "shell.execute_reply": "2020-09-02T10:52:04.385220Z"
    },
    "papermill": {
     "duration": 0.051688,
     "end_time": "2020-09-02T10:52:04.385940",
     "exception": false,
     "start_time": "2020-09-02T10:52:04.334252",
     "status": "completed"
    },
    "tags": []
   },
   "outputs": [],
   "source": [
    "import pandas  as pd\n",
    "import matplotlib.pyplot as plt\n",
    "\n",
    "#===========================================================================\n",
    "# read in the data\n",
    "#===========================================================================\n",
    "train_data = pd.read_csv('../input/titanic/train.csv')\n",
    "test_data  = pd.read_csv('../input/titanic/test.csv')\n",
    "\n",
    "#===========================================================================\n",
    "# select some features of interest (\"ay, there's the rub\", Shakespeare)\n",
    "#===========================================================================\n",
    "features = [\"Pclass\", \"Sex\", \"SibSp\", \"Parch\"]\n",
    "\n",
    "#===========================================================================\n",
    "# for the features that are categorical we use pd.get_dummies:\n",
    "# \"Convert categorical variable into dummy/indicator variables.\"\n",
    "#===========================================================================\n",
    "X_train       = pd.get_dummies(train_data[features])\n",
    "y_train       = train_data[\"Survived\"]\n",
    "final_X_test  = pd.get_dummies(test_data[features])"
   ]
  },
  {
   "cell_type": "markdown",
   "execution_count": null,
   "metadata": {
    "papermill": {
     "duration": 0.004495,
     "end_time": "2020-09-02T10:52:04.397205",
     "exception": false,
     "start_time": "2020-09-02T10:52:04.392710",
     "status": "completed"
    },
    "tags": []
   },
   "source": [
    "### perform the classification\n",
    "Here we use `LogisticGAM`, which uses a logit link function and binomial distribution, with four spline terms, `s(0)...s(3)`, for each of the four features:"
   ]
  },
  {
   "cell_type": "code",
   "execution_count": 3,
   "metadata": {
    "execution": {
     "iopub.execute_input": "2020-09-02T10:52:04.412506Z",
     "iopub.status.busy": "2020-09-02T10:52:04.411896Z",
     "iopub.status.idle": "2020-09-02T10:52:05.445563Z",
     "shell.execute_reply": "2020-09-02T10:52:05.444574Z"
    },
    "papermill": {
     "duration": 1.043804,
     "end_time": "2020-09-02T10:52:05.445693",
     "exception": false,
     "start_time": "2020-09-02T10:52:04.401889",
     "status": "completed"
    },
    "tags": []
   },
   "outputs": [],
   "source": [
    "from pygam import LogisticGAM, s, f\n",
    "\n",
    "classifier = LogisticGAM(s(0) + s(1) + s(2) + s(3))\n",
    "\n",
    "classifier.fit(X_train, y_train)\n",
    "\n",
    "#===========================================================================\n",
    "# use the model to predict 'Survived' for the test data\n",
    "#===========================================================================\n",
    "predictions = classifier.predict(final_X_test)\n",
    "\n",
    "# convert from True/False to 1/0\n",
    "predictions = (predictions)*1"
   ]
  },
  {
   "cell_type": "markdown",
   "execution_count": null,
   "metadata": {
    "papermill": {
     "duration": 0.004746,
     "end_time": "2020-09-02T10:52:05.455736",
     "exception": false,
     "start_time": "2020-09-02T10:52:05.450990",
     "status": "completed"
    },
    "tags": []
   },
   "source": [
    "### produce a summary"
   ]
  },
  {
   "cell_type": "code",
   "execution_count": 4,
   "metadata": {
    "execution": {
     "iopub.execute_input": "2020-09-02T10:52:05.473017Z",
     "iopub.status.busy": "2020-09-02T10:52:05.472056Z",
     "iopub.status.idle": "2020-09-02T10:52:05.477625Z",
     "shell.execute_reply": "2020-09-02T10:52:05.476748Z"
    },
    "papermill": {
     "duration": 0.017219,
     "end_time": "2020-09-02T10:52:05.477741",
     "exception": false,
     "start_time": "2020-09-02T10:52:05.460522",
     "status": "completed"
    },
    "tags": []
   },
   "outputs": [
    {
     "name": "stdout",
     "output_type": "stream",
     "text": [
      "LogisticGAM                                                                                               \n",
      "=============================================== ==========================================================\n",
      "Distribution:                      BinomialDist Effective DoF:                                      13.174\n",
      "Link Function:                        LogitLink Log Likelihood:                                  -396.7965\n",
      "Number of Samples:                          891 AIC:                                               819.941\n",
      "                                                AICc:                                             820.4322\n",
      "                                                UBRE:                                               2.9321\n",
      "                                                Scale:                                                 1.0\n",
      "                                                Pseudo R-Squared:                                   0.3312\n",
      "==========================================================================================================\n",
      "Feature Function                  Lambda               Rank         EDoF         P > x        Sig. Code   \n",
      "================================= ==================== ============ ============ ============ ============\n",
      "s(0)                              [0.6]                20           3.6          1.35e-13     ***         \n",
      "s(1)                              [0.6]                20           4.4          2.67e-07     ***         \n",
      "s(2)                              [0.6]                20           4.6          5.89e-02     .           \n",
      "s(3)                              [0.6]                20           0.6          0.00e+00     ***         \n",
      "intercept                                              1            0.0          1.14e-01                 \n",
      "==========================================================================================================\n",
      "Significance codes:  0 '***' 0.001 '**' 0.01 '*' 0.05 '.' 0.1 ' ' 1\n",
      "\n",
      "WARNING: Fitting splines and a linear function to a feature introduces a model identifiability problem\n",
      "         which can cause p-values to appear significant when they are not.\n",
      "\n",
      "WARNING: p-values calculated in this manner behave correctly for un-penalized models or models with\n",
      "         known smoothing parameters, but when smoothing parameters have been estimated, the p-values\n",
      "         are typically lower than they should be, meaning that the tests reject the null too readily.\n"
     ]
    },
    {
     "name": "stderr",
     "output_type": "stream",
     "text": [
      "/opt/conda/lib/python3.7/site-packages/ipykernel_launcher.py:1: UserWarning: KNOWN BUG: p-values computed in this summary are likely much smaller than they should be. \n",
      " \n",
      "Please do not make inferences based on these values! \n",
      "\n",
      "Collaborate on a solution, and stay up to date at: \n",
      "github.com/dswah/pyGAM/issues/163 \n",
      "\n",
      "  \"\"\"Entry point for launching an IPython kernel.\n"
     ]
    }
   ],
   "source": [
    "classifier.summary()"
   ]
  },
  {
   "cell_type": "markdown",
   "execution_count": null,
   "metadata": {
    "papermill": {
     "duration": 0.0046,
     "end_time": "2020-09-02T10:52:05.487469",
     "exception": false,
     "start_time": "2020-09-02T10:52:05.482869",
     "status": "completed"
    },
    "tags": []
   },
   "source": [
    "### visualize each individual feature function\n",
    "Here each of the four spline functions:"
   ]
  },
  {
   "cell_type": "code",
   "execution_count": 5,
   "metadata": {
    "execution": {
     "iopub.execute_input": "2020-09-02T10:52:05.513560Z",
     "iopub.status.busy": "2020-09-02T10:52:05.505016Z",
     "iopub.status.idle": "2020-09-02T10:52:05.689489Z",
     "shell.execute_reply": "2020-09-02T10:52:05.688924Z"
    },
    "papermill": {
     "duration": 0.197224,
     "end_time": "2020-09-02T10:52:05.689592",
     "exception": false,
     "start_time": "2020-09-02T10:52:05.492368",
     "status": "completed"
    },
    "tags": []
   },
   "outputs": [
    {
     "data": {
      "image/png": "[encoded data removed]",
      "text/plain": [
       "<Figure size 1080x288 with 1 Axes>"
      ]
     },
     "metadata": {
      "needs_background": "light"
     },
     "output_type": "display_data"
    }
   ],
   "source": [
    "plt.figure(figsize=(15, 4))\n",
    "for i, term in enumerate(classifier.terms):\n",
    "    if term.isintercept:\n",
    "        continue\n",
    "    plt.plot(classifier.partial_dependence(term=i), label=\"s({})\".format(i))\n",
    "    plt.legend()"
   ]
  },
  {
   "cell_type": "markdown",
   "execution_count": null,
   "metadata": {
    "papermill": {
     "duration": 0.005025,
     "end_time": "2020-09-02T10:52:05.700336",
     "exception": false,
     "start_time": "2020-09-02T10:52:05.695311",
     "status": "completed"
    },
    "tags": []
   },
   "source": [
    "### finally write out a `submission.csv` file"
   ]
  },
  {
   "cell_type": "code",
   "execution_count": 6,
   "metadata": {
    "execution": {
     "iopub.execute_input": "2020-09-02T10:52:05.716970Z",
     "iopub.status.busy": "2020-09-02T10:52:05.716290Z",
     "iopub.status.idle": "2020-09-02T10:52:05.969851Z",
     "shell.execute_reply": "2020-09-02T10:52:05.969253Z"
    },
    "papermill": {
     "duration": 0.264329,
     "end_time": "2020-09-02T10:52:05.969971",
     "exception": false,
     "start_time": "2020-09-02T10:52:05.705642",
     "status": "completed"
    },
    "tags": []
   },
   "outputs": [],
   "source": [
    "output = pd.DataFrame({'PassengerId': test_data.PassengerId, 'Survived': predictions})\n",
    "output.to_csv('submission.csv', index=False)"
   ]
  },
  {
   "cell_type": "markdown",
   "execution_count": null,
   "metadata": {
    "papermill": {
     "duration": 0.005172,
     "end_time": "2020-09-02T10:52:05.980700",
     "exception": false,
     "start_time": "2020-09-02T10:52:05.975528",
     "status": "completed"
    },
    "tags": []
   },
   "source": [
    "# Links\n",
    "* [pyGAM](https://github.com/dswah/pyGAM) on GitHub\n",
    "* [pyGAM documentation](https://pygam.readthedocs.io/en/latest/index.html)\n",
    "* [Daniel Servén and Charlie Brummitt \"pyGAM: Generalized Additive Models in Python\", Zenodo (2018)](http://dx.doi.org/10.5281/zenodo.1208723)\n",
    "\n",
    "# Further reading\n",
    "* [Trevor Hastie and Robert Tibshirani \"Generalized Additive Models\", Statistical Science Vol. 1 pp. 297-310 (1986)](https://projecteuclid.org/download/pdf_1/euclid.ss/1177013604)\n",
    "* [\"Generalized Additive Models\" by Michael Clark](https://m-clark.github.io/generalized-additive-models/)"
   ]
  }
 ],
 "metadata": {
  "kernelspec": {
   "display_name": "Python 3",
   "language": "python",
   "name": "python3"
  },
  "language_info": {
   "codemirror_mode": {
    "name": "ipython",
    "version": 3
   },
   "file_extension": ".py",
   "mimetype": "text/x-python",
   "name": "python",
   "nbconvert_exporter": "python",
   "pygments_lexer": "ipython3",
   "version": "3.7.6"
  },
  "papermill": {
   "duration": 15.757723,
   "end_time": "2020-09-02T10:52:06.094503",
   "environment_variables": {},
   "exception": null,
   "input_path": "__notebook__.ipynb",
   "output_path": "__notebook__.ipynb",
   "parameters": {},
   "start_time": "2020-09-02T10:51:50.336780",
   "version": "2.1.0"
  }
 },
 "nbformat": 4,
 "nbformat_minor": 4
}
