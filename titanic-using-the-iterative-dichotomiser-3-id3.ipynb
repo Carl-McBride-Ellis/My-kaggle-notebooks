{
 "cells": [
  {
   "cell_type": "markdown",
   "execution_count": null,
   "metadata": {
    "papermill": {
     "duration": 0.005298,
     "end_time": "2020-08-21T04:36:04.718490",
     "exception": false,
     "start_time": "2020-08-21T04:36:04.713192",
     "status": "completed"
    },
    "tags": []
   },
   "source": [
    "# Titanic using the ID3 decision tree classifier\n",
    "The **ID3** (Iterative Dichotomiser 3) algorithm is one of the most venerable [decision tree](https://en.wikipedia.org/wiki/Decision_tree_learning) classifiers that there is, published nearly 35 years ago by [Ross Quinlan](https://en.wikipedia.org/wiki/Ross_Quinlan). Here I shall use the `decision-tree-id3` implementation, written by [Daniel Pettersson](https://github.com/svaante)."
   ]
  },
  {
   "cell_type": "code",
   "execution_count": 1,
   "metadata": {
    "_kg_hide-output": true,
    "execution": {
     "iopub.execute_input": "2020-08-21T04:36:04.735882Z",
     "iopub.status.busy": "2020-08-21T04:36:04.735008Z",
     "iopub.status.idle": "2020-08-21T04:36:19.250991Z",
     "shell.execute_reply": "2020-08-21T04:36:19.250002Z"
    },
    "papermill": {
     "duration": 14.528043,
     "end_time": "2020-08-21T04:36:19.251169",
     "exception": false,
     "start_time": "2020-08-21T04:36:04.723126",
     "status": "completed"
    },
    "tags": []
   },
   "outputs": [
    {
     "name": "stdout",
     "output_type": "stream",
     "text": [
      "Collecting decision-tree-id3\r\n",
      "  Downloading decision-tree-id3-0.1.2.tar.gz (12 kB)\r\n",
      "Requirement already satisfied: nose>=1.1.2 in /opt/conda/lib/python3.7/site-packages (from decision-tree-id3) (1.3.7)\r\n",
      "Requirement already satisfied: scikit-learn>=0.17 in /opt/conda/lib/python3.7/site-packages (from decision-tree-id3) (0.23.2)\r\n",
      "Requirement already satisfied: numpy>=1.6.1 in /opt/conda/lib/python3.7/site-packages (from decision-tree-id3) (1.18.5)\r\n",
      "Requirement already satisfied: joblib>=0.11 in /opt/conda/lib/python3.7/site-packages (from scikit-learn>=0.17->decision-tree-id3) (0.14.1)\r\n",
      "Requirement already satisfied: scipy>=0.19.1 in /opt/conda/lib/python3.7/site-packages (from scikit-learn>=0.17->decision-tree-id3) (1.4.1)\r\n",
      "Requirement already satisfied: threadpoolctl>=2.0.0 in /opt/conda/lib/python3.7/site-packages (from scikit-learn>=0.17->decision-tree-id3) (2.1.0)\r\n",
      "Building wheels for collected packages: decision-tree-id3\r\n",
      "  Building wheel for decision-tree-id3 (setup.py) ... \u001b[?25l-\b \b\\\b \bdone\r\n",
      "\u001b[?25h  Created wheel for decision-tree-id3: filename=decision_tree_id3-0.1.2-py3-none-any.whl size=15961 sha256=d58893a6131cac5a694831933146751d65b816a06d9157317687e552a6888448\r\n",
      "  Stored in directory: /root/.cache/pip/wheels/19/24/be/ceeb7146de9186dada6000e36b040c6724548cd7ecbf7c557e\r\n",
      "Successfully built decision-tree-id3\r\n",
      "Installing collected packages: decision-tree-id3\r\n",
      "Successfully installed decision-tree-id3-0.1.2\r\n",
      "\u001b[33mWARNING: You are using pip version 20.2.1; however, version 20.2.2 is available.\r\n",
      "You should consider upgrading via the '/opt/conda/bin/python3.7 -m pip install --upgrade pip' command.\u001b[0m\r\n"
     ]
    }
   ],
   "source": [
    "!pip install decision-tree-id3\n",
    "import pandas  as pd\n",
    "\n",
    "# The following is a workaround for: ImportError: cannot import name 'six' from 'sklearn.externals' \n",
    "import six\n",
    "import sys\n",
    "sys.modules['sklearn.externals.six'] = six"
   ]
  },
  {
   "cell_type": "code",
   "execution_count": 2,
   "metadata": {
    "_cell_guid": "b1076dfc-b9ad-4769-8c92-a6c4dae69d19",
    "_uuid": "8f2839f25d086af736a60e9eeb907d3b93b6e0e5",
    "execution": {
     "iopub.execute_input": "2020-08-21T04:36:19.271316Z",
     "iopub.status.busy": "2020-08-21T04:36:19.270486Z",
     "iopub.status.idle": "2020-08-21T04:36:20.564916Z",
     "shell.execute_reply": "2020-08-21T04:36:20.564026Z"
    },
    "papermill": {
     "duration": 1.309015,
     "end_time": "2020-08-21T04:36:20.565069",
     "exception": false,
     "start_time": "2020-08-21T04:36:19.256054",
     "status": "completed"
    },
    "tags": []
   },
   "outputs": [],
   "source": [
    "#===========================================================================\n",
    "# read in the Titanic data\n",
    "#===========================================================================\n",
    "train_data = pd.read_csv('../input/titanic/train.csv')\n",
    "test_data  = pd.read_csv('../input/titanic/test.csv')\n",
    "\n",
    "#===========================================================================\n",
    "# select some features\n",
    "#===========================================================================\n",
    "features = [\"Pclass\", \"Sex\", \"SibSp\", \"Parch\"]\n",
    "\n",
    "#===========================================================================\n",
    "# for the features that are categorical we use pd.get_dummies\n",
    "#===========================================================================\n",
    "X_train       = pd.get_dummies(train_data[features])\n",
    "y_train       = train_data[\"Survived\"]\n",
    "final_X_test  = pd.get_dummies(test_data[features])\n",
    "\n",
    "#===========================================================================\n",
    "# perform the classification\n",
    "#===========================================================================\n",
    "from id3 import Id3Estimator\n",
    "classifier = Id3Estimator()\n",
    "classifier.fit(X_train, y_train)\n",
    "\n",
    "#===========================================================================\n",
    "# use the model to predict 'Survived' for the test data\n",
    "#===========================================================================\n",
    "predictions = classifier.predict(final_X_test)\n",
    "\n",
    "#===========================================================================\n",
    "# write out CSV submission file\n",
    "#===========================================================================\n",
    "output = pd.DataFrame({'PassengerId': test_data.PassengerId, \n",
    "                       'Survived': predictions})\n",
    "output.to_csv('submission.csv', index=False)\n"
   ]
  },
  {
   "cell_type": "markdown",
   "execution_count": null,
   "metadata": {
    "papermill": {
     "duration": 0.005525,
     "end_time": "2020-08-21T04:36:20.575849",
     "exception": false,
     "start_time": "2020-08-21T04:36:20.570324",
     "status": "completed"
    },
    "tags": []
   },
   "source": [
    "# Links\n",
    "* [J. R. Quinlan \"Induction of decision trees\", Machine Learning vol. **1** pp. 81-106 (1986)](https://link.springer.com/content/pdf/10.1007/BF00116251.pdf)\n",
    "* [decision-tree-id3](https://github.com/svaante/decision-tree-id3) on GitHub\n",
    "* [ID3 algorithm](https://en.wikipedia.org/wiki/ID3_algorithm) on Wikipedia"
   ]
  }
 ],
 "metadata": {
  "kernelspec": {
   "display_name": "Python 3",
   "language": "python",
   "name": "python3"
  },
  "language_info": {
   "codemirror_mode": {
    "name": "ipython",
    "version": 3
   },
   "file_extension": ".py",
   "mimetype": "text/x-python",
   "name": "python",
   "nbconvert_exporter": "python",
   "pygments_lexer": "ipython3",
   "version": "3.7.6"
  },
  "papermill": {
   "duration": 21.463323,
   "end_time": "2020-08-21T04:36:20.690212",
   "environment_variables": {},
   "exception": null,
   "input_path": "__notebook__.ipynb",
   "output_path": "__notebook__.ipynb",
   "parameters": {},
   "start_time": "2020-08-21T04:35:59.226889",
   "version": "2.1.0"
  }
 },
 "nbformat": 4,
 "nbformat_minor": 4
}
